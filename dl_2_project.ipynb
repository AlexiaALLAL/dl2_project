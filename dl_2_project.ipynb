{
  "cells": [
    {
      "cell_type": "code",
      "execution_count": 3,
      "metadata": {
        "id": "7cNVZml79_gK"
      },
      "outputs": [],
      "source": [
        "import numpy as np\n",
        "import scipy.io as sio\n",
        "from sklearn.metrics import f1_score, accuracy_score\n",
        "from sklearn.model_selection import train_test_split\n",
        "from sklearn.preprocessing import OneHotEncoder\n",
        "\n",
        "from keras.datasets import mnist\n",
        "\n",
        "import matplotlib.pyplot as plt\n",
        "\n",
        "import warnings\n",
        "from datetime import datetime\n",
        "\n",
        "import torch\n",
        "from torch import nn\n",
        "from torch.nn import functional as F\n",
        "from torchvision import datasets, transforms\n",
        "from torchvision.utils import save_image\n",
        "from torch.utils.data import DataLoader, TensorDataset\n",
        "from torch.utils.data.sampler import SubsetRandomSampler\n",
        "\n",
        "import os\n",
        "from tqdm import tqdm\n",
        "\n",
        "# suppress warnings\n",
        "warnings.filterwarnings(\"ignore\")\n",
        "\n",
        "%matplotlib inline"
      ]
    },
    {
      "cell_type": "markdown",
      "metadata": {
        "id": "bdQlVvIe9_gk"
      },
      "source": [
        "# Data"
      ]
    },
    {
      "cell_type": "code",
      "execution_count": 98,
      "metadata": {
        "id": "pC_M3JnY9_gp"
      },
      "outputs": [],
      "source": [
        "def lire_alpha_digit(chars):\n",
        "    alpha_digits = sio.loadmat(\"data/binaryalphadigs.mat\", squeeze_me=True)[\"dat\"]\n",
        "\n",
        "    arr = []\n",
        "    y = []\n",
        "    for i, char in enumerate(chars):\n",
        "        if type(char) == int:\n",
        "            char = str(char)\n",
        "\n",
        "        asc_char = ord(char)\n",
        "        if asc_char >= 65 and asc_char <= 90:\n",
        "            for digit in alpha_digits[asc_char - 55]:\n",
        "                arr.append(digit.flatten())\n",
        "                y.append(asc_char - 55)\n",
        "        elif asc_char >= 48 and asc_char <= 57:\n",
        "            for digit in alpha_digits[asc_char - 48]:\n",
        "                arr.append(digit.flatten())\n",
        "                y.append(asc_char - 48)\n",
        "        else:\n",
        "            raise Exception(\"Char not valid\")\n",
        "    return np.array(arr), np.array(y)\n",
        "\n",
        "def one_hot(y):\n",
        "    unique_labels = np.unique(y)\n",
        "    y_ohe = np.zeros((y.shape[0], len(unique_labels)))\n",
        "    for i in range(y.shape[0]):\n",
        "        y_ohe[i, np.where(unique_labels == y[i])] = 1\n",
        "    return y_ohe\n",
        "\n",
        "def lire_mnist(subsample_size=-1):\n",
        "    (X_train, y_train), (X_test, y_test) = mnist.load_data()\n",
        "\n",
        "    # subsample\n",
        "    if subsample_size != -1:\n",
        "        X_train = X_train[:subsample_size]\n",
        "        y_train = y_train[:subsample_size]\n",
        "\n",
        "    # to binary and flatten\n",
        "    X_train_bin = (X_train >= 128).astype(int).reshape(X_train.shape[0], -1)\n",
        "    X_test_bin = (X_test >= 128).astype(int).reshape(X_test.shape[0], -1)\n",
        "\n",
        "    # enc = OneHotEncoder(handle_unknown='ignore')\n",
        "    # # enc.fit(y_train.reshape(-1, 1))\n",
        "    # y_train = enc.fit_transform(y_train.reshape(-1, 1)).todense()\n",
        "    # y_test = enc.fit_transform(y_test.reshape(-1, 1)).todense()\n",
        "    y_train = one_hot(y_train)\n",
        "    y_test = one_hot(y_test)\n",
        "\n",
        "    return X_train_bin, X_test_bin, y_train, y_test\n",
        "\n",
        "def char(idx):\n",
        "    if 0 <= idx <= 9:\n",
        "        return chr(idx + 48)\n",
        "    else:\n",
        "        return chr(idx + 55)"
      ]
    },
    {
      "cell_type": "markdown",
      "metadata": {
        "collapsed": false,
        "id": "-L9JDZ7V9_gv"
      },
      "source": [
        "# Plot utils"
      ]
    },
    {
      "cell_type": "code",
      "execution_count": 188,
      "metadata": {
        "id": "357BRstK9_gv"
      },
      "outputs": [
        {
          "name": "stdout",
          "output_type": "stream",
          "text": [
            "Directory \"save/\" created\n"
          ]
        }
      ],
      "source": [
        "# Create directory to save plots\n",
        "savepath = 'save/'\n",
        "if not os.path.exists(savepath):\n",
        "        os.makedirs(savepath)\n",
        "        print('Directory \"' + str(savepath) + '\" created')\n",
        "\n",
        "def plot_data(X, y=None, save=False):\n",
        "    perm = np.random.permutation(X.shape[0])\n",
        "    plt.figure()\n",
        "    for i in range(9):\n",
        "        plt.subplot(3, 3, i + 1)\n",
        "        plt.xticks([])\n",
        "        plt.yticks([])\n",
        "        plt.grid(False)\n",
        "        plt.imshow(X[perm[i]], cmap=\"gray\")\n",
        "        if y is not None:\n",
        "            plt.xlabel(char(y[perm[i]]))\n",
        "    plt.tight_layout()\n",
        "    if save:\n",
        "        plt.savefig(f\"{savepath + save}.png\")\n",
        "    plt.show()\n",
        "\n",
        "\n",
        "def plot_batched_images(batched_images, variables, save=False):\n",
        "    plt.figure(figsize=(4 * 1.5, len(variables) * 1.5))\n",
        "    for i, images in enumerate(batched_images):\n",
        "        for j, img in enumerate(images):\n",
        "            plt.subplot(len(images), len(batched_images), i + 1 + j * len(variables))\n",
        "            plt.imshow(img, cmap=\"gray\")\n",
        "            if j == 0:\n",
        "                plt.title(f\"{variables[i]}\")\n",
        "            plt.axis(\"off\")\n",
        "    plt.tight_layout()\n",
        "    if save:\n",
        "        plt.savefig(f\"{savepath + save}.png\")\n",
        "    plt.show()\n",
        "\n",
        "\n",
        "def plot_preds(X, y_true, y_pred, save=False):\n",
        "    num_cols = 3\n",
        "    num_rows = 3\n",
        "\n",
        "    # random permutation on test set\n",
        "    perm = np.random.permutation(len(y_true))\n",
        "\n",
        "    plt.figure(figsize=(2 * 2 * num_cols, 2 * num_rows))\n",
        "    for i in range(num_rows * num_cols):\n",
        "        idx = perm[i]\n",
        "        true_label = np.argmax(y_true[idx])\n",
        "        predictions_array = y_pred[idx]\n",
        "        predicted_label = np.argmax(predictions_array)\n",
        "\n",
        "        if true_label == predicted_label:\n",
        "            color = \"blue\"\n",
        "        else:\n",
        "            color = \"red\"\n",
        "\n",
        "        # image\n",
        "        plt.subplot(num_rows, 2 * num_cols, 2 * i + 1)\n",
        "        plt.grid(False)\n",
        "        plt.xticks([])\n",
        "        plt.yticks([])\n",
        "        plt.imshow(X[idx].reshape(28, 28), cmap=plt.cm.gray)\n",
        "        plt.xlabel(\n",
        "            \"truth={}, pred={}, score={:2.0f}\".format(\n",
        "                true_label,\n",
        "                predicted_label,\n",
        "                100 * np.max(predictions_array),\n",
        "                color=color,\n",
        "            )\n",
        "        )\n",
        "\n",
        "        # probs\n",
        "        plt.subplot(num_rows, 2 * num_cols, 2 * i + 2)\n",
        "        plt.grid(False)\n",
        "        plt.xticks([])\n",
        "        plt.yticks([])\n",
        "        bp = plt.bar(range(10), predictions_array, color=\"#777777\")\n",
        "        bp[predicted_label].set_color(\"red\")\n",
        "        bp[true_label].set_color(\"blue\")\n",
        "        plt.ylim([0, 1])\n",
        "\n",
        "    if save:\n",
        "        plt.savefig(f\"{savepath + save}.png\")\n",
        "\n",
        "    plt.show()"
      ]
    },
    {
      "cell_type": "markdown",
      "metadata": {
        "collapsed": false,
        "id": "XXtUweQH9_gy"
      },
      "source": [
        "# Functions"
      ]
    },
    {
      "cell_type": "code",
      "execution_count": 7,
      "metadata": {
        "id": "so1QA32u9_gy"
      },
      "outputs": [],
      "source": [
        "def softmax(x):\n",
        "    \"\"\"\n",
        "    Calcule la fonction softmax.\n",
        "    \"\"\"\n",
        "    return (np.exp(x).T / np.sum(np.exp(x), axis=1)).T\n",
        "\n",
        "\n",
        "def sigmoid(x):\n",
        "    \"\"\"\n",
        "    Calcule la fonction sigmoïde.\n",
        "    \"\"\"\n",
        "    return 1 / (1 + np.exp(-x))\n",
        "\n",
        "\n",
        "def calcul_softmax(layer, X):\n",
        "    \"\"\"\n",
        "    Calcule les probabilités sur les unités de sortie à partir de la fonction softmax. Cette fonction retournera les probabilités sur les unités de sortie et prendra en argument un RBM et des données d'entrée.\n",
        "    \"\"\"\n",
        "    return softmax(np.dot(X, layer.W) + layer.b)"
      ]
    },
    {
      "cell_type": "code",
      "execution_count": 170,
      "metadata": {},
      "outputs": [],
      "source": [
        "def err_rate(acc_list):\n",
        "    \"\"\" Calcule une liste de taux d'erreur avec la liste d'accuracy score en entrée \"\"\"\n",
        "    return [1-acc for acc in acc_list]"
      ]
    },
    {
      "cell_type": "markdown",
      "metadata": {
        "id": "XAnlioCM9_g0"
      },
      "source": [
        "# RBM"
      ]
    },
    {
      "cell_type": "code",
      "execution_count": 8,
      "metadata": {
        "id": "leCPIk8v9_g1"
      },
      "outputs": [],
      "source": [
        "class RBM:\n",
        "    def __init__(self, p, q):\n",
        "        self.W = np.random.normal(0, 0.01, (p, q))\n",
        "        self.a = np.zeros(p)\n",
        "        self.b = np.zeros(q)\n",
        "\n",
        "\n",
        "def init_RBM(p, q):\n",
        "    \"\"\"\n",
        "    Construit et initialise les poids et les biais d'un RBM. Cette fonction retournera une structure RBM avec des poids et biais initialisés.\n",
        "    On initialisera les biais à 0 tandis que les poids seront initialisés aléatoirement suivant une loi normale centrée, de variance égale à 0.01.\n",
        "    \"\"\"\n",
        "    rbm = RBM(p, q)\n",
        "    return rbm\n",
        "\n",
        "\n",
        "def entree_sortie_RBM(rbm, X):\n",
        "    \"\"\"\n",
        "    Calcule la valeur des unités de sortie d'un RBM à partir des données d'entrée et de la fonction sigmoïde.\n",
        "    \"\"\"\n",
        "    return sigmoid(np.dot(X, rbm.W) + rbm.b)\n",
        "\n",
        "\n",
        "def sortie_entree_RBM(rbm, H):\n",
        "    \"\"\"\n",
        "    Calcule la valeur des unités d'entrée d'un RBM à partir des données de sortie et de la fonction sigmoïde.\n",
        "    \"\"\"\n",
        "    return sigmoid(np.dot(H, rbm.W.T) + rbm.a)\n",
        "\n",
        "\n",
        "def train_RBM(rbm, X, epochs, lr, batch_size):\n",
        "    \"\"\"\n",
        "    Apprend un RBM par l'algorithme Contrastive-Divergence-1. Cette fonction retournera un structure\n",
        "    RBM et prendra en argument une structure RBM, le nombre d'itérations de la descente de gradient (epochs),\n",
        "    le learning rate, la taille du mini-batch, des données d'entrées...\n",
        "    \"\"\"\n",
        "    print(\"Training RBM...\")\n",
        "    n = X.shape[0]\n",
        "    p, q = rbm.W.shape\n",
        "    for epoch in tqdm(range(epochs)):\n",
        "        X_copy = np.copy(X)\n",
        "        np.random.shuffle(X_copy)\n",
        "        for i in range(0, n, batch_size):\n",
        "            v_0 = X[i : i + batch_size]\n",
        "            tb = len(v_0)\n",
        "            es_v_0 = entree_sortie_RBM(rbm, v_0)\n",
        "            h_0 = (np.random.uniform(size=(tb, q)) < es_v_0).astype(\"float\")\n",
        "            v_1 = (\n",
        "                np.random.uniform(size=(tb, p)) < sortie_entree_RBM(rbm, h_0)\n",
        "            ).astype(\"float\")\n",
        "            h_1 = entree_sortie_RBM(rbm, v_1)\n",
        "            rbm.W += lr / tb * (np.dot(v_0.T, es_v_0) - np.dot(v_1.T, h_1))\n",
        "            rbm.a += lr / tb * np.sum(v_0 - v_1, axis=0)\n",
        "            rbm.b += lr / tb * np.sum(es_v_0 - h_1, axis=0)\n",
        "    return rbm\n",
        "\n",
        "\n",
        "def generer_image_RBM(rbm, n_iter, n_image):\n",
        "    \"\"\"\n",
        "    Génère des échantillons suivant un RBM. Cette fonction retournera et affichera les images générées et prendra en argument une structure de type RBM, le nombre d'itérations à utiliser dans l'échantillonneur de Gibbs et le nombre d'images à générer.\n",
        "    \"\"\"\n",
        "    p, q = rbm.W.shape\n",
        "    X = (np.random.uniform(size=(n_image, p)) < 0.5).astype(\"float\")\n",
        "    for i in range(n_iter):\n",
        "        H = (np.random.uniform(size=(n_image, q)) < entree_sortie_RBM(rbm, X)).astype(\n",
        "            \"float\"\n",
        "        )\n",
        "        X = (np.random.uniform(size=(n_image, p)) < sortie_entree_RBM(rbm, H)).astype(\n",
        "            \"float\"\n",
        "        )\n",
        "    return X"
      ]
    },
    {
      "cell_type": "markdown",
      "metadata": {
        "id": "Q-cxh8ot9_g2"
      },
      "source": [
        "# DBN"
      ]
    },
    {
      "cell_type": "code",
      "execution_count": 9,
      "metadata": {
        "id": "Kb6o0zF79_g6"
      },
      "outputs": [],
      "source": [
        "class DBN:\n",
        "    def __init__(self, n_layers):\n",
        "        self.layers = []\n",
        "        for i in range(len(n_layers) - 1):\n",
        "            self.layers.append(RBM(n_layers[i], n_layers[i + 1]))\n",
        "\n",
        "    def __len__(self):\n",
        "        return len(self.layers)\n",
        "\n",
        "    def __getitem__(self, i):\n",
        "        return self.layers[i]\n",
        "\n",
        "    def __setitem__(self, i, layer):\n",
        "        self.layers[i] = layer\n",
        "\n",
        "\n",
        "def init_DBN(n_layers):\n",
        "    \"\"\"\n",
        "    Construit et initialise les poids et les biais d'un DBN. Cette fonction retournera un DBN avec des poids et biais initialisés.\n",
        "    On initialisera les biais à 0 tandis que les poids seront initialisés aléatoirement suivant une loi normale centrée, de variance égale à 0.01.\n",
        "    \"\"\"\n",
        "    dbn = DBN(n_layers)\n",
        "    return dbn\n",
        "\n",
        "\n",
        "def train_DBN(dbn, X_init, epochs, lr, batch_size):\n",
        "    \"\"\"\n",
        "    Apprend un DBN par la méthode Greedy Layer-Wise. Cette fonction retournera un DBN pré-entrainé et prendra en argument un DBN, le nombre d'itérations de la descente de gradient, le learning rate, la taille du mini-batch, des données d'entrées.\n",
        "    \"\"\"\n",
        "    print(\"Training DBN...\")\n",
        "    X = X_init\n",
        "    for rbm in dbn:\n",
        "        rbm = train_RBM(rbm, X, epochs, lr, batch_size)\n",
        "        X = entree_sortie_RBM(rbm, X)\n",
        "    return dbn\n",
        "\n",
        "\n",
        "def generer_image_DBN(dbn, n_iter, n_image):\n",
        "    \"\"\"\n",
        "    Génère des échantillons suivant un DBN. Cette fonction retournera et affichera les images générées et prendra en argument un DBN pré-entrainé, le nombre d'itérations à utiliser dans l'échantillonneur de Gibbs et le nombre d'images à générer.\n",
        "    \"\"\"\n",
        "    X = generer_image_RBM(dbn[-1], n_iter, n_image)\n",
        "    for i in range(len(dbn) - 2, -1, -1):\n",
        "        p, q = dbn[i].W.shape\n",
        "        X = (\n",
        "            np.random.uniform(size=(n_image, p)) < sortie_entree_RBM(dbn[i], X)\n",
        "        ).astype(\"float\")\n",
        "    return X"
      ]
    },
    {
      "cell_type": "markdown",
      "metadata": {
        "id": "TU0xPna99_g6"
      },
      "source": [
        "# DNN"
      ]
    },
    {
      "cell_type": "code",
      "execution_count": 127,
      "metadata": {
        "id": "yCcY-T3v9_g7"
      },
      "outputs": [],
      "source": [
        "class FC:\n",
        "    def __init__(self, p, q):\n",
        "        self.W = np.random.normal(0, 0.1, (p, q))\n",
        "        self.b = np.zeros(q)\n",
        "\n",
        "\n",
        "class DNN(DBN):\n",
        "    def __init__(self, n_layers):\n",
        "        self.layers = []\n",
        "        for i in range(len(n_layers) - 2):\n",
        "            self.layers.append(RBM(n_layers[i], n_layers[i + 1]))\n",
        "        self.layers.append(FC(n_layers[-2], n_layers[-1]))\n",
        "\n",
        "\n",
        "def init_DNN(n_layers):\n",
        "    \"\"\"\n",
        "    Construit et initialise les poids et les biais d'un DNN. Cette fonction retournera un DNN avec des poids et biais initialisés.\n",
        "    On initialisera les biais à 0 tandis que les poids seront initialisés aléatoirement suivant une loi normale centrée, de variance égale à 0.01.\n",
        "    \"\"\"\n",
        "    dnn = DNN(n_layers)\n",
        "    return dnn\n",
        "\n",
        "\n",
        "def pretrain_DNN(dnn, X_init, epochs, lr, batch_size):\n",
        "    \"\"\"\n",
        "    Pré-entraine un DNN. Cette fonction retournera un DNN pré-entrainé et prendra en argument un DNN, le nombre d'itérations de la descente de gradient, le learning rate, la taille du mini-batch, des données d'entrées.\n",
        "    \"\"\"\n",
        "    print(\"Pretraining DNN...\")\n",
        "    X = X_init\n",
        "    for rbm in dnn[:-1]:\n",
        "        rbm = train_RBM(rbm, X, epochs, lr, batch_size)\n",
        "        X = entree_sortie_RBM(rbm, X)\n",
        "    return dnn\n",
        "\n",
        "\n",
        "def entree_sortie_reseau(dnn, X):\n",
        "    \"\"\"\n",
        "    Calcule les sorties sur chaque couche du réseau (couche d'entrée inclue) ainsi que les probabilités sur les unités de sortie. Cette fonction retournera une liste contenant les sorties sur chaque couche du réseau ainsi que les probabilités sur les unités de sortie et prendra en argument un DNN et des données d'entrée.\n",
        "    \"\"\"\n",
        "    sorties = [X]\n",
        "    for rbm in dnn[:-1]:\n",
        "        sorties.append(entree_sortie_RBM(rbm, sorties[-1]))\n",
        "    sorties.append(calcul_softmax(dnn[-1], sorties[-1]))\n",
        "    return sorties\n",
        "\n",
        "\n",
        "def retropropagation(dnn, X, y, epochs, lr, batch_size, verbose):\n",
        "    \"\"\"\n",
        "    Estime les poids/biais du réseau à partir de données labellisées. Cette fonction retournera un DNN et prendra en argument un DNN, le nombre d'itérations de la descente de gradient, le learning rate, la taille du mini-batch, des données d'entrée, leur label,...\n",
        "    \"\"\"\n",
        "    print(\"Training DNN...\")\n",
        "    for epoch in tqdm(range(epochs)):\n",
        "        for i in range(0, X.shape[0], batch_size):\n",
        "            X_batch = X[i : i + batch_size]\n",
        "            y_batch = y[i : i + batch_size]\n",
        "            tb = len(X_batch)\n",
        "            sortie = entree_sortie_reseau(\n",
        "                dnn,\n",
        "                X_batch,\n",
        "            )\n",
        "            # compute dL/dZ\n",
        "            d_Z = sortie[-1] - y_batch\n",
        "\n",
        "            for j in range(len(dnn) - 1, -1, -1):\n",
        "                grad_W = 1 / tb * np.dot(sortie[j].T, d_Z)\n",
        "                grad_b = 1 / tb * np.sum(d_Z, axis=0)\n",
        "\n",
        "                # update W and b\n",
        "                dnn.layers[j].W -= lr * grad_W\n",
        "                dnn.layers[j].b -= lr * grad_b\n",
        "\n",
        "                if j == 0:  # no need to compute at last iteration\n",
        "                    break\n",
        "\n",
        "                # compute dL/dA and dL/dZ\n",
        "                d_A = np.dot(d_Z, dnn[j].W.T)\n",
        "                d_Z = d_A * sortie[j] * (1 - sortie[j])\n",
        "            cross_entropy = -np.mean(np.sum(y_batch * np.log(sortie[-1]), axis=1))\n",
        "        if verbose == 2:\n",
        "            print(f\"Epoch {epoch} - CE:\", cross_entropy)\n",
        "    return dnn\n",
        "\n",
        "\n",
        "def test_DNN(dnn, X, y):\n",
        "    \"\"\"\n",
        "    Teste les performances du réseau appris. Cette fonction retournera le taux d'erreur et prendra en argument un DNN appris, un jeu de données test, et les vrais labels associés.\n",
        "    \"\"\"\n",
        "    sortie = entree_sortie_reseau(dnn, X)\n",
        "    # Compute cross entropy\n",
        "    cross_entropy = -np.mean(np.sum(y * np.log(sortie[-1]), axis=1))\n",
        "    return sortie[-1], cross_entropy"
      ]
    },
    {
      "cell_type": "markdown",
      "metadata": {
        "collapsed": false,
        "id": "zN5tOYnZ9_hD"
      },
      "source": [
        "# Run"
      ]
    },
    {
      "cell_type": "code",
      "execution_count": 11,
      "metadata": {
        "id": "vOx6Q5Zq9_hD",
        "pycharm": {
          "is_executing": true
        }
      },
      "outputs": [],
      "source": [
        "def RBM_main(\n",
        "    X,\n",
        "    width: int,\n",
        "    height: int,\n",
        "    q: int,\n",
        "    epochs: int,\n",
        "    lr,\n",
        "    batch_size: int,\n",
        "    n_images: int = 9,\n",
        "):\n",
        "\n",
        "    rbm = init_RBM(p=width * height, q=q)\n",
        "    \n",
        "    train_RBM(rbm, X, epochs, lr, batch_size)\n",
        "\n",
        "    X_gen = generer_image_RBM(rbm, 100, n_images).reshape(-1, width, height)\n",
        "    return X_gen"
      ]
    },
    {
      "cell_type": "code",
      "execution_count": 12,
      "metadata": {
        "id": "KTnblAoD9_hD"
      },
      "outputs": [],
      "source": [
        "def DBN_main(\n",
        "    X,\n",
        "    n_layers,\n",
        "    width: int,\n",
        "    height: int,\n",
        "    epochs: int,\n",
        "    lr,\n",
        "    batch_size: int,\n",
        "    n_images: int = 9,\n",
        "):\n",
        "    dbn = init_DBN(n_layers)\n",
        "\n",
        "    train_DBN(dbn, X, epochs, lr, batch_size)\n",
        "\n",
        "    X_gen = generer_image_DBN(dbn, 100, n_images).reshape(-1, width, height)\n",
        "    return X_gen"
      ]
    },
    {
      "cell_type": "code",
      "execution_count": 173,
      "metadata": {
        "id": "qMVfEf0_9_hE"
      },
      "outputs": [],
      "source": [
        "def DNN_main(\n",
        "    X_train,\n",
        "    X_test,\n",
        "    y_train,\n",
        "    y_test,\n",
        "    n_layers,\n",
        "    lr,\n",
        "    batch_size,\n",
        "    pretrain_iter,\n",
        "    train_iter,\n",
        "    show_preds=False,\n",
        "    verbose=1,\n",
        "):\n",
        "    # Initialisation du DNN\n",
        "    dnn = init_DNN(n_layers)\n",
        "\n",
        "    # Pré-entrainement du DNN\n",
        "    \n",
        "    if pretrain_iter:\n",
        "        print('pré-entrainement')\n",
        "        dnn = pretrain_DNN(dnn, X_train, pretrain_iter, lr, batch_size)\n",
        "\n",
        "    # Entrainement du DNN\n",
        "    print('entrainement')\n",
        "    dnn = retropropagation(\n",
        "        dnn, X_train, y_train, train_iter, lr, batch_size, verbose\n",
        "    )\n",
        "\n",
        "    # Test du DNN\n",
        "    print('test')\n",
        "    y_pred, cross_entropy = test_DNN(dnn, X_test, y_test)\n",
        "    score = accuracy_score(\n",
        "        np.argmax(y_test, axis=1), np.argmax(y_pred, axis=1)\n",
        "    )\n",
        "\n",
        "    if verbose >= 1:\n",
        "        print(\"accuracy_score\", score)\n",
        "\n",
        "    if show_preds:\n",
        "        plot_preds(X_test, y_test, y_pred, save=\"mnist_preds_with_prob\")\n",
        "\n",
        "    return cross_entropy, score"
      ]
    },
    {
      "cell_type": "markdown",
      "metadata": {
        "id": "dVwGq4KJ9_hF"
      },
      "source": [
        "# Etude sur Binary AlphaDigit"
      ]
    },
    {
      "cell_type": "code",
      "execution_count": 14,
      "metadata": {
        "id": "VUTGSxYx9_hF"
      },
      "outputs": [],
      "source": [
        "alphadigit = [str(i) for i in range(10)] + [chr(i) for i in range(65, 91)]\n",
        "\n",
        "X, y = lire_alpha_digit(chars=alphadigit)\n",
        "height = 20\n",
        "width = 16"
      ]
    },
    {
      "cell_type": "code",
      "execution_count": 15,
      "metadata": {
        "colab": {
          "base_uri": "https://localhost:8080/",
          "height": 487
        },
        "id": "EFRCXXUl9_hG",
        "outputId": "e4000432-8c4e-4835-a313-569b475c508b"
      },
      "outputs": [
        {
          "data": {
            "image/png": "[encoded data removed]",
            "text/plain": [
              "<Figure size 640x480 with 9 Axes>"
            ]
          },
          "metadata": {},
          "output_type": "display_data"
        }
      ],
      "source": [
        "plot_data(X.reshape(-1, height, width), y, save=\"binary_alphadigit\")"
      ]
    },
    {
      "cell_type": "markdown",
      "metadata": {
        "collapsed": false,
        "id": "NYbyM7x_9_hH"
      },
      "source": [
        "# Nombre de neurones"
      ]
    },
    {
      "cell_type": "code",
      "execution_count": 16,
      "metadata": {
        "colab": {
          "base_uri": "https://localhost:8080/"
        },
        "id": "uRrLOz5V9_hI",
        "outputId": "08a17c5f-5a3d-463b-8eec-c297a49396eb",
        "pycharm": {
          "is_executing": true
        }
      },
      "outputs": [
        {
          "name": "stdout",
          "output_type": "stream",
          "text": [
            "--- 100 neurons by layer ---\n",
            "Training RBM...\n"
          ]
        },
        {
          "name": "stderr",
          "output_type": "stream",
          "text": [
            "  0%|          | 0/100 [00:00<?, ?it/s]"
          ]
        },
        {
          "name": "stderr",
          "output_type": "stream",
          "text": [
            "100%|██████████| 100/100 [00:02<00:00, 34.02it/s]\n"
          ]
        },
        {
          "name": "stdout",
          "output_type": "stream",
          "text": [
            "Training DBN...\n",
            "Training RBM...\n"
          ]
        },
        {
          "name": "stderr",
          "output_type": "stream",
          "text": [
            "100%|██████████| 100/100 [00:02<00:00, 39.12it/s]\n"
          ]
        },
        {
          "name": "stdout",
          "output_type": "stream",
          "text": [
            "Training RBM...\n"
          ]
        },
        {
          "name": "stderr",
          "output_type": "stream",
          "text": [
            "100%|██████████| 100/100 [00:00<00:00, 245.88it/s]\n"
          ]
        },
        {
          "name": "stdout",
          "output_type": "stream",
          "text": [
            "--- 300 neurons by layer ---\n",
            "Training RBM...\n"
          ]
        },
        {
          "name": "stderr",
          "output_type": "stream",
          "text": [
            "100%|██████████| 100/100 [00:04<00:00, 21.34it/s]\n"
          ]
        },
        {
          "name": "stdout",
          "output_type": "stream",
          "text": [
            "Training DBN...\n",
            "Training RBM...\n"
          ]
        },
        {
          "name": "stderr",
          "output_type": "stream",
          "text": [
            "100%|██████████| 100/100 [00:05<00:00, 19.27it/s]\n"
          ]
        },
        {
          "name": "stdout",
          "output_type": "stream",
          "text": [
            "Training RBM...\n"
          ]
        },
        {
          "name": "stderr",
          "output_type": "stream",
          "text": [
            "100%|██████████| 100/100 [00:05<00:00, 17.92it/s]\n"
          ]
        },
        {
          "name": "stdout",
          "output_type": "stream",
          "text": [
            "--- 500 neurons by layer ---\n",
            "Training RBM...\n"
          ]
        },
        {
          "name": "stderr",
          "output_type": "stream",
          "text": [
            "100%|██████████| 100/100 [00:08<00:00, 11.98it/s]\n"
          ]
        },
        {
          "name": "stdout",
          "output_type": "stream",
          "text": [
            "Training DBN...\n",
            "Training RBM...\n"
          ]
        },
        {
          "name": "stderr",
          "output_type": "stream",
          "text": [
            "100%|██████████| 100/100 [00:07<00:00, 13.03it/s]\n"
          ]
        },
        {
          "name": "stdout",
          "output_type": "stream",
          "text": [
            "Training RBM...\n"
          ]
        },
        {
          "name": "stderr",
          "output_type": "stream",
          "text": [
            "100%|██████████| 100/100 [00:12<00:00,  7.99it/s]\n"
          ]
        },
        {
          "name": "stdout",
          "output_type": "stream",
          "text": [
            "--- 700 neurons by layer ---\n",
            "Training RBM...\n"
          ]
        },
        {
          "name": "stderr",
          "output_type": "stream",
          "text": [
            "100%|██████████| 100/100 [00:09<00:00, 10.32it/s]\n"
          ]
        },
        {
          "name": "stdout",
          "output_type": "stream",
          "text": [
            "Training DBN...\n",
            "Training RBM...\n"
          ]
        },
        {
          "name": "stderr",
          "output_type": "stream",
          "text": [
            "100%|██████████| 100/100 [00:10<00:00,  9.75it/s]\n"
          ]
        },
        {
          "name": "stdout",
          "output_type": "stream",
          "text": [
            "Training RBM...\n"
          ]
        },
        {
          "name": "stderr",
          "output_type": "stream",
          "text": [
            "100%|██████████| 100/100 [00:24<00:00,  4.02it/s]\n"
          ]
        }
      ],
      "source": [
        "digit = [str(i) for i in range(2, 10)]\n",
        "X, y = lire_alpha_digit(chars=digit)\n",
        "\n",
        "n_neurons = range(100, 701, 200)\n",
        "\n",
        "epochs = 100\n",
        "lr = 0.1\n",
        "batch_size = 10\n",
        "\n",
        "rbm_images = []\n",
        "dbn_images = []\n",
        "\n",
        "for n in n_neurons:\n",
        "    print(f\"--- {n} neurons by layer ---\")\n",
        "\n",
        "    X_gen_rbm = RBM_main(\n",
        "        X,\n",
        "        height,\n",
        "        width,\n",
        "        n,\n",
        "        epochs,\n",
        "        lr,\n",
        "        batch_size,\n",
        "    )\n",
        "\n",
        "    idxs = np.random.choice(X_gen_rbm.shape[0], 4, replace=False)\n",
        "    rbm_images.append(X_gen_rbm[idxs])\n",
        "\n",
        "    X_gen_dbn = DBN_main(\n",
        "        X,\n",
        "        [320, n, n],\n",
        "        height,\n",
        "        width,\n",
        "        epochs,\n",
        "        lr,\n",
        "        batch_size,\n",
        "    )\n",
        "\n",
        "    idxs = np.random.choice(X_gen_dbn.shape[0], 4, replace=False)\n",
        "    dbn_images.append(X_gen_dbn[idxs])"
      ]
    },
    {
      "cell_type": "code",
      "execution_count": 17,
      "metadata": {
        "colab": {
          "base_uri": "https://localhost:8080/",
          "height": 1000
        },
        "id": "xMyERO4U9_hI",
        "outputId": "e53fec5b-dee8-40d8-8a2d-3176e10df7d5"
      },
      "outputs": [
        {
          "name": "stdout",
          "output_type": "stream",
          "text": [
            "RBM\n"
          ]
        },
        {
          "data": {
            "image/png": "[encoded data removed]",
            "text/plain": [
              "<Figure size 600x600 with 16 Axes>"
            ]
          },
          "metadata": {},
          "output_type": "display_data"
        },
        {
          "name": "stdout",
          "output_type": "stream",
          "text": [
            "DBN\n"
          ]
        },
        {
          "data": {
            "image/png": "[encoded data removed]",
            "text/plain": [
              "<Figure size 600x600 with 16 Axes>"
            ]
          },
          "metadata": {},
          "output_type": "display_data"
        }
      ],
      "source": [
        "print(\"RBM\")\n",
        "plot_batched_images(rbm_images, n_neurons, save=\"rbm_n_neurons\")\n",
        "\n",
        "print(\"DBN\")\n",
        "plot_batched_images(dbn_images, n_neurons, save=\"dbn_n_neurons\")"
      ]
    },
    {
      "cell_type": "markdown",
      "metadata": {
        "collapsed": false,
        "id": "fONZAFUC9_hJ"
      },
      "source": [
        "# Nombre de couches"
      ]
    },
    {
      "cell_type": "code",
      "execution_count": 18,
      "metadata": {
        "colab": {
          "base_uri": "https://localhost:8080/"
        },
        "id": "6O8qRRJT9_hJ",
        "outputId": "fd34f5f3-d06e-4dba-c2bd-8ed1798eb805"
      },
      "outputs": [
        {
          "name": "stdout",
          "output_type": "stream",
          "text": [
            "--- 2 layers ---\n",
            "Training DBN...\n",
            "Training RBM...\n"
          ]
        },
        {
          "name": "stderr",
          "output_type": "stream",
          "text": [
            "  0%|          | 0/100 [00:00<?, ?it/s]"
          ]
        },
        {
          "name": "stderr",
          "output_type": "stream",
          "text": [
            "100%|██████████| 100/100 [00:04<00:00, 20.25it/s]\n"
          ]
        },
        {
          "name": "stdout",
          "output_type": "stream",
          "text": [
            "Training RBM...\n"
          ]
        },
        {
          "name": "stderr",
          "output_type": "stream",
          "text": [
            "100%|██████████| 100/100 [00:02<00:00, 38.84it/s]\n"
          ]
        },
        {
          "name": "stdout",
          "output_type": "stream",
          "text": [
            "--- 3 layers ---\n",
            "Training DBN...\n",
            "Training RBM...\n"
          ]
        },
        {
          "name": "stderr",
          "output_type": "stream",
          "text": [
            "100%|██████████| 100/100 [00:03<00:00, 30.99it/s]\n"
          ]
        },
        {
          "name": "stdout",
          "output_type": "stream",
          "text": [
            "Training RBM...\n"
          ]
        },
        {
          "name": "stderr",
          "output_type": "stream",
          "text": [
            "100%|██████████| 100/100 [00:02<00:00, 40.91it/s]\n"
          ]
        },
        {
          "name": "stdout",
          "output_type": "stream",
          "text": [
            "Training RBM...\n"
          ]
        },
        {
          "name": "stderr",
          "output_type": "stream",
          "text": [
            "100%|██████████| 100/100 [00:02<00:00, 34.75it/s]\n"
          ]
        },
        {
          "name": "stdout",
          "output_type": "stream",
          "text": [
            "--- 4 layers ---\n",
            "Training DBN...\n",
            "Training RBM...\n"
          ]
        },
        {
          "name": "stderr",
          "output_type": "stream",
          "text": [
            "100%|██████████| 100/100 [00:03<00:00, 30.75it/s]\n"
          ]
        },
        {
          "name": "stdout",
          "output_type": "stream",
          "text": [
            "Training RBM...\n"
          ]
        },
        {
          "name": "stderr",
          "output_type": "stream",
          "text": [
            "100%|██████████| 100/100 [00:03<00:00, 30.86it/s]\n"
          ]
        },
        {
          "name": "stdout",
          "output_type": "stream",
          "text": [
            "Training RBM...\n"
          ]
        },
        {
          "name": "stderr",
          "output_type": "stream",
          "text": [
            "100%|██████████| 100/100 [00:03<00:00, 28.99it/s]\n"
          ]
        },
        {
          "name": "stdout",
          "output_type": "stream",
          "text": [
            "Training RBM...\n"
          ]
        },
        {
          "name": "stderr",
          "output_type": "stream",
          "text": [
            "100%|██████████| 100/100 [00:03<00:00, 32.05it/s]\n"
          ]
        },
        {
          "name": "stdout",
          "output_type": "stream",
          "text": [
            "--- 5 layers ---\n",
            "Training DBN...\n",
            "Training RBM...\n"
          ]
        },
        {
          "name": "stderr",
          "output_type": "stream",
          "text": [
            "100%|██████████| 100/100 [00:04<00:00, 24.96it/s]\n"
          ]
        },
        {
          "name": "stdout",
          "output_type": "stream",
          "text": [
            "Training RBM...\n"
          ]
        },
        {
          "name": "stderr",
          "output_type": "stream",
          "text": [
            "100%|██████████| 100/100 [00:02<00:00, 41.63it/s]\n"
          ]
        },
        {
          "name": "stdout",
          "output_type": "stream",
          "text": [
            "Training RBM...\n"
          ]
        },
        {
          "name": "stderr",
          "output_type": "stream",
          "text": [
            "100%|██████████| 100/100 [00:02<00:00, 35.93it/s]\n"
          ]
        },
        {
          "name": "stdout",
          "output_type": "stream",
          "text": [
            "Training RBM...\n"
          ]
        },
        {
          "name": "stderr",
          "output_type": "stream",
          "text": [
            "100%|██████████| 100/100 [00:02<00:00, 38.58it/s]\n"
          ]
        },
        {
          "name": "stdout",
          "output_type": "stream",
          "text": [
            "Training RBM...\n"
          ]
        },
        {
          "name": "stderr",
          "output_type": "stream",
          "text": [
            "100%|██████████| 100/100 [00:02<00:00, 46.39it/s]\n"
          ]
        }
      ],
      "source": [
        "digit = [str(i) for i in range(2, 10)]\n",
        "X, y = lire_alpha_digit(chars=digit)\n",
        "\n",
        "n_layers = range(2, 6)\n",
        "\n",
        "epochs = 100\n",
        "lr = 0.1\n",
        "batch_size = 10\n",
        "q = 200\n",
        "\n",
        "dbn_images = []\n",
        "\n",
        "for n in n_layers:\n",
        "    print(f\"--- {n} layers ---\")\n",
        "    layers = [200] * n\n",
        "\n",
        "    X_gen_dbn = DBN_main(\n",
        "        X,\n",
        "        [320] + layers,\n",
        "        height,\n",
        "        width,\n",
        "        epochs,\n",
        "        lr,\n",
        "        batch_size,\n",
        "    )\n",
        "\n",
        "    idxs = np.random.choice(X_gen_dbn.shape[0], 4, replace=False)\n",
        "    dbn_images.append(X_gen_dbn[idxs])"
      ]
    },
    {
      "cell_type": "code",
      "execution_count": 19,
      "metadata": {
        "colab": {
          "base_uri": "https://localhost:8080/",
          "height": 624
        },
        "id": "zXmCclYD9_hJ",
        "outputId": "64649bbb-45ff-42c6-fd74-ac8a988d5b43"
      },
      "outputs": [
        {
          "name": "stdout",
          "output_type": "stream",
          "text": [
            "DBN\n"
          ]
        },
        {
          "data": {
            "image/png": "[encoded data removed]",
            "text/plain": [
              "<Figure size 600x600 with 16 Axes>"
            ]
          },
          "metadata": {},
          "output_type": "display_data"
        }
      ],
      "source": [
        "print(\"DBN\")\n",
        "plot_batched_images(dbn_images, n_layers, save=\"dbn_n_layers\")"
      ]
    },
    {
      "cell_type": "markdown",
      "metadata": {
        "collapsed": false,
        "id": "yDjUX8vT9_hK"
      },
      "source": [
        "# Nombre de caractères"
      ]
    },
    {
      "cell_type": "code",
      "execution_count": 20,
      "metadata": {
        "colab": {
          "base_uri": "https://localhost:8080/"
        },
        "id": "M2Z8PLN89_hK",
        "outputId": "194152ec-3439-447b-fcc8-6901f0699b28"
      },
      "outputs": [
        {
          "name": "stdout",
          "output_type": "stream",
          "text": [
            "Small: ['2', '3', '4']\n",
            "Medium: ['2', '3', '4', '5', '6', '7', '8', '9']\n",
            "Large: ['A', 'B', 'C', 'D', 'E', 'F', 'G', 'H', 'I', 'J', 'K', 'L', 'M', 'N', 'O', 'P', 'Q', 'R', 'S', 'T', 'U', 'V', 'W', 'X', 'Y', 'Z']\n"
          ]
        }
      ],
      "source": [
        "small = [\"2\", \"3\", \"4\"]\n",
        "medium = [str(i) for i in range(2, 10)]\n",
        "large = [chr(i) for i in range(65, 91)]\n",
        "\n",
        "print(\"Small:\", small)\n",
        "print(\"Medium:\", medium)\n",
        "print(\"Large:\", large)"
      ]
    },
    {
      "cell_type": "code",
      "execution_count": 21,
      "metadata": {
        "colab": {
          "base_uri": "https://localhost:8080/"
        },
        "id": "H-bA9Y2o9_hK",
        "outputId": "5ada6f12-0ca8-4678-e0f9-1ff1130e961c"
      },
      "outputs": [
        {
          "name": "stdout",
          "output_type": "stream",
          "text": [
            "--- Size: small ---\n",
            "Training RBM...\n"
          ]
        },
        {
          "name": "stderr",
          "output_type": "stream",
          "text": [
            "  0%|          | 0/100 [00:00<?, ?it/s]"
          ]
        },
        {
          "name": "stderr",
          "output_type": "stream",
          "text": [
            "100%|██████████| 100/100 [00:01<00:00, 58.52it/s]\n"
          ]
        },
        {
          "name": "stdout",
          "output_type": "stream",
          "text": [
            "Training DBN...\n",
            "Training RBM...\n"
          ]
        },
        {
          "name": "stderr",
          "output_type": "stream",
          "text": [
            "100%|██████████| 100/100 [00:01<00:00, 65.41it/s]\n"
          ]
        },
        {
          "name": "stdout",
          "output_type": "stream",
          "text": [
            "Training RBM...\n"
          ]
        },
        {
          "name": "stderr",
          "output_type": "stream",
          "text": [
            "100%|██████████| 100/100 [00:01<00:00, 88.59it/s]\n"
          ]
        },
        {
          "name": "stdout",
          "output_type": "stream",
          "text": [
            "--- Size: medium ---\n",
            "Training RBM...\n"
          ]
        },
        {
          "name": "stderr",
          "output_type": "stream",
          "text": [
            "100%|██████████| 100/100 [00:04<00:00, 21.90it/s]\n"
          ]
        },
        {
          "name": "stdout",
          "output_type": "stream",
          "text": [
            "Training DBN...\n",
            "Training RBM...\n"
          ]
        },
        {
          "name": "stderr",
          "output_type": "stream",
          "text": [
            "100%|██████████| 100/100 [00:04<00:00, 22.10it/s]\n"
          ]
        },
        {
          "name": "stdout",
          "output_type": "stream",
          "text": [
            "Training RBM...\n"
          ]
        },
        {
          "name": "stderr",
          "output_type": "stream",
          "text": [
            "100%|██████████| 100/100 [00:04<00:00, 23.66it/s]\n"
          ]
        },
        {
          "name": "stdout",
          "output_type": "stream",
          "text": [
            "--- Size: large ---\n",
            "Training RBM...\n"
          ]
        },
        {
          "name": "stderr",
          "output_type": "stream",
          "text": [
            "100%|██████████| 100/100 [00:11<00:00,  8.36it/s]\n"
          ]
        },
        {
          "name": "stdout",
          "output_type": "stream",
          "text": [
            "Training DBN...\n",
            "Training RBM...\n"
          ]
        },
        {
          "name": "stderr",
          "output_type": "stream",
          "text": [
            "100%|██████████| 100/100 [00:13<00:00,  7.31it/s]\n"
          ]
        },
        {
          "name": "stdout",
          "output_type": "stream",
          "text": [
            "Training RBM...\n"
          ]
        },
        {
          "name": "stderr",
          "output_type": "stream",
          "text": [
            "100%|██████████| 100/100 [00:09<00:00, 10.89it/s]\n"
          ]
        }
      ],
      "source": [
        "epochs = 100\n",
        "lr = 0.1\n",
        "batch_size = 10\n",
        "q = 200\n",
        "n_layers = [320, 200, 200]\n",
        "\n",
        "rbm_images = []\n",
        "dbn_images = []\n",
        "\n",
        "for size, chars in zip([\"small\", \"medium\", \"large\"], [small, medium, large]):\n",
        "    print(\"--- Size:\", size, \"---\")\n",
        "    X, y = lire_alpha_digit(chars=chars)\n",
        "\n",
        "    X_gen_rbm = RBM_main(\n",
        "        X,\n",
        "        height,\n",
        "        width,\n",
        "        q,\n",
        "        epochs,\n",
        "        lr,\n",
        "        batch_size,\n",
        "    )\n",
        "\n",
        "    idxs = np.random.choice(X_gen_rbm.shape[0], 4, replace=False)\n",
        "    rbm_images.append(X_gen_rbm[idxs])\n",
        "\n",
        "    X_gen_dbn = DBN_main(\n",
        "        X,\n",
        "        n_layers,\n",
        "        height,\n",
        "        width,\n",
        "        epochs,\n",
        "        lr,\n",
        "        batch_size,\n",
        "    )\n",
        "\n",
        "    idxs = np.random.choice(X_gen_dbn.shape[0], 4, replace=False)\n",
        "    dbn_images.append(X_gen_dbn[idxs])"
      ]
    },
    {
      "cell_type": "code",
      "execution_count": 22,
      "metadata": {
        "colab": {
          "base_uri": "https://localhost:8080/",
          "height": 930
        },
        "id": "FACHV5Og9_hL",
        "outputId": "6dd0e6a8-f05e-4830-a63a-1f61c20c9678"
      },
      "outputs": [
        {
          "name": "stdout",
          "output_type": "stream",
          "text": [
            "RBM\n"
          ]
        },
        {
          "data": {
            "image/png": "[encoded data removed]",
            "text/plain": [
              "<Figure size 600x450 with 12 Axes>"
            ]
          },
          "metadata": {},
          "output_type": "display_data"
        },
        {
          "name": "stdout",
          "output_type": "stream",
          "text": [
            "DBN\n"
          ]
        },
        {
          "data": {
            "image/png": "[encoded data removed]",
            "text/plain": [
              "<Figure size 600x450 with 12 Axes>"
            ]
          },
          "metadata": {},
          "output_type": "display_data"
        }
      ],
      "source": [
        "print(\"RBM\")\n",
        "plot_batched_images(rbm_images, [\"small\", \"medium\", \"large\"], save=\"rbm_dataset_size\")\n",
        "\n",
        "print(\"DBN\")\n",
        "plot_batched_images(dbn_images, [\"small\", \"medium\", \"large\"], save=\"dbn_dataset_size\")"
      ]
    },
    {
      "cell_type": "markdown",
      "metadata": {
        "collapsed": false,
        "id": "QcCYxriu9_hL"
      },
      "source": [
        "# Etude sur MNIST"
      ]
    },
    {
      "cell_type": "code",
      "execution_count": 184,
      "metadata": {
        "id": "pd5o6QOm9_hL"
      },
      "outputs": [],
      "source": [
        "#----------\n",
        "train_size = 12000 # Default = -1\n",
        "n_main = 10 # standard number of neurons per layer (default = 100)\n",
        "#----------\n",
        "\n",
        "X_train, X_test, y_train, y_test = lire_mnist(subsample_size=train_size) # -1\n",
        "\n",
        "batch_size = 256 # 2000 \n",
        "lr = 0.1\n",
        "\n",
        "n_layers = [784, 5, 10]\n",
        "pretrain_iter = 50 # 100\n",
        "train_iter = 100 # 200"
      ]
    },
    {
      "cell_type": "code",
      "execution_count": 139,
      "metadata": {
        "colab": {
          "base_uri": "https://localhost:8080/",
          "height": 486
        },
        "id": "1IpCFaCD9_hL",
        "outputId": "23913fca-be6a-4c17-c27f-fc3f88618c04"
      },
      "outputs": [
        {
          "data": {
            "image/png": "[encoded data removed]",
            "text/plain": [
              "<Figure size 640x480 with 9 Axes>"
            ]
          },
          "metadata": {},
          "output_type": "display_data"
        }
      ],
      "source": [
        "plot_data(X_train.reshape(-1, 28, 28), save=\"mnist\")"
      ]
    },
    {
      "cell_type": "code",
      "execution_count": 140,
      "metadata": {
        "colab": {
          "base_uri": "https://localhost:8080/",
          "height": 533
        },
        "id": "sQ7RTxqkb9ga",
        "outputId": "5253434e-f74a-4bc0-e28e-282332f83a55"
      },
      "outputs": [
        {
          "name": "stdout",
          "output_type": "stream",
          "text": [
            "pré-entrainement\n",
            "entrainement\n",
            "Training DNN...\n"
          ]
        },
        {
          "name": "stderr",
          "output_type": "stream",
          "text": [
            "100%|██████████| 100/100 [00:07<00:00, 12.93it/s]\n"
          ]
        },
        {
          "name": "stdout",
          "output_type": "stream",
          "text": [
            "test\n",
            "accuracy_score 0.8993\n"
          ]
        },
        {
          "data": {
            "image/png": "[encoded data removed]",
            "text/plain": [
              "<Figure size 1200x600 with 18 Axes>"
            ]
          },
          "metadata": {},
          "output_type": "display_data"
        }
      ],
      "source": [
        "ce, score = DNN_main(\n",
        "    X_train,\n",
        "    X_test,\n",
        "    y_train,\n",
        "    y_test,\n",
        "    n_layers=[784, n_main, 10], #--------\n",
        "    lr=lr,\n",
        "    batch_size=batch_size,\n",
        "    pretrain_iter=None,\n",
        "    train_iter=train_iter,\n",
        "    show_preds=True,\n",
        "    verbose=True,\n",
        ")"
      ]
    },
    {
      "cell_type": "markdown",
      "metadata": {
        "id": "zPcp4h5m9_hM",
        "outputId": "fd60b7b6-f659-44f2-f3b6-fd5acd9920d2"
      },
      "source": [
        "#### Fig 1 : 2 courbes exprimant le taux d’erreur des 2 réseaux en fonction du nombre de couches (par exemple 2 couches de 200, puis 3 couches de 200, ... puis 5 couches de 200). On utilisera toutes les données d’apprentissage et test;"
      ]
    },
    {
      "cell_type": "code",
      "execution_count": 185,
      "metadata": {
        "colab": {
          "base_uri": "https://localhost:8080/"
        },
        "id": "twOLTI61b9gb",
        "outputId": "0c3d3820-2c85-45df-c19d-f3cfefcb9ee0"
      },
      "outputs": [
        {
          "name": "stdout",
          "output_type": "stream",
          "text": [
            "--- 1 hidden layer(s) ---\n",
            "pré-entrainement\n",
            "Pretraining DNN...\n",
            "Training RBM...\n"
          ]
        },
        {
          "name": "stderr",
          "output_type": "stream",
          "text": [
            "100%|██████████| 50/50 [00:20<00:00,  2.49it/s]\n"
          ]
        },
        {
          "name": "stdout",
          "output_type": "stream",
          "text": [
            "entrainement\n",
            "Training DNN...\n"
          ]
        },
        {
          "name": "stderr",
          "output_type": "stream",
          "text": [
            "100%|██████████| 100/100 [00:06<00:00, 14.82it/s]\n"
          ]
        },
        {
          "name": "stdout",
          "output_type": "stream",
          "text": [
            "test\n",
            "accuracy_score 0.7235\n",
            "entrainement\n",
            "Training DNN...\n"
          ]
        },
        {
          "name": "stderr",
          "output_type": "stream",
          "text": [
            "100%|██████████| 100/100 [00:06<00:00, 15.81it/s]\n"
          ]
        },
        {
          "name": "stdout",
          "output_type": "stream",
          "text": [
            "test\n",
            "accuracy_score 0.8901\n",
            "--- 2 hidden layer(s) ---\n",
            "pré-entrainement\n",
            "Pretraining DNN...\n",
            "Training RBM...\n"
          ]
        },
        {
          "name": "stderr",
          "output_type": "stream",
          "text": [
            "100%|██████████| 50/50 [00:20<00:00,  2.48it/s]\n"
          ]
        },
        {
          "name": "stdout",
          "output_type": "stream",
          "text": [
            "Training RBM...\n"
          ]
        },
        {
          "name": "stderr",
          "output_type": "stream",
          "text": [
            "100%|██████████| 50/50 [00:00<00:00, 82.18it/s]\n"
          ]
        },
        {
          "name": "stdout",
          "output_type": "stream",
          "text": [
            "entrainement\n",
            "Training DNN...\n"
          ]
        },
        {
          "name": "stderr",
          "output_type": "stream",
          "text": [
            "100%|██████████| 100/100 [00:06<00:00, 15.46it/s]\n"
          ]
        },
        {
          "name": "stdout",
          "output_type": "stream",
          "text": [
            "test\n",
            "accuracy_score 0.5671\n",
            "entrainement\n",
            "Training DNN...\n"
          ]
        },
        {
          "name": "stderr",
          "output_type": "stream",
          "text": [
            "100%|██████████| 100/100 [00:06<00:00, 15.06it/s]\n"
          ]
        },
        {
          "name": "stdout",
          "output_type": "stream",
          "text": [
            "test\n",
            "accuracy_score 0.5748\n",
            "--- 3 hidden layer(s) ---\n",
            "pré-entrainement\n",
            "Pretraining DNN...\n",
            "Training RBM...\n"
          ]
        },
        {
          "name": "stderr",
          "output_type": "stream",
          "text": [
            "100%|██████████| 50/50 [00:23<00:00,  2.17it/s]\n"
          ]
        },
        {
          "name": "stdout",
          "output_type": "stream",
          "text": [
            "Training RBM...\n"
          ]
        },
        {
          "name": "stderr",
          "output_type": "stream",
          "text": [
            "100%|██████████| 50/50 [00:00<00:00, 77.42it/s]\n"
          ]
        },
        {
          "name": "stdout",
          "output_type": "stream",
          "text": [
            "Training RBM...\n"
          ]
        },
        {
          "name": "stderr",
          "output_type": "stream",
          "text": [
            "100%|██████████| 50/50 [00:00<00:00, 77.24it/s]\n"
          ]
        },
        {
          "name": "stdout",
          "output_type": "stream",
          "text": [
            "entrainement\n",
            "Training DNN...\n"
          ]
        },
        {
          "name": "stderr",
          "output_type": "stream",
          "text": [
            "100%|██████████| 100/100 [00:08<00:00, 12.46it/s]\n"
          ]
        },
        {
          "name": "stdout",
          "output_type": "stream",
          "text": [
            "test\n",
            "accuracy_score 0.5245\n",
            "entrainement\n",
            "Training DNN...\n"
          ]
        },
        {
          "name": "stderr",
          "output_type": "stream",
          "text": [
            "100%|██████████| 100/100 [00:08<00:00, 12.37it/s]\n"
          ]
        },
        {
          "name": "stdout",
          "output_type": "stream",
          "text": [
            "test\n",
            "accuracy_score 0.1135\n",
            "--- 4 hidden layer(s) ---\n",
            "pré-entrainement\n",
            "Pretraining DNN...\n",
            "Training RBM...\n"
          ]
        },
        {
          "name": "stderr",
          "output_type": "stream",
          "text": [
            "100%|██████████| 50/50 [00:20<00:00,  2.42it/s]\n"
          ]
        },
        {
          "name": "stdout",
          "output_type": "stream",
          "text": [
            "Training RBM...\n"
          ]
        },
        {
          "name": "stderr",
          "output_type": "stream",
          "text": [
            "100%|██████████| 50/50 [00:00<00:00, 81.87it/s]\n"
          ]
        },
        {
          "name": "stdout",
          "output_type": "stream",
          "text": [
            "Training RBM...\n"
          ]
        },
        {
          "name": "stderr",
          "output_type": "stream",
          "text": [
            "100%|██████████| 50/50 [00:00<00:00, 79.04it/s]\n"
          ]
        },
        {
          "name": "stdout",
          "output_type": "stream",
          "text": [
            "Training RBM...\n"
          ]
        },
        {
          "name": "stderr",
          "output_type": "stream",
          "text": [
            "100%|██████████| 50/50 [00:00<00:00, 87.68it/s]\n"
          ]
        },
        {
          "name": "stdout",
          "output_type": "stream",
          "text": [
            "entrainement\n",
            "Training DNN...\n"
          ]
        },
        {
          "name": "stderr",
          "output_type": "stream",
          "text": [
            "100%|██████████| 100/100 [00:08<00:00, 12.14it/s]\n"
          ]
        },
        {
          "name": "stdout",
          "output_type": "stream",
          "text": [
            "test\n",
            "accuracy_score 0.2683\n",
            "entrainement\n",
            "Training DNN...\n"
          ]
        },
        {
          "name": "stderr",
          "output_type": "stream",
          "text": [
            "100%|██████████| 100/100 [00:10<00:00,  9.62it/s]\n"
          ]
        },
        {
          "name": "stdout",
          "output_type": "stream",
          "text": [
            "test\n",
            "accuracy_score 0.1135\n",
            "--- 5 hidden layer(s) ---\n",
            "pré-entrainement\n",
            "Pretraining DNN...\n",
            "Training RBM...\n"
          ]
        },
        {
          "name": "stderr",
          "output_type": "stream",
          "text": [
            "100%|██████████| 50/50 [00:16<00:00,  2.98it/s]\n"
          ]
        },
        {
          "name": "stdout",
          "output_type": "stream",
          "text": [
            "Training RBM...\n"
          ]
        },
        {
          "name": "stderr",
          "output_type": "stream",
          "text": [
            "100%|██████████| 50/50 [00:00<00:00, 80.16it/s]\n"
          ]
        },
        {
          "name": "stdout",
          "output_type": "stream",
          "text": [
            "Training RBM...\n"
          ]
        },
        {
          "name": "stderr",
          "output_type": "stream",
          "text": [
            "100%|██████████| 50/50 [00:00<00:00, 83.70it/s]\n"
          ]
        },
        {
          "name": "stdout",
          "output_type": "stream",
          "text": [
            "Training RBM...\n"
          ]
        },
        {
          "name": "stderr",
          "output_type": "stream",
          "text": [
            "100%|██████████| 50/50 [00:00<00:00, 79.89it/s]\n"
          ]
        },
        {
          "name": "stdout",
          "output_type": "stream",
          "text": [
            "Training RBM...\n"
          ]
        },
        {
          "name": "stderr",
          "output_type": "stream",
          "text": [
            "100%|██████████| 50/50 [00:00<00:00, 79.40it/s]\n"
          ]
        },
        {
          "name": "stdout",
          "output_type": "stream",
          "text": [
            "entrainement\n",
            "Training DNN...\n"
          ]
        },
        {
          "name": "stderr",
          "output_type": "stream",
          "text": [
            "100%|██████████| 100/100 [00:07<00:00, 13.52it/s]\n"
          ]
        },
        {
          "name": "stdout",
          "output_type": "stream",
          "text": [
            "test\n",
            "accuracy_score 0.1135\n",
            "entrainement\n",
            "Training DNN...\n"
          ]
        },
        {
          "name": "stderr",
          "output_type": "stream",
          "text": [
            "100%|██████████| 100/100 [00:07<00:00, 13.50it/s]\n"
          ]
        },
        {
          "name": "stdout",
          "output_type": "stream",
          "text": [
            "test\n",
            "accuracy_score 0.1135\n"
          ]
        }
      ],
      "source": [
        "acc_1 = []\n",
        "acc_2 = []\n",
        "\n",
        "sizes = range(1, 6)\n",
        "\n",
        "for size in sizes:\n",
        "    print(f\"--- {size} hidden layer(s) ---\")\n",
        "    n_layers = [784] + [n_main] * size + [10]  #--------\n",
        "    \"\"\"-------------- Model 1 : pre-train + train -------------------\"\"\"\n",
        "    ce_model1, score__model1 = DNN_main(\n",
        "        X_train,\n",
        "        X_test,\n",
        "        y_train,\n",
        "        y_test,\n",
        "        n_layers=n_layers,\n",
        "        lr=lr,\n",
        "        batch_size=batch_size,\n",
        "        pretrain_iter=pretrain_iter,\n",
        "        train_iter=train_iter,\n",
        "        verbose=1,\n",
        "    )\n",
        "    acc_1.append(score__model1)\n",
        "\n",
        "    \"\"\"-------------- Model 2 : train only ---------------------------\"\"\"\n",
        "    ce_model2, score__model2 = DNN_main(\n",
        "        X_train,\n",
        "        X_test,\n",
        "        y_train,\n",
        "        y_test,\n",
        "        n_layers=n_layers,\n",
        "        lr=lr,\n",
        "        batch_size=batch_size,\n",
        "        pretrain_iter=False,\n",
        "        train_iter=train_iter,\n",
        "        verbose=1,\n",
        "    )\n",
        "    acc_2.append(score__model2)"
      ]
    },
    {
      "cell_type": "code",
      "execution_count": 191,
      "metadata": {
        "id": "LS1wizOnb9gb"
      },
      "outputs": [
        {
          "data": {
            "image/png": "[encoded data removed]",
            "text/plain": [
              "<Figure size 640x480 with 1 Axes>"
            ]
          },
          "metadata": {},
          "output_type": "display_data"
        }
      ],
      "source": [
        "\n",
        "\n",
        "plt.plot(\n",
        "    sizes,\n",
        "    err_rate(acc_1),\n",
        "    label=\"pretrain + train\",\n",
        "    marker=\"o\",\n",
        "    markersize=8,\n",
        ")\n",
        "plt.plot(\n",
        "    sizes,\n",
        "    err_rate(acc_2),\n",
        "    label=\"train\",\n",
        "    marker=\"o\",\n",
        "    markersize=8\n",
        ")\n",
        "plt.xticks(sizes)\n",
        "plt.xlabel(\"Number of hidden layers\")\n",
        "plt.ylabel(\"Error rate\")\n",
        "plt.legend()\n",
        "plt.savefig(savepath + \"mnist_number_hidden_layers.png\")"
      ]
    },
    {
      "cell_type": "markdown",
      "metadata": {
        "id": "z3msQRPGb9go"
      },
      "source": [
        "#### Fig 2 : 2 courbes exprimant le taux d’erreur des 2 réseaux en fonction du nombre de neurones par couches (par exemple 2 couches de 100, puis 2 couches de 300, ...puis 2 couches de 700,...). on utilisera toutes les données d’apprentissage et test;"
      ]
    },
    {
      "cell_type": "code",
      "execution_count": 169,
      "metadata": {
        "id": "JYt1J04Ab9gp"
      },
      "outputs": [
        {
          "name": "stdout",
          "output_type": "stream",
          "text": [
            "--- 10 neurons by layer, 2 layers ---\n",
            "pré-entrainement\n",
            "Pretraining DNN...\n",
            "Training RBM...\n"
          ]
        },
        {
          "name": "stderr",
          "output_type": "stream",
          "text": [
            "100%|██████████| 50/50 [00:20<00:00,  2.50it/s]\n"
          ]
        },
        {
          "name": "stdout",
          "output_type": "stream",
          "text": [
            "Training RBM...\n"
          ]
        },
        {
          "name": "stderr",
          "output_type": "stream",
          "text": [
            "100%|██████████| 50/50 [00:00<00:00, 81.82it/s]\n"
          ]
        },
        {
          "name": "stdout",
          "output_type": "stream",
          "text": [
            "entrainement\n",
            "Training DNN...\n"
          ]
        },
        {
          "name": "stderr",
          "output_type": "stream",
          "text": [
            "100%|██████████| 100/100 [00:09<00:00, 10.66it/s]\n"
          ]
        },
        {
          "name": "stdout",
          "output_type": "stream",
          "text": [
            "test\n",
            "accuracy_score 0.5932\n",
            "pré-entrainement\n",
            "entrainement\n",
            "Training DNN...\n"
          ]
        },
        {
          "name": "stderr",
          "output_type": "stream",
          "text": [
            "100%|██████████| 100/100 [00:05<00:00, 18.42it/s]\n"
          ]
        },
        {
          "name": "stdout",
          "output_type": "stream",
          "text": [
            "test\n",
            "accuracy_score 0.7053\n",
            "--- 30 neurons by layer, 2 layers ---\n",
            "pré-entrainement\n",
            "Pretraining DNN...\n",
            "Training RBM...\n"
          ]
        },
        {
          "name": "stderr",
          "output_type": "stream",
          "text": [
            "100%|██████████| 50/50 [00:24<00:00,  2.02it/s]\n"
          ]
        },
        {
          "name": "stdout",
          "output_type": "stream",
          "text": [
            "Training RBM...\n"
          ]
        },
        {
          "name": "stderr",
          "output_type": "stream",
          "text": [
            "100%|██████████| 50/50 [00:01<00:00, 45.80it/s]\n"
          ]
        },
        {
          "name": "stdout",
          "output_type": "stream",
          "text": [
            "entrainement\n",
            "Training DNN...\n"
          ]
        },
        {
          "name": "stderr",
          "output_type": "stream",
          "text": [
            "100%|██████████| 100/100 [00:10<00:00,  9.43it/s]\n"
          ]
        },
        {
          "name": "stdout",
          "output_type": "stream",
          "text": [
            "test\n",
            "accuracy_score 0.87\n",
            "pré-entrainement\n",
            "entrainement\n",
            "Training DNN...\n"
          ]
        },
        {
          "name": "stderr",
          "output_type": "stream",
          "text": [
            "100%|██████████| 100/100 [00:13<00:00,  7.36it/s]\n"
          ]
        },
        {
          "name": "stdout",
          "output_type": "stream",
          "text": [
            "test\n",
            "accuracy_score 0.8711\n",
            "--- 50 neurons by layer, 2 layers ---\n",
            "pré-entrainement\n",
            "Pretraining DNN...\n",
            "Training RBM...\n"
          ]
        },
        {
          "name": "stderr",
          "output_type": "stream",
          "text": [
            "100%|██████████| 50/50 [00:35<00:00,  1.40it/s]\n"
          ]
        },
        {
          "name": "stdout",
          "output_type": "stream",
          "text": [
            "Training RBM...\n"
          ]
        },
        {
          "name": "stderr",
          "output_type": "stream",
          "text": [
            "100%|██████████| 50/50 [00:06<00:00,  8.05it/s]\n"
          ]
        },
        {
          "name": "stdout",
          "output_type": "stream",
          "text": [
            "entrainement\n",
            "Training DNN...\n"
          ]
        },
        {
          "name": "stderr",
          "output_type": "stream",
          "text": [
            "100%|██████████| 100/100 [00:24<00:00,  4.04it/s]\n"
          ]
        },
        {
          "name": "stdout",
          "output_type": "stream",
          "text": [
            "test\n",
            "accuracy_score 0.9075\n",
            "pré-entrainement\n",
            "entrainement\n",
            "Training DNN...\n"
          ]
        },
        {
          "name": "stderr",
          "output_type": "stream",
          "text": [
            "100%|██████████| 100/100 [00:17<00:00,  5.78it/s]\n"
          ]
        },
        {
          "name": "stdout",
          "output_type": "stream",
          "text": [
            "test\n",
            "accuracy_score 0.8762\n",
            "--- 70 neurons by layer, 2 layers ---\n",
            "pré-entrainement\n",
            "Pretraining DNN...\n",
            "Training RBM...\n"
          ]
        },
        {
          "name": "stderr",
          "output_type": "stream",
          "text": [
            "100%|██████████| 50/50 [00:23<00:00,  2.12it/s]\n"
          ]
        },
        {
          "name": "stdout",
          "output_type": "stream",
          "text": [
            "Training RBM...\n"
          ]
        },
        {
          "name": "stderr",
          "output_type": "stream",
          "text": [
            "100%|██████████| 50/50 [00:05<00:00,  9.94it/s]\n"
          ]
        },
        {
          "name": "stdout",
          "output_type": "stream",
          "text": [
            "entrainement\n",
            "Training DNN...\n"
          ]
        },
        {
          "name": "stderr",
          "output_type": "stream",
          "text": [
            "100%|██████████| 100/100 [00:18<00:00,  5.42it/s]\n"
          ]
        },
        {
          "name": "stdout",
          "output_type": "stream",
          "text": [
            "test\n",
            "accuracy_score 0.9181\n",
            "pré-entrainement\n",
            "entrainement\n",
            "Training DNN...\n"
          ]
        },
        {
          "name": "stderr",
          "output_type": "stream",
          "text": [
            "100%|██████████| 100/100 [00:21<00:00,  4.64it/s]\n"
          ]
        },
        {
          "name": "stdout",
          "output_type": "stream",
          "text": [
            "test\n",
            "accuracy_score 0.8878\n",
            "--- 90 neurons by layer, 2 layers ---\n",
            "pré-entrainement\n",
            "Pretraining DNN...\n",
            "Training RBM...\n"
          ]
        },
        {
          "name": "stderr",
          "output_type": "stream",
          "text": [
            "100%|██████████| 50/50 [00:25<00:00,  1.95it/s]\n"
          ]
        },
        {
          "name": "stdout",
          "output_type": "stream",
          "text": [
            "Training RBM...\n"
          ]
        },
        {
          "name": "stderr",
          "output_type": "stream",
          "text": [
            "100%|██████████| 50/50 [00:07<00:00,  6.51it/s]\n"
          ]
        },
        {
          "name": "stdout",
          "output_type": "stream",
          "text": [
            "entrainement\n",
            "Training DNN...\n"
          ]
        },
        {
          "name": "stderr",
          "output_type": "stream",
          "text": [
            "100%|██████████| 100/100 [00:24<00:00,  4.08it/s]\n"
          ]
        },
        {
          "name": "stdout",
          "output_type": "stream",
          "text": [
            "test\n",
            "accuracy_score 0.9301\n",
            "pré-entrainement\n",
            "entrainement\n",
            "Training DNN...\n"
          ]
        },
        {
          "name": "stderr",
          "output_type": "stream",
          "text": [
            "100%|██████████| 100/100 [00:21<00:00,  4.57it/s]\n"
          ]
        },
        {
          "name": "stdout",
          "output_type": "stream",
          "text": [
            "test\n",
            "accuracy_score 0.8964\n",
            "--- 110 neurons by layer, 2 layers ---\n",
            "pré-entrainement\n",
            "Pretraining DNN...\n",
            "Training RBM...\n"
          ]
        },
        {
          "name": "stderr",
          "output_type": "stream",
          "text": [
            "100%|██████████| 50/50 [00:26<00:00,  1.89it/s]\n"
          ]
        },
        {
          "name": "stdout",
          "output_type": "stream",
          "text": [
            "Training RBM...\n"
          ]
        },
        {
          "name": "stderr",
          "output_type": "stream",
          "text": [
            "100%|██████████| 50/50 [00:08<00:00,  6.22it/s]\n"
          ]
        },
        {
          "name": "stdout",
          "output_type": "stream",
          "text": [
            "entrainement\n",
            "Training DNN...\n"
          ]
        },
        {
          "name": "stderr",
          "output_type": "stream",
          "text": [
            "100%|██████████| 100/100 [00:22<00:00,  4.38it/s]\n"
          ]
        },
        {
          "name": "stdout",
          "output_type": "stream",
          "text": [
            "test\n",
            "accuracy_score 0.9336\n",
            "pré-entrainement\n",
            "entrainement\n",
            "Training DNN...\n"
          ]
        },
        {
          "name": "stderr",
          "output_type": "stream",
          "text": [
            "100%|██████████| 100/100 [00:27<00:00,  3.68it/s]"
          ]
        },
        {
          "name": "stdout",
          "output_type": "stream",
          "text": [
            "test\n",
            "accuracy_score 0.8943\n"
          ]
        },
        {
          "name": "stderr",
          "output_type": "stream",
          "text": [
            "\n"
          ]
        }
      ],
      "source": [
        "acc_1_bis = []\n",
        "acc_2_bis = []\n",
        "\n",
        "start = 1\n",
        "stop = 11\n",
        "step = 2\n",
        "n_neurons = range(start * n_main, stop * n_main + 1, step * n_main)\n",
        "n_hidden = 2\n",
        "\n",
        "for neurons in n_neurons:\n",
        "    print(f\"--- {neurons} neurons by layer, {n_hidden} layers ---\")\n",
        "    n_layers = [784] + [neurons] * n_hidden +  [10]\n",
        "    \"\"\"-------------- Model 1 : pre-train + train -------------------\"\"\"\n",
        "    ce_model1, score_model1 = DNN_main(\n",
        "        X_train,\n",
        "        X_test,\n",
        "        y_train,\n",
        "        y_test,\n",
        "        n_layers=n_layers,\n",
        "        lr=lr,\n",
        "        batch_size=batch_size,\n",
        "        pretrain_iter=pretrain_iter,\n",
        "        train_iter=train_iter,\n",
        "        verbose=1,\n",
        "    )\n",
        "    acc_1_bis.append(score_model1)\n",
        "\n",
        "    \"\"\"-------------- Model 2 : train only ---------------------------\"\"\"\n",
        "    ce_model2, score_model2 = DNN_main(\n",
        "        X_train,\n",
        "        X_test,\n",
        "        y_train,\n",
        "        y_test,\n",
        "        n_layers=n_layers,\n",
        "        lr=lr,\n",
        "        batch_size=batch_size,\n",
        "        pretrain_iter=False,\n",
        "        train_iter=train_iter,\n",
        "        verbose=1,\n",
        "    )\n",
        "    acc_2_bis.append(score_model2)"
      ]
    },
    {
      "cell_type": "code",
      "execution_count": 172,
      "metadata": {
        "id": "uhtzGrqOb9gp"
      },
      "outputs": [
        {
          "data": {
            "image/png": "[encoded data removed]",
            "text/plain": [
              "<Figure size 640x480 with 1 Axes>"
            ]
          },
          "metadata": {},
          "output_type": "display_data"
        }
      ],
      "source": [
        "plt.plot(\n",
        "    n_neurons,\n",
        "    err_rate(acc_1_bis),\n",
        "    label=\"pretrain + train\",\n",
        "    marker=\"o\",\n",
        "    markersize=8,\n",
        ")\n",
        "plt.plot(\n",
        "    n_neurons,\n",
        "    err_rate(acc_2_bis),\n",
        "    label=\"train\",\n",
        "    marker=\"o\",\n",
        "    markersize=8\n",
        ")\n",
        "plt.xticks(n_neurons)\n",
        "plt.xlabel(\"number of neurons\")\n",
        "plt.ylabel(\"Error rate\")\n",
        "plt.legend()\n",
        "plt.savefig(savepath + \"mnist_number_of_neurons.png\")"
      ]
    },
    {
      "cell_type": "markdown",
      "metadata": {
        "id": "cNF1LvQsb9gp"
      },
      "source": [
        "#### Fig 3 : 2 courbes exprimant le taux d’erreur des 2 réseaux en fonction du nombre de données train (par exemple on fixe 2 couches de 200 puis on utilise 1000 données train, 3000, 7000, 10000, 30000, 60000)."
      ]
    },
    {
      "cell_type": "code",
      "execution_count": 177,
      "metadata": {},
      "outputs": [],
      "source": [
        "X_1, X_2, y_1, y_2 = lire_mnist(1000)"
      ]
    },
    {
      "cell_type": "code",
      "execution_count": 180,
      "metadata": {},
      "outputs": [
        {
          "data": {
            "text/plain": [
              "((1000, 784), (10000, 784), (1000, 10), (10000, 10))"
            ]
          },
          "execution_count": 180,
          "metadata": {},
          "output_type": "execute_result"
        }
      ],
      "source": [
        "X_1.shape, X_2.shape, y_1.shape, y_2.shape"
      ]
    },
    {
      "cell_type": "code",
      "execution_count": 192,
      "metadata": {
        "id": "WVVBa8tkb9gq"
      },
      "outputs": [
        {
          "name": "stdout",
          "output_type": "stream",
          "text": [
            "--- 2000 samples ---\n",
            "pré-entrainement\n",
            "Pretraining DNN...\n",
            "Training RBM...\n"
          ]
        },
        {
          "name": "stderr",
          "output_type": "stream",
          "text": [
            "100%|██████████| 50/50 [00:04<00:00, 11.31it/s]\n"
          ]
        },
        {
          "name": "stdout",
          "output_type": "stream",
          "text": [
            "Training RBM...\n"
          ]
        },
        {
          "name": "stderr",
          "output_type": "stream",
          "text": [
            "100%|██████████| 50/50 [00:00<00:00, 254.44it/s]\n"
          ]
        },
        {
          "name": "stdout",
          "output_type": "stream",
          "text": [
            "entrainement\n",
            "Training DNN...\n"
          ]
        },
        {
          "name": "stderr",
          "output_type": "stream",
          "text": [
            "100%|██████████| 100/100 [00:01<00:00, 64.14it/s]\n"
          ]
        },
        {
          "name": "stdout",
          "output_type": "stream",
          "text": [
            "test\n",
            "accuracy_score 0.5559\n",
            "entrainement\n",
            "Training DNN...\n"
          ]
        },
        {
          "name": "stderr",
          "output_type": "stream",
          "text": [
            "100%|██████████| 100/100 [00:01<00:00, 62.55it/s]\n"
          ]
        },
        {
          "name": "stdout",
          "output_type": "stream",
          "text": [
            "test\n",
            "accuracy_score 0.1028\n",
            "--- 6000 samples ---\n",
            "pré-entrainement\n",
            "Pretraining DNN...\n",
            "Training RBM...\n"
          ]
        },
        {
          "name": "stderr",
          "output_type": "stream",
          "text": [
            "100%|██████████| 50/50 [00:10<00:00,  4.74it/s]\n"
          ]
        },
        {
          "name": "stdout",
          "output_type": "stream",
          "text": [
            "Training RBM...\n"
          ]
        },
        {
          "name": "stderr",
          "output_type": "stream",
          "text": [
            "100%|██████████| 50/50 [00:00<00:00, 111.16it/s]\n"
          ]
        },
        {
          "name": "stdout",
          "output_type": "stream",
          "text": [
            "entrainement\n",
            "Training DNN...\n"
          ]
        },
        {
          "name": "stderr",
          "output_type": "stream",
          "text": [
            "100%|██████████| 100/100 [00:09<00:00, 10.85it/s]\n"
          ]
        },
        {
          "name": "stdout",
          "output_type": "stream",
          "text": [
            "test\n",
            "accuracy_score 0.7631\n",
            "entrainement\n",
            "Training DNN...\n"
          ]
        },
        {
          "name": "stderr",
          "output_type": "stream",
          "text": [
            "100%|██████████| 100/100 [00:06<00:00, 15.09it/s]\n"
          ]
        },
        {
          "name": "stdout",
          "output_type": "stream",
          "text": [
            "test\n",
            "accuracy_score 0.3161\n",
            "--- 12000 samples ---\n",
            "pré-entrainement\n",
            "Pretraining DNN...\n",
            "Training RBM...\n"
          ]
        },
        {
          "name": "stderr",
          "output_type": "stream",
          "text": [
            "100%|██████████| 50/50 [00:28<00:00,  1.75it/s]\n"
          ]
        },
        {
          "name": "stdout",
          "output_type": "stream",
          "text": [
            "Training RBM...\n"
          ]
        },
        {
          "name": "stderr",
          "output_type": "stream",
          "text": [
            "100%|██████████| 50/50 [00:00<00:00, 60.34it/s]\n"
          ]
        },
        {
          "name": "stdout",
          "output_type": "stream",
          "text": [
            "entrainement\n",
            "Training DNN...\n"
          ]
        },
        {
          "name": "stderr",
          "output_type": "stream",
          "text": [
            "100%|██████████| 100/100 [00:13<00:00,  7.58it/s]\n"
          ]
        },
        {
          "name": "stdout",
          "output_type": "stream",
          "text": [
            "test\n",
            "accuracy_score 0.8217\n",
            "entrainement\n",
            "Training DNN...\n"
          ]
        },
        {
          "name": "stderr",
          "output_type": "stream",
          "text": [
            "100%|██████████| 100/100 [00:11<00:00,  8.63it/s]\n"
          ]
        },
        {
          "name": "stdout",
          "output_type": "stream",
          "text": [
            "test\n",
            "accuracy_score 0.8237\n",
            "--- 30000 samples ---\n",
            "pré-entrainement\n",
            "Pretraining DNN...\n",
            "Training RBM...\n"
          ]
        },
        {
          "name": "stderr",
          "output_type": "stream",
          "text": [
            "100%|██████████| 50/50 [00:52<00:00,  1.05s/it]\n"
          ]
        },
        {
          "name": "stdout",
          "output_type": "stream",
          "text": [
            "Training RBM...\n"
          ]
        },
        {
          "name": "stderr",
          "output_type": "stream",
          "text": [
            "100%|██████████| 50/50 [00:01<00:00, 25.91it/s]\n"
          ]
        },
        {
          "name": "stdout",
          "output_type": "stream",
          "text": [
            "entrainement\n",
            "Training DNN...\n"
          ]
        },
        {
          "name": "stderr",
          "output_type": "stream",
          "text": [
            "100%|██████████| 100/100 [00:29<00:00,  3.38it/s]\n"
          ]
        },
        {
          "name": "stdout",
          "output_type": "stream",
          "text": [
            "test\n",
            "accuracy_score 0.8594\n",
            "entrainement\n",
            "Training DNN...\n"
          ]
        },
        {
          "name": "stderr",
          "output_type": "stream",
          "text": [
            "100%|██████████| 100/100 [00:29<00:00,  3.41it/s]"
          ]
        },
        {
          "name": "stdout",
          "output_type": "stream",
          "text": [
            "test\n",
            "accuracy_score 0.9267\n"
          ]
        },
        {
          "name": "stderr",
          "output_type": "stream",
          "text": [
            "\n"
          ]
        }
      ],
      "source": [
        "acc_1_ter = []\n",
        "acc_2_ter = []\n",
        "\n",
        "n_layers = [784] + [2 * n_main] * 2 +  [10]\n",
        "\n",
        "samples_sizes = [2000, 6000, 12000, 30000]\n",
        "# samples_sizes = [1000, 3000, 7000, 10000, 30000, 60000]\n",
        "\n",
        "for size in samples_sizes:\n",
        "    print(f\"--- {size} samples ---\")\n",
        "    X_train_, X_test_, y_train_, y_test_ = lire_mnist(subsample_size=size)\n",
        "\n",
        "    \"\"\"-------------- Model 1 : pre-train + train -------------------\"\"\"\n",
        "    ce_model1, score_model1 = DNN_main(\n",
        "        X_train_,\n",
        "        X_test_,\n",
        "        y_train_,\n",
        "        y_test_,\n",
        "        n_layers=n_layers,\n",
        "        lr=lr,\n",
        "        batch_size=batch_size,\n",
        "        pretrain_iter=pretrain_iter,\n",
        "        train_iter=train_iter,\n",
        "        verbose=1,\n",
        "    )\n",
        "    acc_1_ter.append(score_model1)\n",
        "\n",
        "    \"\"\"-------------- Model 2 : train only ---------------------------\"\"\"\n",
        "    ce_model2, score_model2 = DNN_main(\n",
        "        X_train_,\n",
        "        X_test_,\n",
        "        y_train_,\n",
        "        y_test_,\n",
        "        n_layers=n_layers,\n",
        "        lr=lr,\n",
        "        batch_size=batch_size,\n",
        "        pretrain_iter=False,\n",
        "        train_iter=train_iter,\n",
        "        verbose=1,\n",
        "    )\n",
        "    acc_2_ter.append(score_model2)"
      ]
    },
    {
      "cell_type": "code",
      "execution_count": 194,
      "metadata": {
        "id": "XrTQRfG7b9gq"
      },
      "outputs": [
        {
          "data": {
            "image/png": "[encoded data removed]",
            "text/plain": [
              "<Figure size 640x480 with 1 Axes>"
            ]
          },
          "metadata": {},
          "output_type": "display_data"
        }
      ],
      "source": [
        "plt.plot(\n",
        "    samples_sizes,\n",
        "    err_rate(acc_1_ter),\n",
        "    label=\"pretrain + train\",\n",
        "    marker=\"o\",\n",
        "    markersize=8,\n",
        ")\n",
        "plt.plot(\n",
        "    samples_sizes,\n",
        "    err_rate(acc_2_ter),\n",
        "    label=\"train\",\n",
        "    marker=\"o\",\n",
        "    markersize=8\n",
        ")\n",
        "\n",
        "plt.xlabel(\"Number of training data\")\n",
        "plt.ylabel(\"Error rate\")\n",
        "plt.legend()\n",
        "plt.savefig(savepath + \"mnist_number_of_training_data.png\")"
      ]
    },
    {
      "cell_type": "markdown",
      "metadata": {},
      "source": [
        "Add batch size test\n",
        "Add pretrain iteration number test"
      ]
    },
    {
      "cell_type": "markdown",
      "metadata": {
        "id": "_WVTYjexb9gq"
      },
      "source": [
        "#### Resultat avec les meilleurs paramètres\n",
        "\n",
        "A CALIBRER APRES"
      ]
    },
    {
      "cell_type": "code",
      "execution_count": null,
      "metadata": {
        "id": "2Mi58AHXb9gr"
      },
      "outputs": [],
      "source": [
        "# \"\"\"-------------- Model 1 : pre-train + train -------------------\"\"\"\n",
        "\n",
        "# X_train_f, X_test, y_train_f, y_test = lire_mnist(subsample_size=-1)\n",
        "# n_layers = [784, 300, 300, 10]\n",
        "# # n_layers = [784, 400, 10]\n",
        "# pretrain_iter = 100\n",
        "# train_iter = 200\n",
        "\n",
        "# ce_model1, score_model1 = DNN_main(\n",
        "#     X_train_f,\n",
        "#     X_test,\n",
        "#     y_train_f,\n",
        "#     y_test,\n",
        "#     n_layers=n_layers,\n",
        "#     lr=lr,\n",
        "#     batch_size=batch_size,\n",
        "#     pretrain_iter=pretrain_iter,\n",
        "#     train_iter=train_iter,\n",
        "#     verbose=1,\n",
        "# )\n",
        "\n",
        "# \"\"\"-------------- Model 2 : train only ---------------------------\"\"\"\n",
        "# pretrain_iter = False\n",
        "# n_layers = [784, 100, 10]\n",
        "# ce_model2, score_model2 = DNN_main(\n",
        "#     X_train_f,\n",
        "#     X_test,\n",
        "#     y_train_f,\n",
        "#     y_test,\n",
        "#     n_layers=n_layers,\n",
        "#     lr=lr,\n",
        "#     batch_size=batch_size,\n",
        "#     pretrain_iter=pretrain_iter,\n",
        "#     train_iter=train_iter,\n",
        "#     verbose=1,\n",
        "# )\n",
        "\n",
        "\n",
        "# print(\"----------  Resultat model 1 : pré-entraînément + entraînément  --------- \")\n",
        "# print(\"            cross_entropie : \", ce_model1)\n",
        "# print(\"            Accuracy : \", score_model1)\n",
        "# print(\"       \")\n",
        "# print(\"----------  Resultat model 2 : uniquement entrainé  --------- \")\n",
        "# print(\"            cross_entropie : \", ce_model2)\n",
        "# print(\"            Accuracy : \", score_model2)"
      ]
    },
    {
      "cell_type": "markdown",
      "metadata": {
        "collapsed": false,
        "id": "iM3lLZdv9_iP"
      },
      "source": [
        "# VAE"
      ]
    },
    {
      "cell_type": "code",
      "execution_count": null,
      "metadata": {
        "id": "lVzze_gV9_iQ"
      },
      "outputs": [],
      "source": [
        "X_train, X_test, y_train, y_test = lire_mnist(subsample_size=-1)"
      ]
    },
    {
      "cell_type": "code",
      "execution_count": null,
      "metadata": {
        "id": "tKURK3DJ9_iQ"
      },
      "outputs": [],
      "source": [
        "class VAE(nn.Module):\n",
        "    def __init__(self, input_dim, hidden_dim, latent_dim):\n",
        "        super(VAE, self).__init__()\n",
        "\n",
        "        self.input_dim = input_dim\n",
        "        self.hidden_dim = hidden_dim\n",
        "        self.latent_dim = latent_dim\n",
        "\n",
        "        self.fc1 = nn.Linear(input_dim, hidden_dim)\n",
        "        self.fc21 = nn.Linear(hidden_dim, latent_dim)\n",
        "        self.fc22 = nn.Linear(hidden_dim, latent_dim)\n",
        "        self.fc3 = nn.Linear(latent_dim, hidden_dim)\n",
        "        self.fc4 = nn.Linear(hidden_dim, input_dim)\n",
        "\n",
        "    def encode(self, x):\n",
        "        h1 = F.relu(self.fc1(x))\n",
        "        return self.fc21(h1), self.fc22(h1)\n",
        "\n",
        "    def reparameterize(self, mu, logvar):\n",
        "        std = torch.exp(0.5 * logvar)\n",
        "        eps = torch.randn_like(std)\n",
        "        return eps.mul(std).add_(mu)\n",
        "\n",
        "    def decode(self, z):\n",
        "        h3 = F.relu(self.fc3(z))\n",
        "        return torch.sigmoid(self.fc4(h3))\n",
        "\n",
        "    def forward(self, x):\n",
        "        mu, logvar = self.encode(x.view(-1, self.input_dim))\n",
        "        z = self.reparameterize(mu, logvar)\n",
        "        return self.decode(z), mu, logvar"
      ]
    },
    {
      "cell_type": "code",
      "execution_count": null,
      "metadata": {
        "id": "mMNzZfgu9_iR"
      },
      "outputs": [],
      "source": [
        "def loss_function(recon_x, x, mu, logvar):\n",
        "    BCE = F.binary_cross_entropy(recon_x, x.view(-1, 784), reduction=\"sum\")\n",
        "\n",
        "    KLD = -0.5 * torch.sum(1 + logvar - mu.pow(2) - logvar.exp())\n",
        "\n",
        "    return BCE + KLD"
      ]
    },
    {
      "cell_type": "code",
      "execution_count": null,
      "metadata": {
        "id": "aePGRcBN9_iR"
      },
      "outputs": [],
      "source": [
        "def train(model, device, train_loader, optimizer, epoch, verbose=1):\n",
        "    model.train()\n",
        "    train_loss = 0\n",
        "    for batch_idx, (data, _) in enumerate(train_loader):\n",
        "        data = data.to(device)\n",
        "        optimizer.zero_grad()\n",
        "        recon_batch, mu, logvar = model(data)\n",
        "        loss = loss_function(recon_batch, data, mu, logvar)\n",
        "        loss.backward()\n",
        "        train_loss += loss.item()\n",
        "        optimizer.step()\n",
        "        if batch_idx % 100 == 0 and verbose >= 2:\n",
        "            print(\n",
        "                \"Train Epoch: {} [{}/{} ({:.0f}%)]\\tLoss: {:.6f}\".format(\n",
        "                    epoch,\n",
        "                    batch_idx * len(data),\n",
        "                    len(train_loader.dataset),\n",
        "                    100.0 * batch_idx / len(train_loader),\n",
        "                    loss.item() / len(data),\n",
        "                )\n",
        "            )\n",
        "    if verbose >= 1:\n",
        "        print(\n",
        "            \"====> Epoch: {} Average loss: {:.4f}\".format(\n",
        "                epoch, train_loss / len(train_loader.dataset)\n",
        "            )\n",
        "        )\n",
        "\n",
        "\n",
        "def test(model, device, test_loader, verbose=1):\n",
        "    model.eval()\n",
        "    test_loss = 0\n",
        "    with torch.no_grad():\n",
        "        for i, (data, _) in enumerate(test_loader):\n",
        "            data = data.to(device)\n",
        "            recon_batch, mu, logvar = model(data)\n",
        "            test_loss += loss_function(recon_batch, data, mu, logvar).item()\n",
        "            if i == 0:\n",
        "                n = min(data.size(0), 8)\n",
        "                comparison = torch.cat(\n",
        "                    [data[:n], recon_batch.view(batch_size, 1, 28, 28)[:n]]\n",
        "                )\n",
        "                save_image(\n",
        "                    comparison.cpu(),\n",
        "                    \"reconstruction.png\",\n",
        "                    nrow=n,\n",
        "                )\n",
        "\n",
        "    test_loss /= len(test_loader.dataset)\n",
        "    if verbose >= 1:\n",
        "        print(\"====> Test set loss: {:.4f}\".format(test_loss))\n",
        "\n",
        "\n",
        "def VAE_main(train_loader, test_loader, batch_size, epochs, lr):\n",
        "    device = torch.device(\"cuda\" if torch.cuda.is_available() else \"cpu\")\n",
        "    kwargs = {\"num_workers\": 1, \"pin_memory\": True} if torch.cuda.is_available() else {}\n",
        "\n",
        "    model = VAE(784, 400, 20).to(device)\n",
        "    optimizer = torch.optim.Adam(model.parameters(), lr=lr)\n",
        "\n",
        "    for epoch in tqdm(range(1, epochs + 1)):\n",
        "        train(model, device, train_loader, optimizer, epoch)\n",
        "        test(model, device, test_loader)\n",
        "        with torch.no_grad():\n",
        "            sample = torch.randn(64, 20).to(device)\n",
        "            sample = model.decode(sample).cpu()\n",
        "            save_image(\n",
        "                sample.view(64, 1, 28, 28),\n",
        "                \"sample_\" + str(epoch) + \".png\",\n",
        "            )"
      ]
    },
    {
      "cell_type": "code",
      "execution_count": null,
      "metadata": {
        "id": "1fSxo3hsDZq2"
      },
      "outputs": [],
      "source": [
        "mnist_train = datasets.MNIST(\n",
        "    \"data/\", train=True, download=True, transform=transforms.ToTensor()\n",
        ")\n",
        "mnist_test = datasets.MNIST(\n",
        "    \"data/\", train=False, download=True, transform=transforms.ToTensor()\n",
        ")\n",
        "train_loader = torch.utils.data.DataLoader(\n",
        "    mnist_train,\n",
        "    batch_size=batch_size,\n",
        "    shuffle=True,\n",
        ")\n",
        "test_loader = torch.utils.data.DataLoader(\n",
        "    mnist_test,\n",
        "    batch_size=batch_size,\n",
        "    shuffle=True,\n",
        ")\n",
        "\n",
        "VAE_main(train_loader, test_loader, batch_size=128, epochs=10, lr=1e-3)"
      ]
    },
    {
      "cell_type": "code",
      "execution_count": null,
      "metadata": {
        "id": "hZ7N-AauHtV5"
      },
      "outputs": [],
      "source": []
    }
  ],
  "metadata": {
    "colab": {
      "provenance": []
    },
    "kernelspec": {
      "display_name": "base",
      "language": "python",
      "name": "python3"
    },
    "language_info": {
      "codemirror_mode": {
        "name": "ipython",
        "version": 3
      },
      "file_extension": ".py",
      "mimetype": "text/x-python",
      "name": "python",
      "nbconvert_exporter": "python",
      "pygments_lexer": "ipython3",
      "version": "3.11.5"
    },
    "orig_nbformat": 4,
    "vscode": {
      "interpreter": {
        "hash": "fdc5d049eec9eaeec1c766624dece239ed4d1607671b6d493e340e6a292a2d6d"
      }
    }
  },
  "nbformat": 4,
  "nbformat_minor": 0
}
