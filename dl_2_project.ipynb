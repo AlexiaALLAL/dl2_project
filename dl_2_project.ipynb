{
  "cells": [
    {
      "cell_type": "code",
      "execution_count": 20,
      "metadata": {
        "id": "7cNVZml79_gK"
      },
      "outputs": [],
      "source": [
        "import numpy as np\n",
        "import scipy.io as sio\n",
        "from sklearn.metrics import f1_score, accuracy_score\n",
        "from sklearn.model_selection import train_test_split\n",
        "from sklearn.preprocessing import OneHotEncoder\n",
        "import urllib.request\n",
        "from keras.datasets import mnist\n",
        "\n",
        "import matplotlib.pyplot as plt\n",
        "\n",
        "import warnings\n",
        "from datetime import datetime\n",
        "\n",
        "import torch\n",
        "from torch import nn\n",
        "from torch.nn import functional as F\n",
        "from torchvision import datasets, transforms\n",
        "from torchvision.utils import save_image\n",
        "from torch.utils.data import DataLoader, TensorDataset\n",
        "from torch.utils.data.sampler import SubsetRandomSampler\n",
        "\n",
        "import os\n",
        "from tqdm import tqdm\n",
        "import pickle\n",
        "from sklearn.metrics import confusion_matrix\n",
        "import seaborn as sns\n",
        "\n",
        "# suppress warnings\n",
        "warnings.filterwarnings(\"ignore\")\n",
        "\n",
        "%matplotlib inline"
      ]
    },
    {
      "cell_type": "markdown",
      "metadata": {},
      "source": [
        "Choose light or full version to run the notebook:\n",
        "- Light will use small values of parameters for MNIST (number of neurons, number of iterations, ...)\n",
        "- Full will use the values used in the report of this project"
      ]
    },
    {
      "cell_type": "code",
      "execution_count": 2,
      "metadata": {},
      "outputs": [],
      "source": [
        "notebook_version='light' # 'light' or 'full'\n",
        "# notebook_version='full' # 'light' or 'full'"
      ]
    },
    {
      "cell_type": "markdown",
      "metadata": {
        "id": "bdQlVvIe9_gk"
      },
      "source": [
        "## 1.1. Data\n",
        "\n",
        "This section defines functions to load the 2 datasets and prepare them for analysis"
      ]
    },
    {
      "cell_type": "code",
      "execution_count": 3,
      "metadata": {
        "id": "pC_M3JnY9_gp"
      },
      "outputs": [],
      "source": [
        "def telecharger_alpha_digit(directory='data/'):\n",
        "    \"\"\" Téléchargement des données de l'archive Binary Alpha Digits\n",
        "    à partir de https://cs.nyu.edu/~roweis/data/binaryalphadigs.mat\n",
        "    \"\"\"\n",
        "    \n",
        "    # Création du répertoire de stockage de dataset\n",
        "    if not os.path.exists(directory):\n",
        "        os.makedirs(directory)\n",
        "    # Téléchargement du fichier dans le répertoire choisi\n",
        "    url = \"https://cs.nyu.edu/~roweis/data/binaryalphadigs.mat\"\n",
        "    urllib.request.urlretrieve(url, directory + \"binaryalphadigs.mat\")\n",
        "\n",
        "def lire_alpha_digit(chars):\n",
        "    telecharger_alpha_digit()\n",
        "    alpha_digits = sio.loadmat(\"data/binaryalphadigs.mat\", squeeze_me=True)[\"dat\"]\n",
        "\n",
        "    arr = []\n",
        "    y = []\n",
        "    for i, char in enumerate(chars):\n",
        "        if type(char) == int:\n",
        "            char = str(char)\n",
        "\n",
        "        asc_char = ord(char)\n",
        "        if asc_char >= 65 and asc_char <= 90:\n",
        "            for digit in alpha_digits[asc_char - 55]:\n",
        "                arr.append(digit.flatten())\n",
        "                y.append(asc_char - 55)\n",
        "        elif asc_char >= 48 and asc_char <= 57:\n",
        "            for digit in alpha_digits[asc_char - 48]:\n",
        "                arr.append(digit.flatten())\n",
        "                y.append(asc_char - 48)\n",
        "        else:\n",
        "            raise Exception(\"Char not valid\")\n",
        "    return np.array(arr), np.array(y)\n",
        "\n",
        "def one_hot(y):\n",
        "    unique_labels = np.unique(y)\n",
        "    y_ohe = np.zeros((y.shape[0], len(unique_labels)))\n",
        "    for i in range(y.shape[0]):\n",
        "        y_ohe[i, np.where(unique_labels == y[i])] = 1\n",
        "    return y_ohe\n",
        "\n",
        "def lire_mnist(subsample_size=-1):\n",
        "    (X_train, y_train), (X_test, y_test) = mnist.load_data()\n",
        "\n",
        "    # subsample\n",
        "    if subsample_size != -1:\n",
        "        X_train = X_train[:subsample_size]\n",
        "        y_train = y_train[:subsample_size]\n",
        "\n",
        "    # to binary and flatten\n",
        "    X_train_bin = (X_train >= 128).astype(int).reshape(X_train.shape[0], -1)\n",
        "    X_test_bin = (X_test >= 128).astype(int).reshape(X_test.shape[0], -1)\n",
        "\n",
        "    # enc = OneHotEncoder(handle_unknown='ignore')\n",
        "    # # enc.fit(y_train.reshape(-1, 1))\n",
        "    # y_train = enc.fit_transform(y_train.reshape(-1, 1)).todense()\n",
        "    # y_test = enc.fit_transform(y_test.reshape(-1, 1)).todense()\n",
        "    y_train = one_hot(y_train)\n",
        "    y_test = one_hot(y_test)\n",
        "\n",
        "    return X_train_bin, X_test_bin, y_train, y_test\n",
        "\n",
        "def char(idx):\n",
        "    if 0 <= idx <= 9:\n",
        "        return chr(idx + 48)\n",
        "    else:\n",
        "        return chr(idx + 55)"
      ]
    },
    {
      "cell_type": "markdown",
      "metadata": {},
      "source": [
        "## 1.2. Functions\n",
        "\n",
        "Standard functions to be used over the notebook"
      ]
    },
    {
      "cell_type": "code",
      "execution_count": 4,
      "metadata": {},
      "outputs": [],
      "source": [
        "def softmax(x):\n",
        "    \"\"\"\n",
        "    Calcule la fonction softmax.\n",
        "    \"\"\"\n",
        "    return (np.exp(x).T / np.sum(np.exp(x), axis=1)).T\n",
        "\n",
        "\n",
        "def sigmoid(x):\n",
        "    \"\"\"\n",
        "    Calcule la fonction sigmoïde.\n",
        "    \"\"\"\n",
        "    return 1 / (1 + np.exp(-x))\n",
        "\n",
        "\n",
        "def calcul_softmax(layer, X):\n",
        "    \"\"\"\n",
        "    Calcule les probabilités sur les unités de sortie à partir de la fonction softmax. Cette fonction retournera les probabilités sur les unités de sortie et prendra en argument un RBM et des données d'entrée.\n",
        "    \"\"\"\n",
        "    return softmax(np.dot(X, layer.W) + layer.b)\n",
        "\n",
        "def err_rate(acc_list):\n",
        "    \"\"\" Calcule une liste de taux d'erreur avec la liste d'accuracy score en entrée \"\"\"\n",
        "    return [1-acc for acc in acc_list]"
      ]
    },
    {
      "cell_type": "markdown",
      "metadata": {
        "collapsed": false,
        "id": "-L9JDZ7V9_gv"
      },
      "source": [
        "## 1.3. Plot functions\n",
        "Specific functions to plot results and save in .png files"
      ]
    },
    {
      "cell_type": "code",
      "execution_count": 5,
      "metadata": {},
      "outputs": [],
      "source": [
        "# Create directory to save plots\n",
        "savepath = 'save/'\n",
        "if not os.path.exists(savepath):\n",
        "    os.makedirs(savepath)\n",
        "    print('Directory \"' + str(savepath) + '\" created')"
      ]
    },
    {
      "cell_type": "code",
      "execution_count": 37,
      "metadata": {
        "id": "357BRstK9_gv"
      },
      "outputs": [],
      "source": [
        "def plot_data(X, y=None, save=False):\n",
        "    perm = np.random.permutation(X.shape[0])\n",
        "    plt.figure()\n",
        "    for i in range(9):\n",
        "        plt.subplot(3, 3, i + 1)\n",
        "        plt.xticks([])\n",
        "        plt.yticks([])\n",
        "        plt.grid(False)\n",
        "        plt.imshow(1-X[perm[i]], cmap=\"gray\")\n",
        "        if y is not None:\n",
        "            plt.xlabel(char(y[perm[i]]))\n",
        "    plt.tight_layout()\n",
        "    if save:\n",
        "        plt.savefig(f\"{savepath + save}.png\")\n",
        "    plt.show()\n",
        "\n",
        "\n",
        "def plot_batched_images(batched_images, variables, save=False):\n",
        "    plt.figure(figsize=(len(batched_images) * 1.5, len(variables) * 1.5))\n",
        "    for i, images in enumerate(batched_images):\n",
        "        for j, img in enumerate(images):\n",
        "            plt.subplot(len(images), len(batched_images), i + 1 + j * len(variables))\n",
        "            plt.imshow(1-img, cmap=\"gray\")\n",
        "            if j == 0:\n",
        "                plt.title(f\"{variables[i]}\")\n",
        "            plt.axis(\"off\")\n",
        "    plt.tight_layout()\n",
        "    if save:\n",
        "        plt.savefig(f\"{savepath + save}.png\")\n",
        "    plt.show()\n",
        "\n",
        "\n",
        "def plot_preds(X, y_true, y_pred, save=False):\n",
        "    num_cols = 2\n",
        "    num_rows = 3\n",
        "\n",
        "    # random permutation on test set\n",
        "    perm = np.random.permutation(len(y_true))\n",
        "\n",
        "    plt.figure(figsize=(2 * 2 * num_cols, 2 * num_rows))\n",
        "    for i in range(num_rows * num_cols):\n",
        "        idx = perm[i]\n",
        "        true_label = np.argmax(y_true[idx])\n",
        "        predictions_array = y_pred[idx]\n",
        "        predicted_label = np.argmax(predictions_array)\n",
        "\n",
        "        if true_label == predicted_label:\n",
        "            color = \"green\"\n",
        "        else:\n",
        "            color = \"red\"\n",
        "\n",
        "        # image\n",
        "        plt.subplot(num_rows, 2 * num_cols, 2 * i + 1)\n",
        "        plt.grid(False)\n",
        "        plt.xticks([])\n",
        "        plt.yticks([])\n",
        "        plt.imshow(1-X[idx].reshape(28, 28), cmap=plt.cm.gray)\n",
        "        plt.xlabel(\n",
        "            \"truth={}, pred={}\".format(\n",
        "                true_label,\n",
        "                predicted_label,\n",
        "                # 100 * np.max(predictions_array),\n",
        "                # color=color,\n",
        "            )\n",
        "        )\n",
        "\n",
        "        # probs\n",
        "        plt.subplot(num_rows, 2 * num_cols, 2 * i + 2)\n",
        "        plt.grid(False)\n",
        "        plt.xticks([])\n",
        "        plt.yticks([])\n",
        "        bp = plt.bar(range(10), predictions_array, color=\"#777777\")\n",
        "        bp[predicted_label].set_color(\"red\")\n",
        "        bp[true_label].set_color(\"green\")\n",
        "        plt.ylim([0, 1])\n",
        "        plt.xlabel(\n",
        "            \"score={:2.0f}\".format(\n",
        "                100 * np.max(predictions_array)\n",
        "            )\n",
        "        )\n",
        "\n",
        "    if save:\n",
        "        plt.savefig(f\"{savepath + save}.png\")\n",
        "\n",
        "    plt.show()\n",
        "\n",
        "def plot_confusion_matrix (X, y_true, y_pred, save=False):\n",
        "    cm = confusion_matrix(np.argmax(y_true, axis=1), np.argmax(y_pred, axis=1))\n",
        "    plt.figure(figsize=(10, 10))\n",
        "    sns.heatmap(cm, annot=True, fmt=\"d\", square=True, cmap=\"Blues\")\n",
        "    plt.xlabel(\"Predicted\")\n",
        "    plt.ylabel(\"True\")\n",
        "    plt.title(\"Confusion matrix\")\n",
        "    if save:\n",
        "        plt.savefig(f\"{savepath + save}_conf_matrix.png\")\n",
        "    plt.show()\n",
        "\n",
        "def plot_DNN(x_axis, acc_1, acc_2=None, acc_1_train=None, acc_2_train=None, x_label='', top=None, save=False):\n",
        "    \"\"\"\n",
        "    Plot DNN results (for a set of values for a given parameter to be tested)\n",
        "    \n",
        "    Params:\n",
        "    -------\n",
        "    x_axis: list of values that were tested\n",
        "    acc_1: list of accuracy scores on the test set (pretrain) \n",
        "    acc_2: list of accuracy scores on the test set (train only) \n",
        "    acc_1_train: list of accuracy scores on the train set (pretrain) \n",
        "    acc_2_train: list of accuracy scores on the train set (train only) \n",
        "    x_label: name of the variable that was tested\n",
        "    top: top limit of y axis\n",
        "    save: name of the file to save the plot (without extension), None if no \n",
        "    Returns:\n",
        "    --------\n",
        "    Nothing but plot the graph and if requested save it in a .png file\n",
        "    \"\"\"\n",
        "    plt.plot(\n",
        "        x_axis,\n",
        "        err_rate(acc_1),\n",
        "        label=\"Pretrain + train (test set)\",\n",
        "        color='blue',\n",
        "        marker=\"o\",\n",
        "        markersize=8,\n",
        "    )\n",
        "    if acc_1_train != None:\n",
        "        plt.plot(\n",
        "            x_axis,\n",
        "            err_rate(acc_1_train),\n",
        "            label=\"Pretrain + train (train set)\",\n",
        "            color='blue',\n",
        "            linestyle='dashed', \n",
        "            linewidth=.5\n",
        "        )\n",
        "    if acc_2 != None:\n",
        "        plt.plot(\n",
        "            x_axis,\n",
        "            err_rate(acc_2),\n",
        "            label=\"Train only (test set)\",\n",
        "            color='orange',\n",
        "            marker=\"o\",\n",
        "            markersize=8\n",
        "        )\n",
        "    if acc_2_train != None:\n",
        "        plt.plot(\n",
        "            x_axis,\n",
        "            err_rate(acc_2_train),\n",
        "            label=\"Train only (train set)\",\n",
        "            color='orange',\n",
        "            linestyle='dashed',\n",
        "            linewidth=.5    \n",
        "        )\n",
        "    plt.xticks(x_axis)\n",
        "    plt.gca().set_ylim(bottom=0)\n",
        "    if top!=None:\n",
        "        plt.gca().set_ylim(top=top)\n",
        "    plt.xlabel(x_label)\n",
        "    plt.ylabel(\"Error rate\")\n",
        "    plt.legend()\n",
        "    if save:\n",
        "        plt.savefig(savepath + save + \".png\")\n",
        "    plt.show()"
      ]
    },
    {
      "cell_type": "markdown",
      "metadata": {},
      "source": [
        "# 2. Models"
      ]
    },
    {
      "cell_type": "markdown",
      "metadata": {
        "id": "XAnlioCM9_g0"
      },
      "source": [
        "## 2.1. RBM (Restricted Boltzmann Machine)"
      ]
    },
    {
      "cell_type": "code",
      "execution_count": 7,
      "metadata": {
        "id": "leCPIk8v9_g1"
      },
      "outputs": [],
      "source": [
        "class RBM:\n",
        "    def __init__(self, p, q):\n",
        "        \"\"\"\n",
        "        Construit et initialise les poids et les biais d'un RBM. Cette fonction retournera une structure RBM avec des poids et biais initialisés.\n",
        "        On initialisera les biais à 0 tandis que les poids seront initialisés aléatoirement suivant une loi normale centrée, de variance égale à 0.01.\n",
        "        \"\"\"\n",
        "        self.W = np.random.normal(0, 0.01, (p, q))\n",
        "        self.a = np.zeros(p)\n",
        "        self.b = np.zeros(q)\n",
        "\n",
        "    def entree_sortie(self, X):\n",
        "        \"\"\"\n",
        "        Calcule la valeur des unités de sortie d'un RBM à partir des données d'entrée et de la fonction sigmoïde.\n",
        "        \"\"\"\n",
        "        return sigmoid(np.dot(X, self.W) + self.b)\n",
        "\n",
        "    def sortie_entree(self, H):\n",
        "        \"\"\"\n",
        "        Calcule la valeur des unités d'entrée d'un RBM à partir des données de sortie et de la fonction sigmoïde.\n",
        "        \"\"\"\n",
        "        return sigmoid(np.dot(H, self.W.T) + self.a)\n",
        "\n",
        "    def train(self, X, epochs, lr, batch_size):\n",
        "        \"\"\"\n",
        "        Apprend un RBM par l'algorithme Contrastive-Divergence-1. Cette fonction retournera un structure\n",
        "        RBM et prendra en argument une structure RBM, le nombre d'itérations de la descente de gradient (epochs),\n",
        "        le learning rate, la taille du mini-batch, des données d'entrées...\n",
        "        \"\"\"\n",
        "        print(\"Entrainement du RBM...\")\n",
        "        n = X.shape[0]\n",
        "        p, q = self.W.shape\n",
        "        for epoch in tqdm(range(epochs)):\n",
        "            X_copy = np.copy(X)\n",
        "            np.random.shuffle(X_copy)\n",
        "            for i in range(0, n, batch_size):\n",
        "                v_0 = X[i : i + batch_size]\n",
        "                tb = len(v_0)\n",
        "                es_v_0 = self.entree_sortie(v_0)\n",
        "                h_0 = (np.random.uniform(size=(tb, q)) < es_v_0).astype(\"float\")\n",
        "                v_1 = (\n",
        "                    np.random.uniform(size=(tb, p)) < self.sortie_entree(h_0)\n",
        "                ).astype(\"float\")\n",
        "                h_1 = self.entree_sortie(v_1)\n",
        "                self.W += lr / tb * (np.dot(v_0.T, es_v_0) - np.dot(v_1.T, h_1))\n",
        "                self.a += lr / tb * np.sum(v_0 - v_1, axis=0)\n",
        "                self.b += lr / tb * np.sum(es_v_0 - h_1, axis=0)\n",
        "        # return self\n",
        "\n",
        "    def generer_image(self, n_iter, n_image):\n",
        "        \"\"\"\n",
        "        Génère des échantillons suivant un RBM. Cette fonction retournera et affichera les images générées et prendra en argument une structure de type RBM, le nombre d'itérations à utiliser dans l'échantillonneur de Gibbs et le nombre d'images à générer.\n",
        "        \"\"\"\n",
        "        # p, q = self.W.shape\n",
        "        # # proba = np.random.random()\n",
        "        # proba = .5\n",
        "        # X = (np.random.uniform(size=(n_image, p)) < proba).astype(\"float\")\n",
        "        # for i in range(n_iter):\n",
        "        #     H = (np.random.uniform(size=(n_image, q)) < self.entree_sortie(X)).astype(\n",
        "        #         \"float\"\n",
        "        #     )\n",
        "        #     X = (np.random.uniform(size=(n_image, p)) < self.sortie_entree(H)).astype(\n",
        "        #         \"float\"\n",
        "        #     )\n",
        "\n",
        "        p, q = self.W.shape\n",
        "        \n",
        "        V = (np.random.uniform(size=(n_image, p)) < .5).astype(\"float\")\n",
        "        for i in range(n_iter):\n",
        "            H = (np.random.uniform(size=(n_image, q)) < self.entree_sortie(V)).astype(\n",
        "                \"float\"\n",
        "            )\n",
        "            V = (np.random.uniform(size=(n_image, p)) < self.sortie_entree(H)).astype(\n",
        "                \"float\"\n",
        "            )\n",
        "\n",
        "        return V"
      ]
    },
    {
      "cell_type": "markdown",
      "metadata": {
        "id": "Q-cxh8ot9_g2"
      },
      "source": [
        "## 2.2. DBN (Deep Belief Network)"
      ]
    },
    {
      "cell_type": "code",
      "execution_count": 8,
      "metadata": {
        "id": "Kb6o0zF79_g6"
      },
      "outputs": [],
      "source": [
        "class DBN:\n",
        "    def __init__(self, n_layers):\n",
        "        \"\"\"\n",
        "        Construit et initialise les poids et les biais d'un DBN. Cette fonction retournera un DBN avec des poids et biais initialisés.\n",
        "        On initialisera les biais à 0 tandis que les poids seront initialisés aléatoirement suivant une loi normale centrée, de variance égale à 0.01.\n",
        "        \"\"\"\n",
        "        self.layers = []\n",
        "        for i in range(len(n_layers) - 1):\n",
        "            self.layers.append(RBM(n_layers[i], n_layers[i + 1]))\n",
        "\n",
        "    def __len__(self):\n",
        "        return len(self.layers)\n",
        "\n",
        "    def __getitem__(self, i):\n",
        "        return self.layers[i]\n",
        "\n",
        "    def __setitem__(self, i, layer):\n",
        "        self.layers[i] = layer\n",
        "\n",
        "    def train(self, X_init, epochs, lr, batch_size):\n",
        "        \"\"\"\n",
        "        Apprend un DBN par la méthode Greedy Layer-Wise. Cette fonction retournera un DBN pré-entrainé et prendra en argument un DBN, le nombre d'itérations de la descente de gradient, le learning rate, la taille du mini-batch, des données d'entrées.\n",
        "        \"\"\"\n",
        "        print(\"Entrainement du DBN...\")\n",
        "        X = X_init\n",
        "        for rbm in self.layers: # pk c'était pas ça avant ? A voir\n",
        "            rbm.train(X, epochs, lr, batch_size)\n",
        "            X = rbm.entree_sortie(X)\n",
        "\n",
        "    def generer_image(self, n_iter, n_image):\n",
        "        \"\"\"\n",
        "        Génère des échantillons suivant un DBN. Cette fonction retournera et affichera les images générées et prendra en argument un DBN pré-entrainé, le nombre d'itérations à utiliser dans l'échantillonneur de Gibbs et le nombre d'images à générer.\n",
        "        \"\"\"\n",
        "        # X = self.layers[-1].generer_image(n_iter, n_image)\n",
        "        # for i in range(len(self.layers) - 2, -1, -1):\n",
        "        #     p, q = self.layers[i].W.shape\n",
        "        #     X = (\n",
        "        #         np.random.uniform(size=(n_image, p)) < self.layers[i].sortie_entree(X)\n",
        "        #     ).astype(\"float\")\n",
        "        \n",
        "        p, q = self.layers[0].W.shape\n",
        "\n",
        "        V = (np.random.uniform(size=(n_image, p)) < .5).astype(\"float\")\n",
        "        for i in range(n_iter):\n",
        "            H = V.copy()\n",
        "            for layer in self.layers:\n",
        "                p, q = layer.W.shape\n",
        "                H = (np.random.uniform(size=(n_image, q)) < layer.entree_sortie(H)).astype(\n",
        "                    \"float\"\n",
        "                )\n",
        "            V = H.copy()\n",
        "            for layer in self.layers[::-1]:\n",
        "                p, q = layer.W.shape\n",
        "                V = (np.random.uniform(size=(n_image, p)) < layer.sortie_entree(V)).astype(\n",
        "                    \"float\"\n",
        "                )\n",
        "        \n",
        "        return V"
      ]
    },
    {
      "cell_type": "markdown",
      "metadata": {
        "id": "TU0xPna99_g6"
      },
      "source": [
        "## 2.3. DNN (Deep Neural Network)"
      ]
    },
    {
      "cell_type": "code",
      "execution_count": 9,
      "metadata": {
        "id": "yCcY-T3v9_g7"
      },
      "outputs": [],
      "source": [
        "class FC:\n",
        "    def __init__(self, p, q):\n",
        "        self.W = np.random.normal(0, 0.1, (p, q))\n",
        "        self.b = np.zeros(q)\n",
        "\n",
        "\n",
        "class DNN(DBN):\n",
        "    def __init__(self, n_layers):\n",
        "        \"\"\"\n",
        "        Construit et initialise les poids et les biais d'un DNN. Cette fonction retournera un DNN avec des poids et biais initialisés.\n",
        "        On initialisera les biais à 0 tandis que les poids seront initialisés aléatoirement suivant une loi normale centrée, de variance égale à 0.01.\n",
        "        \"\"\"\n",
        "        self.layers = []\n",
        "        for i in range(len(n_layers) - 2):\n",
        "            self.layers.append(RBM(n_layers[i], n_layers[i + 1]))\n",
        "        self.layers.append(FC(n_layers[-2], n_layers[-1]))\n",
        "\n",
        "    def pretrain(self, X_init, epochs, lr, batch_size):\n",
        "        \"\"\"\n",
        "        Pré-entraine un DNN. Cette fonction retournera un DNN pré-entrainé et prendra en argument un DNN, le nombre d'itérations de la descente de gradient, le learning rate, la taille du mini-batch, des données d'entrées.\n",
        "        \"\"\"\n",
        "        print(\"Pré-entrainement du DNN...\")\n",
        "        X = X_init\n",
        "        for rbm in self.layers[:-1]:\n",
        "            rbm.train(X, epochs, lr, batch_size)\n",
        "            X = rbm.entree_sortie(X)\n",
        "\n",
        "    def entree_sortie_reseau(self, X):\n",
        "        \"\"\"\n",
        "        Calcule les sorties sur chaque couche du réseau (couche d'entrée inclue) ainsi que les probabilités sur les unités de sortie. Cette fonction retournera une liste contenant les sorties sur chaque couche du réseau ainsi que les probabilités sur les unités de sortie et prendra en argument un DNN et des données d'entrée.\n",
        "        \"\"\"\n",
        "        sorties = [X]\n",
        "        for rbm in self.layers[:-1]:\n",
        "            sorties.append(rbm.entree_sortie(sorties[-1]))\n",
        "        sorties.append(calcul_softmax(self.layers[-1], sorties[-1]))\n",
        "        return sorties\n",
        "\n",
        "    def retropropagation(self, X, y, epochs, lr, batch_size, verbose):\n",
        "        \"\"\"\n",
        "        Estime les poids/biais du réseau à partir de données labellisées. Cette fonction retournera un DNN et prendra en argument un DNN, le nombre d'itérations de la descente de gradient, le learning rate, la taille du mini-batch, des données d'entrée, leur label,...\n",
        "        \"\"\"\n",
        "        print(\"Entrainement du DNN...\")\n",
        "        for epoch in tqdm(range(epochs)):\n",
        "            for i in range(0, X.shape[0], batch_size):\n",
        "                X_batch = X[i : i + batch_size]\n",
        "                y_batch = y[i : i + batch_size]\n",
        "                tb = len(X_batch)\n",
        "                sortie = self.entree_sortie_reseau(X_batch)\n",
        "                # compute dL/dZ\n",
        "                d_Z = sortie[-1] - y_batch\n",
        "\n",
        "                for j in range(len(self.layers) - 1, -1, -1):\n",
        "                    grad_W = 1 / tb * np.dot(sortie[j].T, d_Z)\n",
        "                    grad_b = 1 / tb * np.sum(d_Z, axis=0)\n",
        "\n",
        "                    # update W and b\n",
        "                    self.layers[j].W -= lr * grad_W\n",
        "                    self.layers[j].b -= lr * grad_b\n",
        "\n",
        "                    if j == 0:  # no need to compute at last iteration\n",
        "                        break\n",
        "\n",
        "                    # compute dL/dA and dL/dZ\n",
        "                    d_A = np.dot(d_Z, self.layers[j].W.T)\n",
        "                    d_Z = d_A * sortie[j] * (1 - sortie[j])\n",
        "                cross_entropy = -np.mean(np.sum(y_batch * np.log(sortie[-1]), axis=1))\n",
        "            if verbose == 2:\n",
        "                print(f\"Epoch {epoch} - CE:\", cross_entropy)\n",
        "\n",
        "    def test(self, X, y):\n",
        "        \"\"\"\n",
        "        Teste les performances du réseau appris. Cette fonction retournera le taux d'erreur et prendra en argument un DNN appris, un jeu de données test, et les vrais labels associés.\n",
        "        \"\"\"\n",
        "        sortie = self.entree_sortie_reseau(X)\n",
        "        # Compute cross entropy\n",
        "        cross_entropy = -np.mean(np.sum(y * np.log(sortie[-1]), axis=1))\n",
        "        return sortie[-1], cross_entropy"
      ]
    },
    {
      "cell_type": "markdown",
      "metadata": {
        "collapsed": false,
        "id": "zN5tOYnZ9_hD"
      },
      "source": [
        "## 2.4. Main functions to launch models"
      ]
    },
    {
      "cell_type": "code",
      "execution_count": 10,
      "metadata": {
        "id": "vOx6Q5Zq9_hD",
        "pycharm": {
          "is_executing": true
        }
      },
      "outputs": [],
      "source": [
        "def RBM_main(\n",
        "    X,\n",
        "    width: int,\n",
        "    height: int,\n",
        "    q: int,\n",
        "    epochs: int,\n",
        "    lr,\n",
        "    batch_size: int,\n",
        "    n_images: int = 9,\n",
        "):\n",
        "\n",
        "    rbm = RBM(p=width * height, q=q)\n",
        "    \n",
        "    rbm.train(X, epochs, lr, batch_size)\n",
        "\n",
        "    X_gen = rbm.generer_image(100, n_images).reshape(-1, width, height)\n",
        "    return X_gen"
      ]
    },
    {
      "cell_type": "code",
      "execution_count": 11,
      "metadata": {
        "id": "KTnblAoD9_hD"
      },
      "outputs": [],
      "source": [
        "def DBN_main(\n",
        "    X,\n",
        "    n_layers,\n",
        "    width: int,\n",
        "    height: int,\n",
        "    epochs: int,\n",
        "    lr,\n",
        "    batch_size: int,\n",
        "    n_images: int = 9,\n",
        "):\n",
        "    dbn = DBN(n_layers)\n",
        "\n",
        "    dbn.train(X, epochs, lr, batch_size)\n",
        "\n",
        "    X_gen = dbn.generer_image(100, n_images).reshape(-1, width, height)\n",
        "    return X_gen"
      ]
    },
    {
      "cell_type": "code",
      "execution_count": 12,
      "metadata": {
        "id": "qMVfEf0_9_hE"
      },
      "outputs": [],
      "source": [
        "def DNN_main(\n",
        "    X_train,\n",
        "    X_test,\n",
        "    y_train,\n",
        "    y_test,\n",
        "    n_layers,\n",
        "    lr,\n",
        "    batch_size,\n",
        "    pretrain_iter,\n",
        "    train_iter,\n",
        "    show_preds=False,\n",
        "    verbose=1,\n",
        "):\n",
        "    # Initialisation du DNN\n",
        "    dnn = DNN(n_layers)\n",
        "\n",
        "    # Pré-entrainement du DNN\n",
        "    if pretrain_iter:\n",
        "        dnn.pretrain(X_train, pretrain_iter, lr, batch_size)\n",
        "\n",
        "    # Entrainement du DNN\n",
        "    dnn.retropropagation(\n",
        "        X_train, y_train, train_iter, lr, batch_size, verbose\n",
        "    )\n",
        "\n",
        "    # Test du DNN\n",
        "    y_train_pred, cross_entropy_train = dnn.test(X_train, y_train)\n",
        "    train_score = accuracy_score(\n",
        "        np.argmax(y_train, axis=1), np.argmax(y_train_pred, axis=1)\n",
        "    )\n",
        "    # Test du DNN\n",
        "    y_pred, cross_entropy = dnn.test(X_test, y_test)\n",
        "    test_score = accuracy_score(\n",
        "        np.argmax(y_test, axis=1), np.argmax(y_pred, axis=1)\n",
        "    )\n",
        "\n",
        "    if verbose >= 1:\n",
        "        print(\"accuracy_score (train)\", train_score)\n",
        "        print(\"accuracy_score (test)\", test_score)\n",
        "\n",
        "    if show_preds:\n",
        "        plot_preds(X_test, y_test, y_pred, save=\"mnist_preds_with_prob\")\n",
        "\n",
        "    return cross_entropy, test_score, train_score, dnn"
      ]
    },
    {
      "cell_type": "markdown",
      "metadata": {
        "id": "dVwGq4KJ9_hF"
      },
      "source": [
        "# 3. Binary AlphaDigit Dataset"
      ]
    },
    {
      "cell_type": "code",
      "execution_count": 103,
      "metadata": {
        "id": "VUTGSxYx9_hF"
      },
      "outputs": [],
      "source": [
        "alphadigit = [str(i) for i in range(10)] + [chr(i) for i in range(65, 91)]\n",
        "\n",
        "X, y = lire_alpha_digit(chars=alphadigit)\n",
        "height = 20\n",
        "width = 16"
      ]
    },
    {
      "cell_type": "code",
      "execution_count": 104,
      "metadata": {
        "colab": {
          "base_uri": "https://localhost:8080/",
          "height": 487
        },
        "id": "EFRCXXUl9_hG",
        "outputId": "e4000432-8c4e-4835-a313-569b475c508b"
      },
      "outputs": [
        {
          "data": {
            "image/png": "[encoded data removed]",
            "text/plain": [
              "<Figure size 640x480 with 9 Axes>"
            ]
          },
          "metadata": {},
          "output_type": "display_data"
        }
      ],
      "source": [
        "plot_data(X.reshape(-1, height, width), y, save=\"binary_alphadigit\")"
      ]
    },
    {
      "cell_type": "markdown",
      "metadata": {
        "collapsed": false,
        "id": "NYbyM7x_9_hH"
      },
      "source": [
        "## 3.1. Number of neurons\n",
        "\n",
        "We start with 2 characters and analyze the results depending on the number of neurons (100 to 700).\n",
        "\n",
        "The first layer has 320 neurons to match the image size (20x16).\n",
        "\n",
        "Analysis is performed for RBM and DBN (1 hidden layer)\n"
      ]
    },
    {
      "cell_type": "code",
      "execution_count": 155,
      "metadata": {
        "colab": {
          "base_uri": "https://localhost:8080/"
        },
        "id": "uRrLOz5V9_hI",
        "outputId": "08a17c5f-5a3d-463b-8eec-c297a49396eb",
        "pycharm": {
          "is_executing": true
        }
      },
      "outputs": [
        {
          "name": "stdout",
          "output_type": "stream",
          "text": [
            "--- 100 neurons by layer ---\n",
            "Entrainement du RBM...\n"
          ]
        },
        {
          "name": "stderr",
          "output_type": "stream",
          "text": [
            "100%|██████████| 100/100 [00:00<00:00, 135.41it/s]\n"
          ]
        },
        {
          "name": "stdout",
          "output_type": "stream",
          "text": [
            "Entrainement du DBN...\n",
            "Entrainement du RBM...\n"
          ]
        },
        {
          "name": "stderr",
          "output_type": "stream",
          "text": [
            "100%|██████████| 100/100 [00:00<00:00, 115.88it/s]\n"
          ]
        },
        {
          "name": "stdout",
          "output_type": "stream",
          "text": [
            "Entrainement du RBM...\n"
          ]
        },
        {
          "name": "stderr",
          "output_type": "stream",
          "text": [
            "100%|██████████| 100/100 [00:00<00:00, 542.14it/s]\n"
          ]
        },
        {
          "name": "stdout",
          "output_type": "stream",
          "text": [
            "--- 300 neurons by layer ---\n",
            "Entrainement du RBM...\n"
          ]
        },
        {
          "name": "stderr",
          "output_type": "stream",
          "text": [
            "100%|██████████| 100/100 [00:00<00:00, 104.53it/s]\n"
          ]
        },
        {
          "name": "stdout",
          "output_type": "stream",
          "text": [
            "Entrainement du DBN...\n",
            "Entrainement du RBM...\n"
          ]
        },
        {
          "name": "stderr",
          "output_type": "stream",
          "text": [
            "100%|██████████| 100/100 [00:00<00:00, 112.08it/s]\n"
          ]
        },
        {
          "name": "stdout",
          "output_type": "stream",
          "text": [
            "Entrainement du RBM...\n"
          ]
        },
        {
          "name": "stderr",
          "output_type": "stream",
          "text": [
            "100%|██████████| 100/100 [00:00<00:00, 104.45it/s]\n"
          ]
        },
        {
          "name": "stdout",
          "output_type": "stream",
          "text": [
            "--- 500 neurons by layer ---\n",
            "Entrainement du RBM...\n"
          ]
        },
        {
          "name": "stderr",
          "output_type": "stream",
          "text": [
            "100%|██████████| 100/100 [00:03<00:00, 31.12it/s]\n"
          ]
        },
        {
          "name": "stdout",
          "output_type": "stream",
          "text": [
            "Entrainement du DBN...\n",
            "Entrainement du RBM...\n"
          ]
        },
        {
          "name": "stderr",
          "output_type": "stream",
          "text": [
            "100%|██████████| 100/100 [00:02<00:00, 41.26it/s]\n"
          ]
        },
        {
          "name": "stdout",
          "output_type": "stream",
          "text": [
            "Entrainement du RBM...\n"
          ]
        },
        {
          "name": "stderr",
          "output_type": "stream",
          "text": [
            "100%|██████████| 100/100 [00:03<00:00, 29.26it/s]\n"
          ]
        },
        {
          "name": "stdout",
          "output_type": "stream",
          "text": [
            "--- 700 neurons by layer ---\n",
            "Entrainement du RBM...\n"
          ]
        },
        {
          "name": "stderr",
          "output_type": "stream",
          "text": [
            "100%|██████████| 100/100 [00:02<00:00, 47.90it/s]\n"
          ]
        },
        {
          "name": "stdout",
          "output_type": "stream",
          "text": [
            "Entrainement du DBN...\n",
            "Entrainement du RBM...\n"
          ]
        },
        {
          "name": "stderr",
          "output_type": "stream",
          "text": [
            "100%|██████████| 100/100 [00:02<00:00, 39.74it/s]\n"
          ]
        },
        {
          "name": "stdout",
          "output_type": "stream",
          "text": [
            "Entrainement du RBM...\n"
          ]
        },
        {
          "name": "stderr",
          "output_type": "stream",
          "text": [
            "100%|██████████| 100/100 [00:06<00:00, 16.43it/s]\n"
          ]
        }
      ],
      "source": [
        "digit = ['A', 'B']\n",
        "# digit = [str(i) for i in range(2, 10)]\n",
        "X, y = lire_alpha_digit(chars=digit)\n",
        "\n",
        "n_neurons = range(100, 701, 200)\n",
        "# n_neurons = range(100, 1001, 400)\n",
        "\n",
        "epochs = 100\n",
        "# epochs = 50\n",
        "\n",
        "lr = 0.1\n",
        "batch_size = 10\n",
        "\n",
        "rbm_images = []\n",
        "dbn_images = []\n",
        "\n",
        "for n in n_neurons:\n",
        "    print(f\"--- {n} neurons by layer ---\")\n",
        "\n",
        "    X_gen_rbm = RBM_main(\n",
        "        X,\n",
        "        height,\n",
        "        width,\n",
        "        n,\n",
        "        epochs,\n",
        "        lr,\n",
        "        batch_size,\n",
        "    )\n",
        "\n",
        "    idxs = np.random.choice(X_gen_rbm.shape[0], 5, replace=False)\n",
        "    rbm_images.append(X_gen_rbm[idxs])\n",
        "\n",
        "    X_gen_dbn = DBN_main(\n",
        "        X,\n",
        "        [320, n, n],\n",
        "        height,\n",
        "        width,\n",
        "        epochs,\n",
        "        lr,\n",
        "        batch_size,\n",
        "    )\n",
        "\n",
        "    idxs = np.random.choice(X_gen_dbn.shape[0], 5, replace=False)\n",
        "    dbn_images.append(X_gen_dbn[idxs])"
      ]
    },
    {
      "cell_type": "code",
      "execution_count": 156,
      "metadata": {
        "colab": {
          "base_uri": "https://localhost:8080/",
          "height": 1000
        },
        "id": "xMyERO4U9_hI",
        "outputId": "e53fec5b-dee8-40d8-8a2d-3176e10df7d5"
      },
      "outputs": [
        {
          "name": "stdout",
          "output_type": "stream",
          "text": [
            "RBM\n"
          ]
        },
        {
          "data": {
            "image/png": "[encoded data removed]",
            "text/plain": [
              "<Figure size 600x600 with 20 Axes>"
            ]
          },
          "metadata": {},
          "output_type": "display_data"
        },
        {
          "name": "stdout",
          "output_type": "stream",
          "text": [
            "DBN\n"
          ]
        },
        {
          "data": {
            "image/png": "[encoded data removed]",
            "text/plain": [
              "<Figure size 600x600 with 20 Axes>"
            ]
          },
          "metadata": {},
          "output_type": "display_data"
        }
      ],
      "source": [
        "print(\"RBM\")\n",
        "plot_batched_images(rbm_images, n_neurons, save=\"rbm_n_neurons\")\n",
        "\n",
        "print(\"DBN\")\n",
        "plot_batched_images(dbn_images, n_neurons, save=\"dbn_n_neurons\")"
      ]
    },
    {
      "cell_type": "markdown",
      "metadata": {},
      "source": [
        "We are able to reproduce images as we observe in the training set"
      ]
    },
    {
      "cell_type": "markdown",
      "metadata": {
        "collapsed": false,
        "id": "fONZAFUC9_hJ"
      },
      "source": [
        "## 3.2 Number of layers\n",
        "\n",
        "We perform the same analysis on the DBN changing the number of hidden layers."
      ]
    },
    {
      "cell_type": "code",
      "execution_count": 151,
      "metadata": {
        "colab": {
          "base_uri": "https://localhost:8080/"
        },
        "id": "6O8qRRJT9_hJ",
        "outputId": "fd34f5f3-d06e-4dba-c2bd-8ed1798eb805"
      },
      "outputs": [
        {
          "name": "stdout",
          "output_type": "stream",
          "text": [
            "--- 1 layers ---\n",
            "Entrainement du DBN...\n",
            "Entrainement du RBM...\n"
          ]
        },
        {
          "name": "stderr",
          "output_type": "stream",
          "text": [
            "100%|██████████| 100/100 [00:01<00:00, 83.70it/s]\n"
          ]
        },
        {
          "name": "stdout",
          "output_type": "stream",
          "text": [
            "--- 3 layers ---\n",
            "Entrainement du DBN...\n",
            "Entrainement du RBM...\n"
          ]
        },
        {
          "name": "stderr",
          "output_type": "stream",
          "text": [
            "100%|██████████| 100/100 [00:00<00:00, 115.36it/s]\n"
          ]
        },
        {
          "name": "stdout",
          "output_type": "stream",
          "text": [
            "Entrainement du RBM...\n"
          ]
        },
        {
          "name": "stderr",
          "output_type": "stream",
          "text": [
            "100%|██████████| 100/100 [00:00<00:00, 160.68it/s]\n"
          ]
        },
        {
          "name": "stdout",
          "output_type": "stream",
          "text": [
            "Entrainement du RBM...\n"
          ]
        },
        {
          "name": "stderr",
          "output_type": "stream",
          "text": [
            "100%|██████████| 100/100 [00:01<00:00, 92.19it/s]\n"
          ]
        },
        {
          "name": "stdout",
          "output_type": "stream",
          "text": [
            "--- 5 layers ---\n",
            "Entrainement du DBN...\n",
            "Entrainement du RBM...\n"
          ]
        },
        {
          "name": "stderr",
          "output_type": "stream",
          "text": [
            "100%|██████████| 100/100 [00:01<00:00, 64.49it/s]\n"
          ]
        },
        {
          "name": "stdout",
          "output_type": "stream",
          "text": [
            "Entrainement du RBM...\n"
          ]
        },
        {
          "name": "stderr",
          "output_type": "stream",
          "text": [
            "100%|██████████| 100/100 [00:01<00:00, 96.67it/s]\n"
          ]
        },
        {
          "name": "stdout",
          "output_type": "stream",
          "text": [
            "Entrainement du RBM...\n"
          ]
        },
        {
          "name": "stderr",
          "output_type": "stream",
          "text": [
            "100%|██████████| 100/100 [00:00<00:00, 129.81it/s]\n"
          ]
        },
        {
          "name": "stdout",
          "output_type": "stream",
          "text": [
            "Entrainement du RBM...\n"
          ]
        },
        {
          "name": "stderr",
          "output_type": "stream",
          "text": [
            "100%|██████████| 100/100 [00:00<00:00, 162.74it/s]\n"
          ]
        },
        {
          "name": "stdout",
          "output_type": "stream",
          "text": [
            "Entrainement du RBM...\n"
          ]
        },
        {
          "name": "stderr",
          "output_type": "stream",
          "text": [
            "100%|██████████| 100/100 [00:00<00:00, 138.88it/s]\n"
          ]
        },
        {
          "name": "stdout",
          "output_type": "stream",
          "text": [
            "--- 7 layers ---\n",
            "Entrainement du DBN...\n",
            "Entrainement du RBM...\n"
          ]
        },
        {
          "name": "stderr",
          "output_type": "stream",
          "text": [
            "100%|██████████| 100/100 [00:00<00:00, 103.16it/s]\n"
          ]
        },
        {
          "name": "stdout",
          "output_type": "stream",
          "text": [
            "Entrainement du RBM...\n"
          ]
        },
        {
          "name": "stderr",
          "output_type": "stream",
          "text": [
            "100%|██████████| 100/100 [00:00<00:00, 173.76it/s]\n"
          ]
        },
        {
          "name": "stdout",
          "output_type": "stream",
          "text": [
            "Entrainement du RBM...\n"
          ]
        },
        {
          "name": "stderr",
          "output_type": "stream",
          "text": [
            "100%|██████████| 100/100 [00:00<00:00, 127.19it/s]\n"
          ]
        },
        {
          "name": "stdout",
          "output_type": "stream",
          "text": [
            "Entrainement du RBM...\n"
          ]
        },
        {
          "name": "stderr",
          "output_type": "stream",
          "text": [
            "100%|██████████| 100/100 [00:00<00:00, 144.30it/s]\n"
          ]
        },
        {
          "name": "stdout",
          "output_type": "stream",
          "text": [
            "Entrainement du RBM...\n"
          ]
        },
        {
          "name": "stderr",
          "output_type": "stream",
          "text": [
            "100%|██████████| 100/100 [00:00<00:00, 132.76it/s]\n"
          ]
        },
        {
          "name": "stdout",
          "output_type": "stream",
          "text": [
            "Entrainement du RBM...\n"
          ]
        },
        {
          "name": "stderr",
          "output_type": "stream",
          "text": [
            "100%|██████████| 100/100 [00:01<00:00, 76.62it/s]\n"
          ]
        },
        {
          "name": "stdout",
          "output_type": "stream",
          "text": [
            "Entrainement du RBM...\n"
          ]
        },
        {
          "name": "stderr",
          "output_type": "stream",
          "text": [
            "100%|██████████| 100/100 [00:01<00:00, 94.84it/s]\n"
          ]
        },
        {
          "name": "stdout",
          "output_type": "stream",
          "text": [
            "--- 9 layers ---\n",
            "Entrainement du DBN...\n",
            "Entrainement du RBM...\n"
          ]
        },
        {
          "name": "stderr",
          "output_type": "stream",
          "text": [
            "100%|██████████| 100/100 [00:01<00:00, 93.99it/s]\n"
          ]
        },
        {
          "name": "stdout",
          "output_type": "stream",
          "text": [
            "Entrainement du RBM...\n"
          ]
        },
        {
          "name": "stderr",
          "output_type": "stream",
          "text": [
            "100%|██████████| 100/100 [00:01<00:00, 91.97it/s]\n"
          ]
        },
        {
          "name": "stdout",
          "output_type": "stream",
          "text": [
            "Entrainement du RBM...\n"
          ]
        },
        {
          "name": "stderr",
          "output_type": "stream",
          "text": [
            "100%|██████████| 100/100 [00:00<00:00, 164.88it/s]\n"
          ]
        },
        {
          "name": "stdout",
          "output_type": "stream",
          "text": [
            "Entrainement du RBM...\n"
          ]
        },
        {
          "name": "stderr",
          "output_type": "stream",
          "text": [
            "100%|██████████| 100/100 [00:00<00:00, 213.15it/s]\n"
          ]
        },
        {
          "name": "stdout",
          "output_type": "stream",
          "text": [
            "Entrainement du RBM...\n"
          ]
        },
        {
          "name": "stderr",
          "output_type": "stream",
          "text": [
            "100%|██████████| 100/100 [00:00<00:00, 179.15it/s]\n"
          ]
        },
        {
          "name": "stdout",
          "output_type": "stream",
          "text": [
            "Entrainement du RBM...\n"
          ]
        },
        {
          "name": "stderr",
          "output_type": "stream",
          "text": [
            "100%|██████████| 100/100 [00:00<00:00, 177.09it/s]\n"
          ]
        },
        {
          "name": "stdout",
          "output_type": "stream",
          "text": [
            "Entrainement du RBM...\n"
          ]
        },
        {
          "name": "stderr",
          "output_type": "stream",
          "text": [
            "100%|██████████| 100/100 [00:00<00:00, 170.82it/s]\n"
          ]
        },
        {
          "name": "stdout",
          "output_type": "stream",
          "text": [
            "Entrainement du RBM...\n"
          ]
        },
        {
          "name": "stderr",
          "output_type": "stream",
          "text": [
            "100%|██████████| 100/100 [00:01<00:00, 94.20it/s]\n"
          ]
        },
        {
          "name": "stdout",
          "output_type": "stream",
          "text": [
            "Entrainement du RBM...\n"
          ]
        },
        {
          "name": "stderr",
          "output_type": "stream",
          "text": [
            "100%|██████████| 100/100 [00:00<00:00, 104.52it/s]\n"
          ]
        }
      ],
      "source": [
        "digit = ['A', 'B']\n",
        "X, y = lire_alpha_digit(chars=digit)\n",
        "\n",
        "n_layers = range(1, 10, 2)\n",
        "\n",
        "epochs = 100\n",
        "lr = 0.1\n",
        "batch_size = 10\n",
        "q = 200\n",
        "\n",
        "dbn_images = []\n",
        "\n",
        "for n in n_layers:\n",
        "    print(f\"--- {n} layers ---\")\n",
        "    layers = [200] * n\n",
        "\n",
        "    X_gen_dbn = DBN_main(\n",
        "        X,\n",
        "        [320] + layers,\n",
        "        height,\n",
        "        width,\n",
        "        epochs,\n",
        "        lr,\n",
        "        batch_size,\n",
        "    )\n",
        "\n",
        "    idxs = np.random.choice(X_gen_dbn.shape[0], 5, replace=False)\n",
        "    dbn_images.append(X_gen_dbn[idxs])"
      ]
    },
    {
      "cell_type": "code",
      "execution_count": 152,
      "metadata": {
        "colab": {
          "base_uri": "https://localhost:8080/",
          "height": 624
        },
        "id": "zXmCclYD9_hJ",
        "outputId": "64649bbb-45ff-42c6-fd74-ac8a988d5b43"
      },
      "outputs": [
        {
          "name": "stdout",
          "output_type": "stream",
          "text": [
            "DBN\n"
          ]
        },
        {
          "data": {
            "image/png": "[encoded data removed]",
            "text/plain": [
              "<Figure size 750x750 with 25 Axes>"
            ]
          },
          "metadata": {},
          "output_type": "display_data"
        }
      ],
      "source": [
        "print(\"DBN\")\n",
        "plot_batched_images(dbn_images, n_layers, save=\"dbn_n_layers\")"
      ]
    },
    {
      "cell_type": "markdown",
      "metadata": {
        "collapsed": false,
        "id": "yDjUX8vT9_hK"
      },
      "source": [
        "## 3.3. Richness of the training set (number of characters)\n",
        "\n",
        "We perform the same analysis using 3 different training sets: with 2, 4 or 10 characters."
      ]
    },
    {
      "cell_type": "code",
      "execution_count": 109,
      "metadata": {
        "colab": {
          "base_uri": "https://localhost:8080/"
        },
        "id": "M2Z8PLN89_hK",
        "outputId": "194152ec-3439-447b-fcc8-6901f0699b28"
      },
      "outputs": [
        {
          "name": "stdout",
          "output_type": "stream",
          "text": [
            "Small: ['A', 'B']\n",
            "Medium: ['A', 'B', 'C', 'D']\n",
            "Large: ['A', 'B', 'C', 'D', 'E', 'F', 'G', 'H', 'I', 'J']\n"
          ]
        }
      ],
      "source": [
        "small = ['A', 'B']\n",
        "medium = ['A', 'B', 'C', 'D']\n",
        "large = [chr(i) for i in range(65, 75)]\n",
        "\n",
        "print(\"Small:\", small)\n",
        "print(\"Medium:\", medium)\n",
        "print(\"Large:\", large)"
      ]
    },
    {
      "cell_type": "code",
      "execution_count": 110,
      "metadata": {
        "colab": {
          "base_uri": "https://localhost:8080/"
        },
        "id": "H-bA9Y2o9_hK",
        "outputId": "5ada6f12-0ca8-4678-e0f9-1ff1130e961c"
      },
      "outputs": [
        {
          "name": "stdout",
          "output_type": "stream",
          "text": [
            "--- Size: small ---\n",
            "Entrainement du RBM...\n"
          ]
        },
        {
          "name": "stderr",
          "output_type": "stream",
          "text": [
            "100%|██████████| 100/100 [00:06<00:00, 14.76it/s]\n"
          ]
        },
        {
          "name": "stdout",
          "output_type": "stream",
          "text": [
            "Entrainement du DBN...\n",
            "Entrainement du RBM...\n"
          ]
        },
        {
          "name": "stderr",
          "output_type": "stream",
          "text": [
            "100%|██████████| 100/100 [00:14<00:00,  6.96it/s]\n"
          ]
        },
        {
          "name": "stdout",
          "output_type": "stream",
          "text": [
            "Entrainement du RBM...\n"
          ]
        },
        {
          "name": "stderr",
          "output_type": "stream",
          "text": [
            "100%|██████████| 100/100 [00:01<00:00, 90.41it/s]\n"
          ]
        },
        {
          "name": "stdout",
          "output_type": "stream",
          "text": [
            "--- Size: medium ---\n",
            "Entrainement du RBM...\n"
          ]
        },
        {
          "name": "stderr",
          "output_type": "stream",
          "text": [
            "100%|██████████| 100/100 [00:10<00:00,  9.44it/s]\n"
          ]
        },
        {
          "name": "stdout",
          "output_type": "stream",
          "text": [
            "Entrainement du DBN...\n",
            "Entrainement du RBM...\n"
          ]
        },
        {
          "name": "stderr",
          "output_type": "stream",
          "text": [
            "100%|██████████| 100/100 [00:03<00:00, 29.59it/s]\n"
          ]
        },
        {
          "name": "stdout",
          "output_type": "stream",
          "text": [
            "Entrainement du RBM...\n"
          ]
        },
        {
          "name": "stderr",
          "output_type": "stream",
          "text": [
            "100%|██████████| 100/100 [00:02<00:00, 40.33it/s]\n"
          ]
        },
        {
          "name": "stdout",
          "output_type": "stream",
          "text": [
            "--- Size: large ---\n",
            "Entrainement du RBM...\n"
          ]
        },
        {
          "name": "stderr",
          "output_type": "stream",
          "text": [
            "100%|██████████| 100/100 [00:08<00:00, 12.28it/s]\n"
          ]
        },
        {
          "name": "stdout",
          "output_type": "stream",
          "text": [
            "Entrainement du DBN...\n",
            "Entrainement du RBM...\n"
          ]
        },
        {
          "name": "stderr",
          "output_type": "stream",
          "text": [
            "100%|██████████| 100/100 [00:05<00:00, 17.35it/s]\n"
          ]
        },
        {
          "name": "stdout",
          "output_type": "stream",
          "text": [
            "Entrainement du RBM...\n"
          ]
        },
        {
          "name": "stderr",
          "output_type": "stream",
          "text": [
            "100%|██████████| 100/100 [00:06<00:00, 16.11it/s]\n"
          ]
        }
      ],
      "source": [
        "epochs = 100\n",
        "lr = 0.1\n",
        "batch_size = 10\n",
        "q = 200\n",
        "n_layers = [320, 200, 200]\n",
        "\n",
        "rbm_images = []\n",
        "dbn_images = []\n",
        "\n",
        "for size, chars in zip([\"small\", \"medium\", \"large\"], [small, medium, large]):\n",
        "    print(\"--- Size:\", size, \"---\")\n",
        "    X, y = lire_alpha_digit(chars=chars)\n",
        "\n",
        "    X_gen_rbm = RBM_main(\n",
        "        X,\n",
        "        height,\n",
        "        width,\n",
        "        q,\n",
        "        epochs,\n",
        "        lr,\n",
        "        batch_size,\n",
        "    )\n",
        "\n",
        "    idxs = np.random.choice(X_gen_rbm.shape[0], 5, replace=False)\n",
        "    rbm_images.append(X_gen_rbm[idxs])\n",
        "\n",
        "    X_gen_dbn = DBN_main(\n",
        "        X,\n",
        "        n_layers,\n",
        "        height,\n",
        "        width,\n",
        "        epochs,\n",
        "        lr,\n",
        "        batch_size,\n",
        "    )\n",
        "\n",
        "    idxs = np.random.choice(X_gen_dbn.shape[0], 5, replace=False)\n",
        "    dbn_images.append(X_gen_dbn[idxs])"
      ]
    },
    {
      "cell_type": "code",
      "execution_count": 111,
      "metadata": {
        "colab": {
          "base_uri": "https://localhost:8080/",
          "height": 930
        },
        "id": "FACHV5Og9_hL",
        "outputId": "6dd0e6a8-f05e-4830-a63a-1f61c20c9678"
      },
      "outputs": [
        {
          "name": "stdout",
          "output_type": "stream",
          "text": [
            "RBM\n"
          ]
        },
        {
          "data": {
            "image/png": "[encoded data removed]",
            "text/plain": [
              "<Figure size 600x450 with 15 Axes>"
            ]
          },
          "metadata": {},
          "output_type": "display_data"
        },
        {
          "name": "stdout",
          "output_type": "stream",
          "text": [
            "DBN\n"
          ]
        },
        {
          "data": {
            "image/png": "[encoded data removed]",
            "text/plain": [
              "<Figure size 600x450 with 15 Axes>"
            ]
          },
          "metadata": {},
          "output_type": "display_data"
        }
      ],
      "source": [
        "print(\"RBM\")\n",
        "plot_batched_images(rbm_images, [\"small\", \"medium\", \"large\"], save=\"rbm_dataset_size\")\n",
        "\n",
        "print(\"DBN\")\n",
        "plot_batched_images(dbn_images, [\"small\", \"medium\", \"large\"], save=\"dbn_dataset_size\")"
      ]
    },
    {
      "cell_type": "markdown",
      "metadata": {
        "collapsed": false,
        "id": "QcCYxriu9_hL"
      },
      "source": [
        "# 4. MNIST Dataset\n",
        "\n",
        "This dataset is larger and we can use 60 000 training images and test it on 10 000 images.\n",
        "\n",
        "In order to prevent very long experiments, we have 2 versions of parameter set to be used (please change it at the beginning of the notebook).\n",
        "\n",
        "The 'full' version is the right version to launch but it can be very long to execute."
      ]
    },
    {
      "cell_type": "code",
      "execution_count": 18,
      "metadata": {
        "id": "pd5o6QOm9_hL"
      },
      "outputs": [
        {
          "name": "stdout",
          "output_type": "stream",
          "text": [
            "Directory \"save_12000_100_2_10_50/\" created\n"
          ]
        }
      ],
      "source": [
        "if notebook_version=='light':\n",
        "    train_size = 12000 \n",
        "    n_main = 100\n",
        "    n_hidden = 2\n",
        "    pretrain_iter = 10 \n",
        "    train_iter = 50 \n",
        "elif notebook_version=='full':\n",
        "#----------\n",
        "    train_size = 60000 # Default = 30000\n",
        "    n_main = 200 # standard number of neurons per layer (default = 200)\n",
        "    n_hidden = 2 # default = 2\n",
        "    pretrain_iter = 50 # 100 default = 50?\n",
        "    train_iter = 200 # 200 default = 200?\n",
        "\n",
        "# Create directory to save plots\n",
        "savepath = 'save' + '_' + str(train_size) + '_' + str(n_main) + '_' + str(n_hidden) + '_' + str(pretrain_iter) +'_' + str(train_iter) + '/'\n",
        "if not os.path.exists(savepath):\n",
        "    os.makedirs(savepath)\n",
        "    print('Directory \"' + str(savepath) + '\" created')\n",
        "#----------\n",
        "\n",
        "X_train, X_test, y_train, y_test = lire_mnist(subsample_size=train_size) # -1\n",
        "\n",
        "batch_size = 256 # 2000 \n",
        "lr = 0.1\n",
        "\n",
        "n_layers = [784] + [n_main] * n_hidden + [10]\n"
      ]
    },
    {
      "cell_type": "code",
      "execution_count": 169,
      "metadata": {
        "colab": {
          "base_uri": "https://localhost:8080/",
          "height": 486
        },
        "id": "1IpCFaCD9_hL",
        "outputId": "23913fca-be6a-4c17-c27f-fc3f88618c04"
      },
      "outputs": [
        {
          "data": {
            "image/png": "[encoded data removed]",
            "text/plain": [
              "<Figure size 640x480 with 9 Axes>"
            ]
          },
          "metadata": {},
          "output_type": "display_data"
        }
      ],
      "source": [
        "plot_data(X_train.reshape(-1, 28, 28), save=\"mnist\")"
      ]
    },
    {
      "cell_type": "markdown",
      "metadata": {},
      "source": [
        "## 4.1. Test the DNN"
      ]
    },
    {
      "cell_type": "code",
      "execution_count": 170,
      "metadata": {
        "colab": {
          "base_uri": "https://localhost:8080/",
          "height": 533
        },
        "id": "sQ7RTxqkb9ga",
        "outputId": "5253434e-f74a-4bc0-e28e-282332f83a55"
      },
      "outputs": [
        {
          "name": "stdout",
          "output_type": "stream",
          "text": [
            "Pré-entrainement du DNN...\n",
            "Entrainement du RBM...\n"
          ]
        },
        {
          "name": "stderr",
          "output_type": "stream",
          "text": [
            "100%|██████████| 10/10 [00:06<00:00,  1.56it/s]\n"
          ]
        },
        {
          "name": "stdout",
          "output_type": "stream",
          "text": [
            "Entrainement du RBM...\n"
          ]
        },
        {
          "name": "stderr",
          "output_type": "stream",
          "text": [
            "100%|██████████| 10/10 [00:01<00:00,  7.59it/s]\n"
          ]
        },
        {
          "name": "stdout",
          "output_type": "stream",
          "text": [
            "Entrainement du DNN...\n"
          ]
        },
        {
          "name": "stderr",
          "output_type": "stream",
          "text": [
            "100%|██████████| 50/50 [00:09<00:00,  5.12it/s]\n"
          ]
        },
        {
          "name": "stdout",
          "output_type": "stream",
          "text": [
            "accuracy_score (train) 0.9133333333333333\n",
            "accuracy_score (test) 0.9018\n"
          ]
        },
        {
          "data": {
            "image/png": "[encoded data removed]",
            "text/plain": [
              "<Figure size 800x600 with 12 Axes>"
            ]
          },
          "metadata": {},
          "output_type": "display_data"
        }
      ],
      "source": [
        "ce, score, train_score, _ = DNN_main(\n",
        "    X_train,\n",
        "    X_test,\n",
        "    y_train,\n",
        "    y_test,\n",
        "    n_layers=[784] + [n_main] * n_hidden + [10], #--------\n",
        "    # n_layers=[784] + [100] + [10], #--------\n",
        "    lr=lr,\n",
        "    batch_size=batch_size,\n",
        "    pretrain_iter=pretrain_iter,\n",
        "    train_iter=train_iter,\n",
        "    show_preds=True,\n",
        "    verbose=True,\n",
        ")"
      ]
    },
    {
      "cell_type": "markdown",
      "metadata": {},
      "source": [
        "We obtain very good results with the default parameters:\n",
        "- 200 neurons per layer\n",
        "- 2 layers\n",
        "- complete training dataset (60 000 images)\n",
        "- batch size = 256\n",
        "- pretrain = 50 epochs\n",
        "- train = 200 epochs"
      ]
    },
    {
      "cell_type": "markdown",
      "metadata": {
        "id": "zPcp4h5m9_hM",
        "outputId": "fd60b7b6-f659-44f2-f3b6-fd5acd9920d2"
      },
      "source": [
        "## 4.2. Number of hidden layers"
      ]
    },
    {
      "cell_type": "code",
      "execution_count": 115,
      "metadata": {
        "colab": {
          "base_uri": "https://localhost:8080/"
        },
        "id": "twOLTI61b9gb",
        "outputId": "0c3d3820-2c85-45df-c19d-f3cfefcb9ee0"
      },
      "outputs": [
        {
          "name": "stdout",
          "output_type": "stream",
          "text": [
            "--- 1 hidden layer(s) ---\n",
            "Pré-entrainement du DNN...\n",
            "Entrainement du RBM...\n"
          ]
        },
        {
          "name": "stderr",
          "output_type": "stream",
          "text": [
            "  0%|          | 0/10 [00:00<?, ?it/s]"
          ]
        },
        {
          "name": "stderr",
          "output_type": "stream",
          "text": [
            "100%|██████████| 10/10 [00:08<00:00,  1.17it/s]\n"
          ]
        },
        {
          "name": "stdout",
          "output_type": "stream",
          "text": [
            "Entrainement du DNN...\n"
          ]
        },
        {
          "name": "stderr",
          "output_type": "stream",
          "text": [
            "100%|██████████| 30/30 [00:06<00:00,  4.34it/s]\n"
          ]
        },
        {
          "name": "stdout",
          "output_type": "stream",
          "text": [
            "accuracy_score (train) 0.8785\n",
            "accuracy_score (test) 0.8698\n",
            "Entrainement du DNN...\n"
          ]
        },
        {
          "name": "stderr",
          "output_type": "stream",
          "text": [
            "100%|██████████| 30/30 [00:06<00:00,  4.81it/s]\n"
          ]
        },
        {
          "name": "stdout",
          "output_type": "stream",
          "text": [
            "accuracy_score (train) 0.9105833333333333\n",
            "accuracy_score (test) 0.8993\n",
            "--- 2 hidden layer(s) ---\n",
            "Pré-entrainement du DNN...\n",
            "Entrainement du RBM...\n"
          ]
        },
        {
          "name": "stderr",
          "output_type": "stream",
          "text": [
            "100%|██████████| 10/10 [00:07<00:00,  1.31it/s]\n"
          ]
        },
        {
          "name": "stdout",
          "output_type": "stream",
          "text": [
            "Entrainement du RBM...\n"
          ]
        },
        {
          "name": "stderr",
          "output_type": "stream",
          "text": [
            "100%|██████████| 10/10 [00:01<00:00,  7.01it/s]\n"
          ]
        },
        {
          "name": "stdout",
          "output_type": "stream",
          "text": [
            "Entrainement du DNN...\n"
          ]
        },
        {
          "name": "stderr",
          "output_type": "stream",
          "text": [
            "100%|██████████| 30/30 [00:07<00:00,  3.81it/s]\n"
          ]
        },
        {
          "name": "stdout",
          "output_type": "stream",
          "text": [
            "accuracy_score (train) 0.83425\n",
            "accuracy_score (test) 0.8219\n",
            "Entrainement du DNN...\n"
          ]
        },
        {
          "name": "stderr",
          "output_type": "stream",
          "text": [
            "100%|██████████| 30/30 [00:07<00:00,  4.28it/s]\n"
          ]
        },
        {
          "name": "stdout",
          "output_type": "stream",
          "text": [
            "accuracy_score (train) 0.4915833333333333\n",
            "accuracy_score (test) 0.4817\n",
            "--- 3 hidden layer(s) ---\n",
            "Pré-entrainement du DNN...\n",
            "Entrainement du RBM...\n"
          ]
        },
        {
          "name": "stderr",
          "output_type": "stream",
          "text": [
            "100%|██████████| 10/10 [00:06<00:00,  1.61it/s]\n"
          ]
        },
        {
          "name": "stdout",
          "output_type": "stream",
          "text": [
            "Entrainement du RBM...\n"
          ]
        },
        {
          "name": "stderr",
          "output_type": "stream",
          "text": [
            "100%|██████████| 10/10 [00:01<00:00,  9.44it/s]\n"
          ]
        },
        {
          "name": "stdout",
          "output_type": "stream",
          "text": [
            "Entrainement du RBM...\n"
          ]
        },
        {
          "name": "stderr",
          "output_type": "stream",
          "text": [
            "100%|██████████| 10/10 [00:01<00:00,  9.04it/s]\n"
          ]
        },
        {
          "name": "stdout",
          "output_type": "stream",
          "text": [
            "Entrainement du DNN...\n"
          ]
        },
        {
          "name": "stderr",
          "output_type": "stream",
          "text": [
            "100%|██████████| 30/30 [00:07<00:00,  3.84it/s]\n"
          ]
        },
        {
          "name": "stdout",
          "output_type": "stream",
          "text": [
            "accuracy_score (train) 0.7825833333333333\n",
            "accuracy_score (test) 0.7688\n",
            "Entrainement du DNN...\n"
          ]
        },
        {
          "name": "stderr",
          "output_type": "stream",
          "text": [
            "100%|██████████| 30/30 [00:10<00:00,  2.78it/s]\n"
          ]
        },
        {
          "name": "stdout",
          "output_type": "stream",
          "text": [
            "accuracy_score (train) 0.11258333333333333\n",
            "accuracy_score (test) 0.1135\n",
            "--- 4 hidden layer(s) ---\n",
            "Pré-entrainement du DNN...\n",
            "Entrainement du RBM...\n"
          ]
        },
        {
          "name": "stderr",
          "output_type": "stream",
          "text": [
            "100%|██████████| 10/10 [00:06<00:00,  1.66it/s]\n"
          ]
        },
        {
          "name": "stdout",
          "output_type": "stream",
          "text": [
            "Entrainement du RBM...\n"
          ]
        },
        {
          "name": "stderr",
          "output_type": "stream",
          "text": [
            "100%|██████████| 10/10 [00:01<00:00,  7.09it/s]\n"
          ]
        },
        {
          "name": "stdout",
          "output_type": "stream",
          "text": [
            "Entrainement du RBM...\n"
          ]
        },
        {
          "name": "stderr",
          "output_type": "stream",
          "text": [
            "100%|██████████| 10/10 [00:01<00:00,  7.58it/s]\n"
          ]
        },
        {
          "name": "stdout",
          "output_type": "stream",
          "text": [
            "Entrainement du RBM...\n"
          ]
        },
        {
          "name": "stderr",
          "output_type": "stream",
          "text": [
            "100%|██████████| 10/10 [00:01<00:00,  7.39it/s]\n"
          ]
        },
        {
          "name": "stdout",
          "output_type": "stream",
          "text": [
            "Entrainement du DNN...\n"
          ]
        },
        {
          "name": "stderr",
          "output_type": "stream",
          "text": [
            "100%|██████████| 30/30 [00:10<00:00,  2.79it/s]\n"
          ]
        },
        {
          "name": "stdout",
          "output_type": "stream",
          "text": [
            "accuracy_score (train) 0.7400833333333333\n",
            "accuracy_score (test) 0.7318\n",
            "Entrainement du DNN...\n"
          ]
        },
        {
          "name": "stderr",
          "output_type": "stream",
          "text": [
            "100%|██████████| 30/30 [00:11<00:00,  2.69it/s]\n"
          ]
        },
        {
          "name": "stdout",
          "output_type": "stream",
          "text": [
            "accuracy_score (train) 0.11258333333333333\n",
            "accuracy_score (test) 0.1135\n",
            "--- 5 hidden layer(s) ---\n",
            "Pré-entrainement du DNN...\n",
            "Entrainement du RBM...\n"
          ]
        },
        {
          "name": "stderr",
          "output_type": "stream",
          "text": [
            "100%|██████████| 10/10 [00:08<00:00,  1.17it/s]\n"
          ]
        },
        {
          "name": "stdout",
          "output_type": "stream",
          "text": [
            "Entrainement du RBM...\n"
          ]
        },
        {
          "name": "stderr",
          "output_type": "stream",
          "text": [
            "100%|██████████| 10/10 [00:01<00:00,  7.24it/s]\n"
          ]
        },
        {
          "name": "stdout",
          "output_type": "stream",
          "text": [
            "Entrainement du RBM...\n"
          ]
        },
        {
          "name": "stderr",
          "output_type": "stream",
          "text": [
            "100%|██████████| 10/10 [00:01<00:00,  6.39it/s]\n"
          ]
        },
        {
          "name": "stdout",
          "output_type": "stream",
          "text": [
            "Entrainement du RBM...\n"
          ]
        },
        {
          "name": "stderr",
          "output_type": "stream",
          "text": [
            "100%|██████████| 10/10 [00:01<00:00,  7.56it/s]\n"
          ]
        },
        {
          "name": "stdout",
          "output_type": "stream",
          "text": [
            "Entrainement du RBM...\n"
          ]
        },
        {
          "name": "stderr",
          "output_type": "stream",
          "text": [
            "100%|██████████| 10/10 [00:01<00:00,  5.76it/s]\n"
          ]
        },
        {
          "name": "stdout",
          "output_type": "stream",
          "text": [
            "Entrainement du DNN...\n"
          ]
        },
        {
          "name": "stderr",
          "output_type": "stream",
          "text": [
            "100%|██████████| 30/30 [00:10<00:00,  2.86it/s]\n"
          ]
        },
        {
          "name": "stdout",
          "output_type": "stream",
          "text": [
            "accuracy_score (train) 0.7221666666666666\n",
            "accuracy_score (test) 0.7173\n",
            "Entrainement du DNN...\n"
          ]
        },
        {
          "name": "stderr",
          "output_type": "stream",
          "text": [
            "100%|██████████| 30/30 [00:11<00:00,  2.54it/s]\n"
          ]
        },
        {
          "name": "stdout",
          "output_type": "stream",
          "text": [
            "accuracy_score (train) 0.11258333333333333\n",
            "accuracy_score (test) 0.1135\n"
          ]
        }
      ],
      "source": [
        "acc_1_layer = []\n",
        "acc_2_layer = []\n",
        "acc_1_train_layer = []\n",
        "acc_2_train_layer = []\n",
        "\n",
        "sizes = range(1, 6)\n",
        "\n",
        "for size in sizes:\n",
        "    print(f\"--- {size} hidden layer(s) ---\")\n",
        "    n_layers = [784] + [n_main] * size + [10]  #--------\n",
        "    \"\"\"-------------- Model 1 : pre-train + train -------------------\"\"\"\n",
        "    ce_model1, score_model1, train_score_model1, _ = DNN_main(\n",
        "        X_train,\n",
        "        X_test,\n",
        "        y_train,\n",
        "        y_test,\n",
        "        n_layers=n_layers,\n",
        "        lr=lr,\n",
        "        batch_size=batch_size,\n",
        "        pretrain_iter=pretrain_iter,\n",
        "        train_iter=train_iter,\n",
        "        verbose=1,\n",
        "    )\n",
        "    acc_1_layer.append(score_model1)\n",
        "    acc_1_train_layer.append(train_score_model1)\n",
        "\n",
        "    \"\"\"-------------- Model 2 : train only ---------------------------\"\"\"\n",
        "    ce_model2, score_model2, train_score_model2, _ = DNN_main(\n",
        "        X_train,\n",
        "        X_test,\n",
        "        y_train,\n",
        "        y_test,\n",
        "        n_layers=n_layers,\n",
        "        lr=lr,\n",
        "        batch_size=batch_size,\n",
        "        pretrain_iter=False,\n",
        "        train_iter=train_iter,\n",
        "        verbose=1,\n",
        "    )\n",
        "    acc_2_layer.append(score_model2)\n",
        "    acc_2_train_layer.append(train_score_model2)"
      ]
    },
    {
      "cell_type": "code",
      "execution_count": 116,
      "metadata": {},
      "outputs": [
        {
          "data": {
            "image/png": "[encoded data removed]",
            "text/plain": [
              "<Figure size 640x480 with 1 Axes>"
            ]
          },
          "metadata": {},
          "output_type": "display_data"
        }
      ],
      "source": [
        "plot_DNN(\n",
        "    sizes, \n",
        "    acc_1_layer, \n",
        "    acc_2_layer, \n",
        "    acc_1_train=acc_1_train_layer, \n",
        "    acc_2_train=acc_2_train_layer, \n",
        "    x_label='Number of hidden layers', \n",
        "    top=.2,\n",
        "    save=\"mnist_number_hidden_layers_top\"\n",
        "    )"
      ]
    },
    {
      "cell_type": "markdown",
      "metadata": {
        "id": "z3msQRPGb9go"
      },
      "source": [
        "## 4.3. Number of neurons per layer"
      ]
    },
    {
      "cell_type": "code",
      "execution_count": 117,
      "metadata": {
        "id": "JYt1J04Ab9gp"
      },
      "outputs": [
        {
          "name": "stdout",
          "output_type": "stream",
          "text": [
            "--- 50 neurons by layer, 2 layers ---\n",
            "Pré-entrainement du DNN...\n",
            "Entrainement du RBM...\n"
          ]
        },
        {
          "name": "stderr",
          "output_type": "stream",
          "text": [
            "100%|██████████| 10/10 [00:06<00:00,  1.56it/s]\n"
          ]
        },
        {
          "name": "stdout",
          "output_type": "stream",
          "text": [
            "Entrainement du RBM...\n"
          ]
        },
        {
          "name": "stderr",
          "output_type": "stream",
          "text": [
            "100%|██████████| 10/10 [00:01<00:00,  8.15it/s]\n"
          ]
        },
        {
          "name": "stdout",
          "output_type": "stream",
          "text": [
            "Entrainement du DNN...\n"
          ]
        },
        {
          "name": "stderr",
          "output_type": "stream",
          "text": [
            "100%|██████████| 30/30 [00:06<00:00,  4.50it/s]\n"
          ]
        },
        {
          "name": "stdout",
          "output_type": "stream",
          "text": [
            "accuracy_score (train) 0.8260833333333333\n",
            "accuracy_score (test) 0.8167\n",
            "Entrainement du DNN...\n"
          ]
        },
        {
          "name": "stderr",
          "output_type": "stream",
          "text": [
            "100%|██████████| 30/30 [00:06<00:00,  4.63it/s]\n"
          ]
        },
        {
          "name": "stdout",
          "output_type": "stream",
          "text": [
            "accuracy_score (train) 0.39808333333333334\n",
            "accuracy_score (test) 0.3933\n",
            "--- 100 neurons by layer, 2 layers ---\n",
            "Pré-entrainement du DNN...\n",
            "Entrainement du RBM...\n"
          ]
        },
        {
          "name": "stderr",
          "output_type": "stream",
          "text": [
            "100%|██████████| 10/10 [00:07<00:00,  1.39it/s]\n"
          ]
        },
        {
          "name": "stdout",
          "output_type": "stream",
          "text": [
            "Entrainement du RBM...\n"
          ]
        },
        {
          "name": "stderr",
          "output_type": "stream",
          "text": [
            "100%|██████████| 10/10 [00:01<00:00,  5.39it/s]\n"
          ]
        },
        {
          "name": "stdout",
          "output_type": "stream",
          "text": [
            "Entrainement du DNN...\n"
          ]
        },
        {
          "name": "stderr",
          "output_type": "stream",
          "text": [
            "100%|██████████| 30/30 [00:08<00:00,  3.43it/s]\n"
          ]
        },
        {
          "name": "stdout",
          "output_type": "stream",
          "text": [
            "accuracy_score (train) 0.8913333333333333\n",
            "accuracy_score (test) 0.8839\n",
            "Entrainement du DNN...\n"
          ]
        },
        {
          "name": "stderr",
          "output_type": "stream",
          "text": [
            "100%|██████████| 30/30 [00:08<00:00,  3.37it/s]\n"
          ]
        },
        {
          "name": "stdout",
          "output_type": "stream",
          "text": [
            "accuracy_score (train) 0.6955\n",
            "accuracy_score (test) 0.6897\n",
            "--- 150 neurons by layer, 2 layers ---\n",
            "Pré-entrainement du DNN...\n",
            "Entrainement du RBM...\n"
          ]
        },
        {
          "name": "stderr",
          "output_type": "stream",
          "text": [
            "100%|██████████| 10/10 [00:08<00:00,  1.22it/s]\n"
          ]
        },
        {
          "name": "stdout",
          "output_type": "stream",
          "text": [
            "Entrainement du RBM...\n"
          ]
        },
        {
          "name": "stderr",
          "output_type": "stream",
          "text": [
            "100%|██████████| 10/10 [00:02<00:00,  3.67it/s]\n"
          ]
        },
        {
          "name": "stdout",
          "output_type": "stream",
          "text": [
            "Entrainement du DNN...\n"
          ]
        },
        {
          "name": "stderr",
          "output_type": "stream",
          "text": [
            "100%|██████████| 30/30 [00:12<00:00,  2.42it/s]\n"
          ]
        },
        {
          "name": "stdout",
          "output_type": "stream",
          "text": [
            "accuracy_score (train) 0.90725\n",
            "accuracy_score (test) 0.9011\n",
            "Entrainement du DNN...\n"
          ]
        },
        {
          "name": "stderr",
          "output_type": "stream",
          "text": [
            "100%|██████████| 30/30 [00:12<00:00,  2.45it/s]\n"
          ]
        },
        {
          "name": "stdout",
          "output_type": "stream",
          "text": [
            "accuracy_score (train) 0.7981666666666667\n",
            "accuracy_score (test) 0.791\n",
            "--- 200 neurons by layer, 2 layers ---\n",
            "Pré-entrainement du DNN...\n",
            "Entrainement du RBM...\n"
          ]
        },
        {
          "name": "stderr",
          "output_type": "stream",
          "text": [
            "100%|██████████| 10/10 [00:10<00:00,  1.01s/it]\n"
          ]
        },
        {
          "name": "stdout",
          "output_type": "stream",
          "text": [
            "Entrainement du RBM...\n"
          ]
        },
        {
          "name": "stderr",
          "output_type": "stream",
          "text": [
            "100%|██████████| 10/10 [00:03<00:00,  2.76it/s]\n"
          ]
        },
        {
          "name": "stdout",
          "output_type": "stream",
          "text": [
            "Entrainement du DNN...\n"
          ]
        },
        {
          "name": "stderr",
          "output_type": "stream",
          "text": [
            "100%|██████████| 30/30 [00:15<00:00,  1.96it/s]\n"
          ]
        },
        {
          "name": "stdout",
          "output_type": "stream",
          "text": [
            "accuracy_score (train) 0.9160833333333334\n",
            "accuracy_score (test) 0.9118\n",
            "Entrainement du DNN...\n"
          ]
        },
        {
          "name": "stderr",
          "output_type": "stream",
          "text": [
            "100%|██████████| 30/30 [00:14<00:00,  2.07it/s]\n"
          ]
        },
        {
          "name": "stdout",
          "output_type": "stream",
          "text": [
            "accuracy_score (train) 0.8314166666666667\n",
            "accuracy_score (test) 0.82\n",
            "--- 250 neurons by layer, 2 layers ---\n",
            "Pré-entrainement du DNN...\n",
            "Entrainement du RBM...\n"
          ]
        },
        {
          "name": "stderr",
          "output_type": "stream",
          "text": [
            "100%|██████████| 10/10 [00:10<00:00,  1.04s/it]\n"
          ]
        },
        {
          "name": "stdout",
          "output_type": "stream",
          "text": [
            "Entrainement du RBM...\n"
          ]
        },
        {
          "name": "stderr",
          "output_type": "stream",
          "text": [
            "100%|██████████| 10/10 [00:04<00:00,  2.15it/s]\n"
          ]
        },
        {
          "name": "stdout",
          "output_type": "stream",
          "text": [
            "Entrainement du DNN...\n"
          ]
        },
        {
          "name": "stderr",
          "output_type": "stream",
          "text": [
            "100%|██████████| 30/30 [00:21<00:00,  1.40it/s]\n"
          ]
        },
        {
          "name": "stdout",
          "output_type": "stream",
          "text": [
            "accuracy_score (train) 0.9210833333333334\n",
            "accuracy_score (test) 0.9164\n",
            "Entrainement du DNN...\n"
          ]
        },
        {
          "name": "stderr",
          "output_type": "stream",
          "text": [
            "100%|██████████| 30/30 [00:20<00:00,  1.49it/s]\n"
          ]
        },
        {
          "name": "stdout",
          "output_type": "stream",
          "text": [
            "accuracy_score (train) 0.8510833333333333\n",
            "accuracy_score (test) 0.8362\n",
            "--- 300 neurons by layer, 2 layers ---\n",
            "Pré-entrainement du DNN...\n",
            "Entrainement du RBM...\n"
          ]
        },
        {
          "name": "stderr",
          "output_type": "stream",
          "text": [
            "100%|██████████| 10/10 [00:11<00:00,  1.15s/it]\n"
          ]
        },
        {
          "name": "stdout",
          "output_type": "stream",
          "text": [
            "Entrainement du RBM...\n"
          ]
        },
        {
          "name": "stderr",
          "output_type": "stream",
          "text": [
            "100%|██████████| 10/10 [00:05<00:00,  1.77it/s]\n"
          ]
        },
        {
          "name": "stdout",
          "output_type": "stream",
          "text": [
            "Entrainement du DNN...\n"
          ]
        },
        {
          "name": "stderr",
          "output_type": "stream",
          "text": [
            "100%|██████████| 30/30 [00:21<00:00,  1.40it/s]\n"
          ]
        },
        {
          "name": "stdout",
          "output_type": "stream",
          "text": [
            "accuracy_score (train) 0.9234166666666667\n",
            "accuracy_score (test) 0.9194\n",
            "Entrainement du DNN...\n"
          ]
        },
        {
          "name": "stderr",
          "output_type": "stream",
          "text": [
            "100%|██████████| 30/30 [00:22<00:00,  1.34it/s]\n"
          ]
        },
        {
          "name": "stdout",
          "output_type": "stream",
          "text": [
            "accuracy_score (train) 0.8595833333333334\n",
            "accuracy_score (test) 0.8424\n"
          ]
        }
      ],
      "source": [
        "acc_1_neurons = []\n",
        "acc_2_neurons = []\n",
        "acc_1_train_neurons = []\n",
        "acc_2_train_neurons = []\n",
        "\n",
        "start = 1\n",
        "stop = 6 # reduce 11\n",
        "step = 1 # reduce: 2 ---------------------------------------------------------------\n",
        "n_neurons = range(start * n_main, stop * n_main + 1, step * n_main)\n",
        "\n",
        "for neurons in n_neurons:\n",
        "    print(f\"--- {neurons} neurons by layer, {n_hidden} layers ---\")\n",
        "    n_layers = [784] + [neurons] * n_hidden +  [10]\n",
        "    \"\"\"-------------- Model 1 : pre-train + train -------------------\"\"\"\n",
        "    ce_model1, score_model1, train_score_model1, _ = DNN_main(\n",
        "        X_train,\n",
        "        X_test,\n",
        "        y_train,\n",
        "        y_test,\n",
        "        n_layers=n_layers,\n",
        "        lr=lr,\n",
        "        batch_size=batch_size,\n",
        "        pretrain_iter=pretrain_iter,\n",
        "        train_iter=train_iter,\n",
        "        verbose=1,\n",
        "    )\n",
        "    acc_1_neurons.append(score_model1)\n",
        "    acc_1_train_neurons.append(train_score_model1)\n",
        "\n",
        "    \"\"\"-------------- Model 2 : train only ---------------------------\"\"\"\n",
        "    ce_model2, score_model2, train_score_model2, _ = DNN_main(\n",
        "        X_train,\n",
        "        X_test,\n",
        "        y_train,\n",
        "        y_test,\n",
        "        n_layers=n_layers,\n",
        "        lr=lr,\n",
        "        batch_size=batch_size,\n",
        "        pretrain_iter=False,\n",
        "        train_iter=train_iter,\n",
        "        verbose=1,\n",
        "    )\n",
        "    acc_2_neurons.append(score_model2)\n",
        "    acc_2_train_neurons.append(train_score_model2)"
      ]
    },
    {
      "cell_type": "code",
      "execution_count": 118,
      "metadata": {},
      "outputs": [
        {
          "data": {
            "text/plain": [
              "(6, 6, 6, 6)"
            ]
          },
          "execution_count": 118,
          "metadata": {},
          "output_type": "execute_result"
        }
      ],
      "source": [
        "len(acc_1_neurons), len(acc_2_neurons), len(acc_1_train_neurons), len(acc_2_train_neurons)"
      ]
    },
    {
      "cell_type": "code",
      "execution_count": 119,
      "metadata": {},
      "outputs": [
        {
          "data": {
            "image/png": "[encoded data removed]",
            "text/plain": [
              "<Figure size 640x480 with 1 Axes>"
            ]
          },
          "metadata": {},
          "output_type": "display_data"
        }
      ],
      "source": [
        "plot_DNN(\n",
        "    n_neurons, \n",
        "    acc_1_neurons, \n",
        "    acc_2_neurons, \n",
        "    acc_1_train=acc_1_train_neurons, \n",
        "    acc_2_train=acc_2_train_neurons, \n",
        "    x_label='Number of neurons', \n",
        "    top=.3,\n",
        "    save=\"mnist_number_of_neurons_top\"\n",
        "    )"
      ]
    },
    {
      "cell_type": "markdown",
      "metadata": {
        "id": "cNF1LvQsb9gp"
      },
      "source": [
        "## 4.4. Size of the training dataset (number of samples)"
      ]
    },
    {
      "cell_type": "code",
      "execution_count": 120,
      "metadata": {
        "id": "WVVBa8tkb9gq"
      },
      "outputs": [
        {
          "name": "stdout",
          "output_type": "stream",
          "text": [
            "--- 2000 samples ---\n",
            "Pré-entrainement du DNN...\n",
            "Entrainement du RBM...\n"
          ]
        },
        {
          "name": "stderr",
          "output_type": "stream",
          "text": [
            "100%|██████████| 10/10 [00:01<00:00,  8.43it/s]\n"
          ]
        },
        {
          "name": "stdout",
          "output_type": "stream",
          "text": [
            "Entrainement du RBM...\n"
          ]
        },
        {
          "name": "stderr",
          "output_type": "stream",
          "text": [
            "100%|██████████| 10/10 [00:00<00:00, 22.98it/s]\n"
          ]
        },
        {
          "name": "stdout",
          "output_type": "stream",
          "text": [
            "Entrainement du DNN...\n"
          ]
        },
        {
          "name": "stderr",
          "output_type": "stream",
          "text": [
            "100%|██████████| 30/30 [00:01<00:00, 16.75it/s]\n"
          ]
        },
        {
          "name": "stdout",
          "output_type": "stream",
          "text": [
            "accuracy_score (train) 0.5955\n",
            "accuracy_score (test) 0.5737\n",
            "Entrainement du DNN...\n"
          ]
        },
        {
          "name": "stderr",
          "output_type": "stream",
          "text": [
            "100%|██████████| 30/30 [00:01<00:00, 19.51it/s]\n"
          ]
        },
        {
          "name": "stdout",
          "output_type": "stream",
          "text": [
            "accuracy_score (train) 0.105\n",
            "accuracy_score (test) 0.1009\n",
            "--- 6000 samples ---\n",
            "Pré-entrainement du DNN...\n",
            "Entrainement du RBM...\n"
          ]
        },
        {
          "name": "stderr",
          "output_type": "stream",
          "text": [
            "100%|██████████| 10/10 [00:03<00:00,  2.84it/s]\n"
          ]
        },
        {
          "name": "stdout",
          "output_type": "stream",
          "text": [
            "Entrainement du RBM...\n"
          ]
        },
        {
          "name": "stderr",
          "output_type": "stream",
          "text": [
            "100%|██████████| 10/10 [00:00<00:00, 10.36it/s]\n"
          ]
        },
        {
          "name": "stdout",
          "output_type": "stream",
          "text": [
            "Entrainement du DNN...\n"
          ]
        },
        {
          "name": "stderr",
          "output_type": "stream",
          "text": [
            "100%|██████████| 30/30 [00:04<00:00,  6.67it/s]\n"
          ]
        },
        {
          "name": "stdout",
          "output_type": "stream",
          "text": [
            "accuracy_score (train) 0.83\n",
            "accuracy_score (test) 0.8139\n",
            "Entrainement du DNN...\n"
          ]
        },
        {
          "name": "stderr",
          "output_type": "stream",
          "text": [
            "100%|██████████| 30/30 [00:04<00:00,  6.55it/s]\n"
          ]
        },
        {
          "name": "stdout",
          "output_type": "stream",
          "text": [
            "accuracy_score (train) 0.457\n",
            "accuracy_score (test) 0.4622\n",
            "--- 12000 samples ---\n",
            "Pré-entrainement du DNN...\n",
            "Entrainement du RBM...\n"
          ]
        },
        {
          "name": "stderr",
          "output_type": "stream",
          "text": [
            "100%|██████████| 10/10 [00:07<00:00,  1.29it/s]\n"
          ]
        },
        {
          "name": "stdout",
          "output_type": "stream",
          "text": [
            "Entrainement du RBM...\n"
          ]
        },
        {
          "name": "stderr",
          "output_type": "stream",
          "text": [
            "100%|██████████| 10/10 [00:02<00:00,  3.78it/s]\n"
          ]
        },
        {
          "name": "stdout",
          "output_type": "stream",
          "text": [
            "Entrainement du DNN...\n"
          ]
        },
        {
          "name": "stderr",
          "output_type": "stream",
          "text": [
            "100%|██████████| 30/30 [00:09<00:00,  3.00it/s]\n"
          ]
        },
        {
          "name": "stdout",
          "output_type": "stream",
          "text": [
            "accuracy_score (train) 0.8929166666666667\n",
            "accuracy_score (test) 0.8827\n",
            "Entrainement du DNN...\n"
          ]
        },
        {
          "name": "stderr",
          "output_type": "stream",
          "text": [
            "100%|██████████| 30/30 [00:10<00:00,  2.78it/s]\n"
          ]
        },
        {
          "name": "stdout",
          "output_type": "stream",
          "text": [
            "accuracy_score (train) 0.7234166666666667\n",
            "accuracy_score (test) 0.7193\n",
            "--- 30000 samples ---\n",
            "Pré-entrainement du DNN...\n",
            "Entrainement du RBM...\n"
          ]
        },
        {
          "name": "stderr",
          "output_type": "stream",
          "text": [
            "100%|██████████| 10/10 [00:18<00:00,  1.90s/it]\n"
          ]
        },
        {
          "name": "stdout",
          "output_type": "stream",
          "text": [
            "Entrainement du RBM...\n"
          ]
        },
        {
          "name": "stderr",
          "output_type": "stream",
          "text": [
            "100%|██████████| 10/10 [00:04<00:00,  2.06it/s]\n"
          ]
        },
        {
          "name": "stdout",
          "output_type": "stream",
          "text": [
            "Entrainement du DNN...\n"
          ]
        },
        {
          "name": "stderr",
          "output_type": "stream",
          "text": [
            "100%|██████████| 30/30 [00:22<00:00,  1.34it/s]\n"
          ]
        },
        {
          "name": "stdout",
          "output_type": "stream",
          "text": [
            "accuracy_score (train) 0.9294\n",
            "accuracy_score (test) 0.929\n",
            "Entrainement du DNN...\n"
          ]
        },
        {
          "name": "stderr",
          "output_type": "stream",
          "text": [
            "100%|██████████| 30/30 [00:22<00:00,  1.34it/s]\n"
          ]
        },
        {
          "name": "stdout",
          "output_type": "stream",
          "text": [
            "accuracy_score (train) 0.888\n",
            "accuracy_score (test) 0.8839\n",
            "--- 60000 samples ---\n",
            "Pré-entrainement du DNN...\n",
            "Entrainement du RBM...\n"
          ]
        },
        {
          "name": "stderr",
          "output_type": "stream",
          "text": [
            "100%|██████████| 10/10 [00:37<00:00,  3.77s/it]\n"
          ]
        },
        {
          "name": "stdout",
          "output_type": "stream",
          "text": [
            "Entrainement du RBM...\n"
          ]
        },
        {
          "name": "stderr",
          "output_type": "stream",
          "text": [
            "100%|██████████| 10/10 [00:08<00:00,  1.17it/s]\n"
          ]
        },
        {
          "name": "stdout",
          "output_type": "stream",
          "text": [
            "Entrainement du DNN...\n"
          ]
        },
        {
          "name": "stderr",
          "output_type": "stream",
          "text": [
            "100%|██████████| 30/30 [00:42<00:00,  1.43s/it]\n"
          ]
        },
        {
          "name": "stdout",
          "output_type": "stream",
          "text": [
            "accuracy_score (train) 0.94225\n",
            "accuracy_score (test) 0.9406\n",
            "Entrainement du DNN...\n"
          ]
        },
        {
          "name": "stderr",
          "output_type": "stream",
          "text": [
            "100%|██████████| 30/30 [00:42<00:00,  1.42s/it]\n"
          ]
        },
        {
          "name": "stdout",
          "output_type": "stream",
          "text": [
            "accuracy_score (train) 0.9252666666666667\n",
            "accuracy_score (test) 0.9245\n"
          ]
        }
      ],
      "source": [
        "acc_1_train_size = []\n",
        "acc_2_train_size = []\n",
        "acc_1_train_size_train = []\n",
        "acc_2_train_size_train = []\n",
        "\n",
        "n_layers = [784] + [2 * n_main] * n_hidden +  [10]\n",
        "\n",
        "samples_sizes = [2000, 6000, 12000, 30000, 60000] # ------------------------------------------\n",
        "# samples_sizes = [1000, 2000, 3000, 60000, 12000, 30000, 60000]\n",
        "\n",
        "for size in samples_sizes:\n",
        "    print(f\"--- {size} samples ---\")\n",
        "    X_train_, X_test_, y_train_, y_test_ = lire_mnist(subsample_size=size)\n",
        "\n",
        "    \"\"\"-------------- Model 1 : pre-train + train -------------------\"\"\"\n",
        "    ce_model1, score_model1, train_score_model1, _ = DNN_main(\n",
        "        X_train_,\n",
        "        X_test_,\n",
        "        y_train_,\n",
        "        y_test_,\n",
        "        n_layers=n_layers,\n",
        "        lr=lr,\n",
        "        batch_size=batch_size,\n",
        "        pretrain_iter=pretrain_iter,\n",
        "        train_iter=train_iter,\n",
        "        verbose=1,\n",
        "    )\n",
        "    acc_1_train_size.append(score_model1)\n",
        "    acc_1_train_size_train.append(train_score_model1)\n",
        "\n",
        "    \"\"\"-------------- Model 2 : train only ---------------------------\"\"\"\n",
        "    ce_model2, score_model2, train_score_model2, _ = DNN_main(\n",
        "        X_train_,\n",
        "        X_test_,\n",
        "        y_train_,\n",
        "        y_test_,\n",
        "        n_layers=n_layers,\n",
        "        lr=lr,\n",
        "        batch_size=batch_size,\n",
        "        pretrain_iter=False,\n",
        "        train_iter=train_iter,\n",
        "        verbose=1,\n",
        "    )\n",
        "    acc_2_train_size.append(score_model2)\n",
        "    acc_2_train_size_train.append(train_score_model2)"
      ]
    },
    {
      "cell_type": "code",
      "execution_count": 121,
      "metadata": {},
      "outputs": [
        {
          "data": {
            "image/png": "[encoded data removed]",
            "text/plain": [
              "<Figure size 640x480 with 1 Axes>"
            ]
          },
          "metadata": {},
          "output_type": "display_data"
        }
      ],
      "source": [
        "plot_DNN(\n",
        "    samples_sizes, \n",
        "    acc_1_train_size, \n",
        "    acc_2_train_size, \n",
        "    acc_1_train=acc_1_train_size_train, \n",
        "    acc_2_train=acc_2_train_size_train, \n",
        "    x_label='Number of training data', \n",
        "    # top=.3,\n",
        "    save=\"mnist_number_of_training_data\"\n",
        "    )"
      ]
    },
    {
      "cell_type": "code",
      "execution_count": 122,
      "metadata": {},
      "outputs": [
        {
          "name": "stdout",
          "output_type": "stream",
          "text": [
            "--- 16 samples per batch ---\n",
            "Pré-entrainement du DNN...\n",
            "Entrainement du RBM...\n"
          ]
        },
        {
          "name": "stderr",
          "output_type": "stream",
          "text": [
            "100%|██████████| 10/10 [00:19<00:00,  1.94s/it]\n"
          ]
        },
        {
          "name": "stdout",
          "output_type": "stream",
          "text": [
            "Entrainement du RBM...\n"
          ]
        },
        {
          "name": "stderr",
          "output_type": "stream",
          "text": [
            "100%|██████████| 10/10 [00:01<00:00,  9.00it/s]\n"
          ]
        },
        {
          "name": "stdout",
          "output_type": "stream",
          "text": [
            "Entrainement du DNN...\n"
          ]
        },
        {
          "name": "stderr",
          "output_type": "stream",
          "text": [
            "100%|██████████| 30/30 [00:30<00:00,  1.00s/it]\n"
          ]
        },
        {
          "name": "stdout",
          "output_type": "stream",
          "text": [
            "accuracy_score (train) 0.98475\n",
            "accuracy_score (test) 0.9454\n",
            "Entrainement du DNN...\n"
          ]
        },
        {
          "name": "stderr",
          "output_type": "stream",
          "text": [
            "100%|██████████| 30/30 [00:32<00:00,  1.07s/it]\n"
          ]
        },
        {
          "name": "stdout",
          "output_type": "stream",
          "text": [
            "accuracy_score (train) 0.9839166666666667\n",
            "accuracy_score (test) 0.9312\n",
            "--- 32 samples per batch ---\n",
            "Pré-entrainement du DNN...\n",
            "Entrainement du RBM...\n"
          ]
        },
        {
          "name": "stderr",
          "output_type": "stream",
          "text": [
            "100%|██████████| 10/10 [00:13<00:00,  1.36s/it]\n"
          ]
        },
        {
          "name": "stdout",
          "output_type": "stream",
          "text": [
            "Entrainement du RBM...\n"
          ]
        },
        {
          "name": "stderr",
          "output_type": "stream",
          "text": [
            "100%|██████████| 10/10 [00:04<00:00,  2.36it/s]\n"
          ]
        },
        {
          "name": "stdout",
          "output_type": "stream",
          "text": [
            "Entrainement du DNN...\n"
          ]
        },
        {
          "name": "stderr",
          "output_type": "stream",
          "text": [
            "100%|██████████| 30/30 [00:21<00:00,  1.39it/s]\n"
          ]
        },
        {
          "name": "stdout",
          "output_type": "stream",
          "text": [
            "accuracy_score (train) 0.96725\n",
            "accuracy_score (test) 0.9445\n",
            "Entrainement du DNN...\n"
          ]
        },
        {
          "name": "stderr",
          "output_type": "stream",
          "text": [
            "100%|██████████| 30/30 [00:22<00:00,  1.35it/s]\n"
          ]
        },
        {
          "name": "stdout",
          "output_type": "stream",
          "text": [
            "accuracy_score (train) 0.96375\n",
            "accuracy_score (test) 0.9224\n",
            "--- 64 samples per batch ---\n",
            "Pré-entrainement du DNN...\n",
            "Entrainement du RBM...\n"
          ]
        },
        {
          "name": "stderr",
          "output_type": "stream",
          "text": [
            "100%|██████████| 10/10 [00:08<00:00,  1.12it/s]\n"
          ]
        },
        {
          "name": "stdout",
          "output_type": "stream",
          "text": [
            "Entrainement du RBM...\n"
          ]
        },
        {
          "name": "stderr",
          "output_type": "stream",
          "text": [
            "100%|██████████| 10/10 [00:02<00:00,  3.43it/s]\n"
          ]
        },
        {
          "name": "stdout",
          "output_type": "stream",
          "text": [
            "Entrainement du DNN...\n"
          ]
        },
        {
          "name": "stderr",
          "output_type": "stream",
          "text": [
            "100%|██████████| 30/30 [00:13<00:00,  2.20it/s]\n"
          ]
        },
        {
          "name": "stdout",
          "output_type": "stream",
          "text": [
            "accuracy_score (train) 0.9481666666666667\n",
            "accuracy_score (test) 0.9335\n",
            "Entrainement du DNN...\n"
          ]
        },
        {
          "name": "stderr",
          "output_type": "stream",
          "text": [
            "100%|██████████| 30/30 [00:13<00:00,  2.16it/s]\n"
          ]
        },
        {
          "name": "stdout",
          "output_type": "stream",
          "text": [
            "accuracy_score (train) 0.9223333333333333\n",
            "accuracy_score (test) 0.8952\n",
            "--- 128 samples per batch ---\n",
            "Pré-entrainement du DNN...\n",
            "Entrainement du RBM...\n"
          ]
        },
        {
          "name": "stderr",
          "output_type": "stream",
          "text": [
            "100%|██████████| 10/10 [00:07<00:00,  1.33it/s]\n"
          ]
        },
        {
          "name": "stdout",
          "output_type": "stream",
          "text": [
            "Entrainement du RBM...\n"
          ]
        },
        {
          "name": "stderr",
          "output_type": "stream",
          "text": [
            "100%|██████████| 10/10 [00:02<00:00,  4.48it/s]\n"
          ]
        },
        {
          "name": "stdout",
          "output_type": "stream",
          "text": [
            "Entrainement du DNN...\n"
          ]
        },
        {
          "name": "stderr",
          "output_type": "stream",
          "text": [
            "100%|██████████| 30/30 [00:10<00:00,  2.76it/s]\n"
          ]
        },
        {
          "name": "stdout",
          "output_type": "stream",
          "text": [
            "accuracy_score (train) 0.9266666666666666\n",
            "accuracy_score (test) 0.9153\n",
            "Entrainement du DNN...\n"
          ]
        },
        {
          "name": "stderr",
          "output_type": "stream",
          "text": [
            "100%|██████████| 30/30 [00:10<00:00,  2.90it/s]\n"
          ]
        },
        {
          "name": "stdout",
          "output_type": "stream",
          "text": [
            "accuracy_score (train) 0.8789166666666667\n",
            "accuracy_score (test) 0.8627\n",
            "--- 256 samples per batch ---\n",
            "Pré-entrainement du DNN...\n",
            "Entrainement du RBM...\n"
          ]
        },
        {
          "name": "stderr",
          "output_type": "stream",
          "text": [
            "100%|██████████| 10/10 [00:06<00:00,  1.45it/s]\n"
          ]
        },
        {
          "name": "stdout",
          "output_type": "stream",
          "text": [
            "Entrainement du RBM...\n"
          ]
        },
        {
          "name": "stderr",
          "output_type": "stream",
          "text": [
            "100%|██████████| 10/10 [00:01<00:00,  5.33it/s]\n"
          ]
        },
        {
          "name": "stdout",
          "output_type": "stream",
          "text": [
            "Entrainement du DNN...\n"
          ]
        },
        {
          "name": "stderr",
          "output_type": "stream",
          "text": [
            "100%|██████████| 30/30 [00:08<00:00,  3.47it/s]\n"
          ]
        },
        {
          "name": "stdout",
          "output_type": "stream",
          "text": [
            "accuracy_score (train) 0.8905\n",
            "accuracy_score (test) 0.884\n",
            "Entrainement du DNN...\n"
          ]
        },
        {
          "name": "stderr",
          "output_type": "stream",
          "text": [
            "100%|██████████| 30/30 [00:08<00:00,  3.44it/s]\n"
          ]
        },
        {
          "name": "stdout",
          "output_type": "stream",
          "text": [
            "accuracy_score (train) 0.7213333333333334\n",
            "accuracy_score (test) 0.7121\n",
            "--- 512 samples per batch ---\n",
            "Pré-entrainement du DNN...\n",
            "Entrainement du RBM...\n"
          ]
        },
        {
          "name": "stderr",
          "output_type": "stream",
          "text": [
            "100%|██████████| 10/10 [00:06<00:00,  1.51it/s]\n"
          ]
        },
        {
          "name": "stdout",
          "output_type": "stream",
          "text": [
            "Entrainement du RBM...\n"
          ]
        },
        {
          "name": "stderr",
          "output_type": "stream",
          "text": [
            "100%|██████████| 10/10 [00:01<00:00,  5.38it/s]\n"
          ]
        },
        {
          "name": "stdout",
          "output_type": "stream",
          "text": [
            "Entrainement du DNN...\n"
          ]
        },
        {
          "name": "stderr",
          "output_type": "stream",
          "text": [
            "100%|██████████| 30/30 [00:08<00:00,  3.69it/s]\n"
          ]
        },
        {
          "name": "stdout",
          "output_type": "stream",
          "text": [
            "accuracy_score (train) 0.8231666666666667\n",
            "accuracy_score (test) 0.8138\n",
            "Entrainement du DNN...\n"
          ]
        },
        {
          "name": "stderr",
          "output_type": "stream",
          "text": [
            "100%|██████████| 30/30 [00:07<00:00,  3.79it/s]"
          ]
        },
        {
          "name": "stdout",
          "output_type": "stream",
          "text": [
            "accuracy_score (train) 0.3385\n",
            "accuracy_score (test) 0.3361\n"
          ]
        },
        {
          "name": "stderr",
          "output_type": "stream",
          "text": [
            "\n"
          ]
        }
      ],
      "source": [
        "acc_1_batch_size = []\n",
        "acc_2_batch_size = []\n",
        "acc_1_batch_size_train = []\n",
        "acc_2_batch_size_train = []\n",
        "\n",
        "n_layers = [784] + [2 * n_main] * n_hidden +  [10]\n",
        "\n",
        "\n",
        "batch_sizes = [16, 32, 64, 128, 256, 512] # ------------------------------------------\n",
        "# batch_sizes = [16, 32, 64, 128, 256, 512, 1024, 2048]\n",
        "\n",
        "for batch_size in batch_sizes:\n",
        "    print(f\"--- {batch_size} samples per batch ---\")\n",
        "\n",
        "    \"\"\"-------------- Model 1 : pre-train + train -------------------\"\"\"\n",
        "    ce_model1, score_model1, train_score_model1, _ = DNN_main(\n",
        "        X_train,\n",
        "        X_test,\n",
        "        y_train,\n",
        "        y_test,\n",
        "        n_layers=n_layers,\n",
        "        lr=lr,\n",
        "        batch_size=batch_size,\n",
        "        pretrain_iter=pretrain_iter,\n",
        "        train_iter=train_iter,\n",
        "        verbose=1,\n",
        "    )\n",
        "    acc_1_batch_size.append(score_model1)\n",
        "    acc_1_batch_size_train.append(train_score_model1)\n",
        "\n",
        "    \"\"\"-------------- Model 2 : train only ---------------------------\"\"\"\n",
        "    ce_model2, score_model2, train_score_model2, _ = DNN_main(\n",
        "        X_train,\n",
        "        X_test,\n",
        "        y_train,\n",
        "        y_test,\n",
        "        n_layers=n_layers,\n",
        "        lr=lr,\n",
        "        batch_size=batch_size,\n",
        "        pretrain_iter=False,\n",
        "        train_iter=train_iter,\n",
        "        verbose=1,\n",
        "    )\n",
        "    acc_2_batch_size.append(score_model2)\n",
        "    acc_2_batch_size_train.append(train_score_model2)"
      ]
    },
    {
      "cell_type": "code",
      "execution_count": 123,
      "metadata": {},
      "outputs": [
        {
          "data": {
            "image/png": "[encoded data removed]",
            "text/plain": [
              "<Figure size 640x480 with 1 Axes>"
            ]
          },
          "metadata": {},
          "output_type": "display_data"
        }
      ],
      "source": [
        "plot_DNN(\n",
        "    batch_sizes, \n",
        "    acc_1_batch_size, \n",
        "    acc_2_batch_size, \n",
        "    acc_1_train=acc_1_batch_size_train, \n",
        "    acc_2_train=acc_2_batch_size_train, \n",
        "    x_label='Size of batch', \n",
        "    # top=.2,\n",
        "    save=\"mnist_size_of_batch\"\n",
        "    )"
      ]
    },
    {
      "cell_type": "markdown",
      "metadata": {},
      "source": [
        "## 4.5. Number of epcohs for pretraining"
      ]
    },
    {
      "cell_type": "code",
      "execution_count": 176,
      "metadata": {},
      "outputs": [
        {
          "name": "stdout",
          "output_type": "stream",
          "text": [
            "--- 10 iterations per RBM in pretrain ---\n",
            "Pré-entrainement du DNN...\n",
            "Entrainement du RBM...\n"
          ]
        },
        {
          "name": "stderr",
          "output_type": "stream",
          "text": [
            "  0%|          | 0/10 [00:00<?, ?it/s]"
          ]
        },
        {
          "name": "stderr",
          "output_type": "stream",
          "text": [
            "100%|██████████| 10/10 [01:03<00:00,  6.35s/it]\n"
          ]
        },
        {
          "name": "stdout",
          "output_type": "stream",
          "text": [
            "Entrainement du RBM...\n"
          ]
        },
        {
          "name": "stderr",
          "output_type": "stream",
          "text": [
            "100%|██████████| 10/10 [00:30<00:00,  3.03s/it]\n"
          ]
        },
        {
          "name": "stdout",
          "output_type": "stream",
          "text": [
            "Entrainement du DNN...\n"
          ]
        },
        {
          "name": "stderr",
          "output_type": "stream",
          "text": [
            "100%|██████████| 200/200 [11:50<00:00,  3.55s/it]\n"
          ]
        },
        {
          "name": "stdout",
          "output_type": "stream",
          "text": [
            "accuracy_score (train) 0.9941\n",
            "accuracy_score (test) 0.9801\n",
            "--- 20 iterations per RBM in pretrain ---\n",
            "Pré-entrainement du DNN...\n",
            "Entrainement du RBM...\n"
          ]
        },
        {
          "name": "stderr",
          "output_type": "stream",
          "text": [
            "100%|██████████| 20/20 [01:44<00:00,  5.22s/it]\n"
          ]
        },
        {
          "name": "stdout",
          "output_type": "stream",
          "text": [
            "Entrainement du RBM...\n"
          ]
        },
        {
          "name": "stderr",
          "output_type": "stream",
          "text": [
            "100%|██████████| 20/20 [00:59<00:00,  2.99s/it]\n"
          ]
        },
        {
          "name": "stdout",
          "output_type": "stream",
          "text": [
            "Entrainement du DNN...\n"
          ]
        },
        {
          "name": "stderr",
          "output_type": "stream",
          "text": [
            "100%|██████████| 200/200 [11:43<00:00,  3.52s/it]\n"
          ]
        },
        {
          "name": "stdout",
          "output_type": "stream",
          "text": [
            "accuracy_score (train) 0.99485\n",
            "accuracy_score (test) 0.9798\n",
            "--- 30 iterations per RBM in pretrain ---\n",
            "Pré-entrainement du DNN...\n",
            "Entrainement du RBM...\n"
          ]
        },
        {
          "name": "stderr",
          "output_type": "stream",
          "text": [
            "100%|██████████| 30/30 [02:48<00:00,  5.63s/it]\n"
          ]
        },
        {
          "name": "stdout",
          "output_type": "stream",
          "text": [
            "Entrainement du RBM...\n"
          ]
        },
        {
          "name": "stderr",
          "output_type": "stream",
          "text": [
            "100%|██████████| 30/30 [01:30<00:00,  3.03s/it]\n"
          ]
        },
        {
          "name": "stdout",
          "output_type": "stream",
          "text": [
            "Entrainement du DNN...\n"
          ]
        },
        {
          "name": "stderr",
          "output_type": "stream",
          "text": [
            "100%|██████████| 200/200 [11:16<00:00,  3.38s/it]\n"
          ]
        },
        {
          "name": "stdout",
          "output_type": "stream",
          "text": [
            "accuracy_score (train) 0.9942166666666666\n",
            "accuracy_score (test) 0.9811\n",
            "--- 50 iterations per RBM in pretrain ---\n",
            "Pré-entrainement du DNN...\n",
            "Entrainement du RBM...\n"
          ]
        },
        {
          "name": "stderr",
          "output_type": "stream",
          "text": [
            "100%|██████████| 50/50 [04:35<00:00,  5.51s/it]\n"
          ]
        },
        {
          "name": "stdout",
          "output_type": "stream",
          "text": [
            "Entrainement du RBM...\n"
          ]
        },
        {
          "name": "stderr",
          "output_type": "stream",
          "text": [
            "100%|██████████| 50/50 [02:28<00:00,  2.96s/it]\n"
          ]
        },
        {
          "name": "stdout",
          "output_type": "stream",
          "text": [
            "Entrainement du DNN...\n"
          ]
        },
        {
          "name": "stderr",
          "output_type": "stream",
          "text": [
            " 54%|█████▎    | 107/200 [07:10<08:29,  5.48s/it]"
          ]
        }
      ],
      "source": [
        "acc_1_pretrain_iter = []\n",
        "acc_2_pretrain_iter = []\n",
        "acc_1_pretrain_iter_train = []\n",
        "acc_2_pretrain_iter_train = []\n",
        "\n",
        "n_layers = [784] + [2 * n_main] * n_hidden +  [10]\n",
        "\n",
        "\n",
        "pretrain_iter_sizes = [10, 20, 30, 50, 100] # ------------------------------------------\n",
        "# pretrain_iter_sizes = [10, 20, 50, 100, 200, 300]\n",
        "\n",
        "for pretrain_iter_ in pretrain_iter_sizes:\n",
        "    print(f\"--- {pretrain_iter_} iterations per RBM in pretrain ---\")\n",
        "\n",
        "    \"\"\"-------------- Model 1 : pre-train + train -------------------\"\"\"\n",
        "    ce_model1, score_model1, train_score_model1, _ = DNN_main(\n",
        "        X_train,\n",
        "        X_test,\n",
        "        y_train,\n",
        "        y_test,\n",
        "        n_layers=n_layers,\n",
        "        lr=lr,\n",
        "        batch_size=batch_size,\n",
        "        pretrain_iter=pretrain_iter_,\n",
        "        train_iter=train_iter,\n",
        "        verbose=1,\n",
        "    )\n",
        "    acc_1_pretrain_iter.append(score_model1)\n",
        "    acc_1_pretrain_iter_train.append(train_score_model1)\n",
        "\n",
        "    # \"\"\"-------------- Model 2 : train only ---------------------------\"\"\"\n",
        "    # ce_model2, score_model2, train_score_model2, _ = DNN_main(\n",
        "    #     X_train,\n",
        "    #     X_test,\n",
        "    #     y_train,\n",
        "    #     y_test,\n",
        "    #     n_layers=n_layers,\n",
        "    #     lr=lr,\n",
        "    #     batch_size=batch_size,\n",
        "    #     pretrain_iter=False,\n",
        "    #     train_iter=train_iter,\n",
        "    #     verbose=1,\n",
        "    # )\n",
        "    # acc_2_pretrain_iter.append(score_model2)\n",
        "    # acc_2_pretrain_iter_train.append(train_score_model2)"
      ]
    },
    {
      "cell_type": "code",
      "execution_count": null,
      "metadata": {},
      "outputs": [
        {
          "data": {
            "image/png": "[encoded data removed]",
            "text/plain": [
              "<Figure size 640x480 with 1 Axes>"
            ]
          },
          "metadata": {},
          "output_type": "display_data"
        }
      ],
      "source": [
        "plot_DNN(\n",
        "    pretrain_iter_sizes, \n",
        "    acc_1_pretrain_iter, \n",
        "    # acc_2_pretrain_iter, \n",
        "    acc_1_train=acc_1_pretrain_iter_train, \n",
        "    # acc_2_train=acc_2_pretrain_iter_train, \n",
        "    x_label='Number of iterations pretrain', \n",
        "    # top=.1,\n",
        "    save=\"mnist_number_of_pretrain_iter\"\n",
        "    )"
      ]
    },
    {
      "cell_type": "markdown",
      "metadata": {},
      "source": [
        "## 4.6. Number of epochs for training"
      ]
    },
    {
      "cell_type": "code",
      "execution_count": null,
      "metadata": {},
      "outputs": [
        {
          "name": "stdout",
          "output_type": "stream",
          "text": [
            "--- 20 iterations in DNN train ---\n",
            "Pré-entrainement du DNN...\n",
            "Entrainement du RBM...\n"
          ]
        },
        {
          "name": "stderr",
          "output_type": "stream",
          "text": [
            "100%|██████████| 10/10 [00:06<00:00,  1.50it/s]\n"
          ]
        },
        {
          "name": "stdout",
          "output_type": "stream",
          "text": [
            "Entrainement du RBM...\n"
          ]
        },
        {
          "name": "stderr",
          "output_type": "stream",
          "text": [
            "100%|██████████| 10/10 [00:01<00:00,  5.60it/s]\n"
          ]
        },
        {
          "name": "stdout",
          "output_type": "stream",
          "text": [
            "Entrainement du DNN...\n"
          ]
        },
        {
          "name": "stderr",
          "output_type": "stream",
          "text": [
            "100%|██████████| 20/20 [00:05<00:00,  3.71it/s]\n"
          ]
        },
        {
          "name": "stdout",
          "output_type": "stream",
          "text": [
            "accuracy_score (train) 0.8060833333333334\n",
            "accuracy_score (test) 0.7976\n",
            "Entrainement du DNN...\n"
          ]
        },
        {
          "name": "stderr",
          "output_type": "stream",
          "text": [
            "100%|██████████| 20/20 [00:05<00:00,  3.54it/s]\n"
          ]
        },
        {
          "name": "stdout",
          "output_type": "stream",
          "text": [
            "accuracy_score (train) 0.2609166666666667\n",
            "accuracy_score (test) 0.2526\n",
            "--- 50 iterations in DNN train ---\n",
            "Pré-entrainement du DNN...\n",
            "Entrainement du RBM...\n"
          ]
        },
        {
          "name": "stderr",
          "output_type": "stream",
          "text": [
            "100%|██████████| 10/10 [00:06<00:00,  1.49it/s]\n"
          ]
        },
        {
          "name": "stdout",
          "output_type": "stream",
          "text": [
            "Entrainement du RBM...\n"
          ]
        },
        {
          "name": "stderr",
          "output_type": "stream",
          "text": [
            "100%|██████████| 10/10 [00:01<00:00,  5.84it/s]\n"
          ]
        },
        {
          "name": "stdout",
          "output_type": "stream",
          "text": [
            "Entrainement du DNN...\n"
          ]
        },
        {
          "name": "stderr",
          "output_type": "stream",
          "text": [
            "100%|██████████| 50/50 [00:13<00:00,  3.72it/s]\n"
          ]
        },
        {
          "name": "stdout",
          "output_type": "stream",
          "text": [
            "accuracy_score (train) 0.8510833333333333\n",
            "accuracy_score (test) 0.844\n",
            "Entrainement du DNN...\n"
          ]
        },
        {
          "name": "stderr",
          "output_type": "stream",
          "text": [
            "100%|██████████| 50/50 [00:13<00:00,  3.71it/s]\n"
          ]
        },
        {
          "name": "stdout",
          "output_type": "stream",
          "text": [
            "accuracy_score (train) 0.6548333333333334\n",
            "accuracy_score (test) 0.6538\n",
            "--- 100 iterations in DNN train ---\n",
            "Pré-entrainement du DNN...\n",
            "Entrainement du RBM...\n"
          ]
        },
        {
          "name": "stderr",
          "output_type": "stream",
          "text": [
            "100%|██████████| 10/10 [00:06<00:00,  1.54it/s]\n"
          ]
        },
        {
          "name": "stdout",
          "output_type": "stream",
          "text": [
            "Entrainement du RBM...\n"
          ]
        },
        {
          "name": "stderr",
          "output_type": "stream",
          "text": [
            "100%|██████████| 10/10 [00:01<00:00,  5.85it/s]\n"
          ]
        },
        {
          "name": "stdout",
          "output_type": "stream",
          "text": [
            "Entrainement du DNN...\n"
          ]
        },
        {
          "name": "stderr",
          "output_type": "stream",
          "text": [
            "100%|██████████| 100/100 [00:27<00:00,  3.59it/s]\n"
          ]
        },
        {
          "name": "stdout",
          "output_type": "stream",
          "text": [
            "accuracy_score (train) 0.8991666666666667\n",
            "accuracy_score (test) 0.8893\n",
            "Entrainement du DNN...\n"
          ]
        },
        {
          "name": "stderr",
          "output_type": "stream",
          "text": [
            "100%|██████████| 100/100 [00:26<00:00,  3.71it/s]\n"
          ]
        },
        {
          "name": "stdout",
          "output_type": "stream",
          "text": [
            "accuracy_score (train) 0.855\n",
            "accuracy_score (test) 0.8416\n",
            "--- 200 iterations in DNN train ---\n",
            "Pré-entrainement du DNN...\n",
            "Entrainement du RBM...\n"
          ]
        },
        {
          "name": "stderr",
          "output_type": "stream",
          "text": [
            "100%|██████████| 10/10 [00:06<00:00,  1.48it/s]\n"
          ]
        },
        {
          "name": "stdout",
          "output_type": "stream",
          "text": [
            "Entrainement du RBM...\n"
          ]
        },
        {
          "name": "stderr",
          "output_type": "stream",
          "text": [
            "100%|██████████| 10/10 [00:01<00:00,  5.77it/s]\n"
          ]
        },
        {
          "name": "stdout",
          "output_type": "stream",
          "text": [
            "Entrainement du DNN...\n"
          ]
        },
        {
          "name": "stderr",
          "output_type": "stream",
          "text": [
            "100%|██████████| 200/200 [00:55<00:00,  3.59it/s]\n"
          ]
        },
        {
          "name": "stdout",
          "output_type": "stream",
          "text": [
            "accuracy_score (train) 0.9375833333333333\n",
            "accuracy_score (test) 0.9193\n",
            "Entrainement du DNN...\n"
          ]
        },
        {
          "name": "stderr",
          "output_type": "stream",
          "text": [
            "100%|██████████| 200/200 [00:53<00:00,  3.71it/s]\n"
          ]
        },
        {
          "name": "stdout",
          "output_type": "stream",
          "text": [
            "accuracy_score (train) 0.9189166666666667\n",
            "accuracy_score (test) 0.8972\n"
          ]
        }
      ],
      "source": [
        "acc_1_train_iter = []\n",
        "acc_2_train_iter = []\n",
        "acc_1_train_iter_train = []\n",
        "acc_2_train_iter_train = []\n",
        "\n",
        "n_layers = [784] + [2 * n_main] * n_hidden +  [10]\n",
        "\n",
        "if notebook_version=='light':\n",
        "    train_iter_sizes = [20, 50, 100, 200]\n",
        "if notebook_version=='full':\n",
        "    train_iter_sizes = [20, 50, 100, 200, 300, 500, 700, 1000] # ------------------------------------------\n",
        "\n",
        "\n",
        "for train_iter_ in train_iter_sizes:\n",
        "    print(f\"--- {train_iter_} iterations in DNN train ---\")\n",
        "\n",
        "    \"\"\"-------------- Model 1 : pre-train + train -------------------\"\"\"\n",
        "    ce_model1, score_model1, train_score_model1, _ = DNN_main(\n",
        "        X_train,\n",
        "        X_test,\n",
        "        y_train,\n",
        "        y_test,\n",
        "        n_layers=n_layers,\n",
        "        lr=lr,\n",
        "        batch_size=batch_size,\n",
        "        pretrain_iter=pretrain_iter,\n",
        "        train_iter=train_iter_,\n",
        "        verbose=1,\n",
        "    )\n",
        "    acc_1_train_iter.append(score_model1)\n",
        "    acc_1_train_iter_train.append(train_score_model1)\n",
        "\n",
        "    \"\"\"-------------- Model 2 : train only ---------------------------\"\"\"\n",
        "    ce_model2, score_model2, train_score_model2, _ = DNN_main(\n",
        "        X_train,\n",
        "        X_test,\n",
        "        y_train,\n",
        "        y_test,\n",
        "        n_layers=n_layers,\n",
        "        lr=lr,\n",
        "        batch_size=batch_size,\n",
        "        pretrain_iter=False,\n",
        "        train_iter=train_iter_,\n",
        "        verbose=1,\n",
        "    )\n",
        "    acc_2_train_iter.append(score_model2)\n",
        "    acc_2_train_iter_train.append(train_score_model2)"
      ]
    },
    {
      "cell_type": "code",
      "execution_count": null,
      "metadata": {},
      "outputs": [
        {
          "data": {
            "image/png": "[encoded data removed]",
            "text/plain": [
              "<Figure size 640x480 with 1 Axes>"
            ]
          },
          "metadata": {},
          "output_type": "display_data"
        }
      ],
      "source": [
        "plot_DNN(\n",
        "    train_iter_sizes, \n",
        "    acc_1_train_iter, \n",
        "    acc_2_train_iter, \n",
        "    acc_1_train=acc_1_train_iter_train, \n",
        "    acc_2_train=acc_2_train_iter_train, \n",
        "    x_label='Number of iterations DNN', \n",
        "    save=\"mnist_number_of_train_iter\"\n",
        "    )"
      ]
    },
    {
      "cell_type": "code",
      "execution_count": 128,
      "metadata": {},
      "outputs": [
        {
          "data": {
            "text/plain": [
              "(50, 2, 10, 30)"
            ]
          },
          "execution_count": 128,
          "metadata": {},
          "output_type": "execute_result"
        }
      ],
      "source": [
        "n_main, n_hidden, pretrain_iter, train_iter"
      ]
    },
    {
      "cell_type": "markdown",
      "metadata": {
        "id": "_WVTYjexb9gq"
      },
      "source": [
        "## 4.6. Best set of parameters and results\n"
      ]
    },
    {
      "cell_type": "code",
      "execution_count": 129,
      "metadata": {
        "id": "2Mi58AHXb9gr"
      },
      "outputs": [],
      "source": [
        "# \"\"\"-------------- Model 1 : pre-train + train -------------------\"\"\"\n",
        "\n",
        "# if notebook_version=='full':\n",
        "#     X_train_f, X_test, y_train_f, y_test = lire_mnist(subsample_size=-1)\n",
        "#     n_layers_b = [784, 700, 700, 10]\n",
        "#     pretrain_iter_b = 50\n",
        "#     train_iter_b = 500\n",
        "#     batch_size_b = 64\n",
        "\n",
        "#     ce_model1, score_model1, train_score_model1, model1 = DNN_main(\n",
        "#         X_train_f,\n",
        "#         X_test,\n",
        "#         y_train_f,\n",
        "#         y_test,\n",
        "#         n_layers=n_layers_b,\n",
        "#         lr=lr,\n",
        "#         batch_size=batch_size_b,\n",
        "#         pretrain_iter=pretrain_iter_b,\n",
        "#         train_iter=train_iter_b,\n",
        "#         verbose=1,\n",
        "#     )\n",
        "\n",
        "#     print(\"----------  Resultat model 1 : pré-entraînément + entraînément  --------- \")\n",
        "#     print(\"            cross_entropie : \", ce_model1)\n",
        "#     print(\"            Accuracy : \", score_model1)\n",
        "#     print(\"       \")\n"
      ]
    },
    {
      "cell_type": "code",
      "execution_count": 130,
      "metadata": {},
      "outputs": [],
      "source": [
        "# if notebook_version=='full':\n",
        "#   # ----------\n",
        "#   train_size_b = 60000 # \n",
        "#   n_main_b = 700 # \n",
        "#   n_hidden_b = 2 # \n",
        "#   pretrain_iter = pretrain_iter_b # \n",
        "#   train_iter = train_iter_b # \n",
        "\n",
        "#   # Create directory to save plots\n",
        "#   savepath_b = 'save' + '_' + str(train_size_b) + '_' + str(n_main_b) + '_' + str(n_hidden_b) + '_' + str(pretrain_iter_b) +'_' + str(train_iter_b) + '/'\n",
        "#   if not os.path.exists(savepath):\n",
        "#       os.makedirs(savepath)\n",
        "#       print('Directory \"' + str(savepath) + '\" created')\n",
        "#   import pickle\n",
        "#   with open(savepath_b + 'best_model_pretrain.pkl', 'wb') as f:\n",
        "#     pickle.dump(model1, f)\n"
      ]
    },
    {
      "cell_type": "code",
      "execution_count": 131,
      "metadata": {},
      "outputs": [],
      "source": [
        "\n",
        "# with open(savepath_b + 'best_model_pretrain.pkl', 'rb') as f:\n",
        "#   model1_ = pickle.load(f)\n"
      ]
    },
    {
      "cell_type": "code",
      "execution_count": 132,
      "metadata": {},
      "outputs": [],
      "source": [
        "\n",
        "\n",
        "# \"\"\"-------------- Model 2 : train only ---------------------------\"\"\"\n",
        "\n",
        "# X_train_f, X_test, y_train_f, y_test = lire_mnist(subsample_size=-1)\n",
        "# n_layers_b2 = [784, 100, 100, 10]\n",
        "# train_iter_b = 100\n",
        "# batch_size_b = 256\n",
        "# pretrain_iter = False\n",
        "# ce_model2, score_model2, train_score_model2, model2 = DNN_main(\n",
        "#     X_train_f,\n",
        "#     X_test,\n",
        "#     y_train_f,\n",
        "#     y_test,\n",
        "#     n_layers=n_layers_b2,\n",
        "#     lr=lr,\n",
        "#     batch_size=batch_size_b,\n",
        "#     pretrain_iter=pretrain_iter,\n",
        "#     train_iter=train_iter_b,\n",
        "#     verbose=1,\n",
        "# )\n",
        "\n",
        "# print(\"----------  Resultat model 2 : uniquement entrainé  --------- \")\n",
        "# print(\"            cross_entropie : \", ce_model2)\n",
        "# print(\"            Accuracy : \", score_model2)"
      ]
    },
    {
      "cell_type": "code",
      "execution_count": 133,
      "metadata": {},
      "outputs": [
        {
          "ename": "NameError",
          "evalue": "name 'model1_' is not defined",
          "output_type": "error",
          "traceback": [
            "\u001b[0;31m---------------------------------------------------------------------------\u001b[0m",
            "\u001b[0;31mNameError\u001b[0m                                 Traceback (most recent call last)",
            "Cell \u001b[0;32mIn[133], line 5\u001b[0m\n\u001b[1;32m      2\u001b[0m y_ \u001b[38;5;241m=\u001b[39m y_test\n\u001b[1;32m      3\u001b[0m \u001b[38;5;66;03m# X_ = X_train_f\u001b[39;00m\n\u001b[1;32m      4\u001b[0m \u001b[38;5;66;03m# y_ = y_train_f\u001b[39;00m\n\u001b[0;32m----> 5\u001b[0m y_pred, _ \u001b[38;5;241m=\u001b[39m model1_\u001b[38;5;241m.\u001b[39mtest(X_, y_)\n\u001b[1;32m      6\u001b[0m test_score \u001b[38;5;241m=\u001b[39m accuracy_score(np\u001b[38;5;241m.\u001b[39margmax(y_, axis\u001b[38;5;241m=\u001b[39m\u001b[38;5;241m1\u001b[39m), np\u001b[38;5;241m.\u001b[39margmax(y_pred, axis\u001b[38;5;241m=\u001b[39m\u001b[38;5;241m1\u001b[39m))\n\u001b[1;32m      7\u001b[0m \u001b[38;5;28mprint\u001b[39m(test_score)\n",
            "\u001b[0;31mNameError\u001b[0m: name 'model1_' is not defined"
          ]
        }
      ],
      "source": [
        "X_ = X_test\n",
        "y_ = y_test\n",
        "# X_ = X_train_f\n",
        "# y_ = y_train_f\n",
        "y_pred, _ = model1_.test(X_, y_)\n",
        "test_score = accuracy_score(np.argmax(y_, axis=1), np.argmax(y_pred, axis=1))\n",
        "print(test_score)\n",
        "plot_preds(X_, y_, y_pred, save=False)"
      ]
    },
    {
      "cell_type": "code",
      "execution_count": 38,
      "metadata": {},
      "outputs": [
        {
          "name": "stdout",
          "output_type": "stream",
          "text": [
            "0.9842\n"
          ]
        },
        {
          "data": {
            "image/png": "[encoded data removed]",
            "text/plain": [
              "<Figure size 1000x1000 with 2 Axes>"
            ]
          },
          "metadata": {},
          "output_type": "display_data"
        }
      ],
      "source": [
        "savepath_b = 'save/'\n",
        "with open(savepath_b + 'best_model_pretrain.pickle', 'rb') as f:\n",
        "    model = pickle.load(f)\n",
        "\n",
        "X_ = X_test\n",
        "y_ = y_test\n",
        "y_pred, _ = model.test(X_, y_)\n",
        "test_score = accuracy_score(np.argmax(y_, axis=1), np.argmax(y_pred, axis=1))\n",
        "print(test_score)\n",
        "plot_confusion_matrix(X_, y_, y_pred, save='best_model')"
      ]
    },
    {
      "cell_type": "markdown",
      "metadata": {},
      "source": [
        "Le score obtenu avec le meilleur jeu de paramètres est de 98.5% sur le jeu de test.\n",
        "\n",
        "Observons les résultats de ce modèle de plus près. Nous avons tracé la matrice de confusion ci-dessus. Le modèle classifie presque parfaitement chaque nombre. Il est cependant possible d'identifier quelques erreurs. Par exemple, le modèle confond souvent les 5 et 3 ; les 6 et 5 : les 7 et 2 ; les 4 et 9 ; les 7 et 9 ; et les 9 et 4. Ces erreurs sont compréhensibles car ces chiffres ont des formes similaires.\n",
        "\n",
        "A l'inverse, certains chiffres sont très bien classifiés. Par exemple, le modèle fait très peu d'erreurs pour les 0 et 1."
      ]
    },
    {
      "cell_type": "markdown",
      "metadata": {
        "collapsed": false,
        "id": "iM3lLZdv9_iP"
      },
      "source": [
        "# 5. VAE (Variational Auto-Encoder)"
      ]
    },
    {
      "cell_type": "code",
      "execution_count": null,
      "metadata": {
        "id": "lVzze_gV9_iQ"
      },
      "outputs": [],
      "source": [
        "# X_train, X_test, y_train, y_test = lire_mnist(subsample_size=-1)"
      ]
    },
    {
      "cell_type": "code",
      "execution_count": null,
      "metadata": {
        "id": "tKURK3DJ9_iQ"
      },
      "outputs": [],
      "source": [
        "# class VAE(nn.Module):\n",
        "#     def __init__(self, input_dim, hidden_dim, latent_dim):\n",
        "#         super(VAE, self).__init__()\n",
        "\n",
        "#         self.input_dim = input_dim\n",
        "#         self.hidden_dim = hidden_dim\n",
        "#         self.latent_dim = latent_dim\n",
        "\n",
        "#         self.fc1 = nn.Linear(input_dim, hidden_dim)\n",
        "#         self.fc21 = nn.Linear(hidden_dim, latent_dim)\n",
        "#         self.fc22 = nn.Linear(hidden_dim, latent_dim)\n",
        "#         self.fc3 = nn.Linear(latent_dim, hidden_dim)\n",
        "#         self.fc4 = nn.Linear(hidden_dim, input_dim)\n",
        "\n",
        "#     def encode(self, x):\n",
        "#         h1 = F.relu(self.fc1(x))\n",
        "#         return self.fc21(h1), self.fc22(h1)\n",
        "\n",
        "#     def reparameterize(self, mu, logvar):\n",
        "#         std = torch.exp(0.5 * logvar)\n",
        "#         eps = torch.randn_like(std)\n",
        "#         return eps.mul(std).add_(mu)\n",
        "\n",
        "#     def decode(self, z):\n",
        "#         h3 = F.relu(self.fc3(z))\n",
        "#         return torch.sigmoid(self.fc4(h3))\n",
        "\n",
        "#     def forward(self, x):\n",
        "#         mu, logvar = self.encode(x.view(-1, self.input_dim))\n",
        "#         z = self.reparameterize(mu, logvar)\n",
        "#         return self.decode(z), mu, logvar"
      ]
    },
    {
      "cell_type": "code",
      "execution_count": null,
      "metadata": {
        "id": "mMNzZfgu9_iR"
      },
      "outputs": [],
      "source": [
        "# def loss_function(recon_x, x, mu, logvar):\n",
        "#     BCE = F.binary_cross_entropy(recon_x, x.view(-1, 784), reduction=\"sum\")\n",
        "\n",
        "#     KLD = -0.5 * torch.sum(1 + logvar - mu.pow(2) - logvar.exp())\n",
        "\n",
        "#     return BCE + KLD"
      ]
    },
    {
      "cell_type": "code",
      "execution_count": null,
      "metadata": {
        "id": "aePGRcBN9_iR"
      },
      "outputs": [],
      "source": [
        "# def train(model, device, train_loader, optimizer, epoch, verbose=1):\n",
        "#     model.train()\n",
        "#     train_loss = 0\n",
        "#     for batch_idx, (data, _) in enumerate(train_loader):\n",
        "#         data = data.to(device)\n",
        "#         optimizer.zero_grad()\n",
        "#         recon_batch, mu, logvar = model(data)\n",
        "#         loss = loss_function(recon_batch, data, mu, logvar)\n",
        "#         loss.backward()\n",
        "#         train_loss += loss.item()\n",
        "#         optimizer.step()\n",
        "#         if batch_idx % 100 == 0 and verbose >= 2:\n",
        "#             print(\n",
        "#                 \"Train Epoch: {} [{}/{} ({:.0f}%)]\\tLoss: {:.6f}\".format(\n",
        "#                     epoch,\n",
        "#                     batch_idx * len(data),\n",
        "#                     len(train_loader.dataset),\n",
        "#                     100.0 * batch_idx / len(train_loader),\n",
        "#                     loss.item() / len(data),\n",
        "#                 )\n",
        "#             )\n",
        "#     if verbose >= 1:\n",
        "#         print(\n",
        "#             \"====> Epoch: {} Average loss: {:.4f}\".format(\n",
        "#                 epoch, train_loss / len(train_loader.dataset)\n",
        "#             )\n",
        "#         )\n",
        "\n",
        "\n",
        "# def test(model, device, test_loader, verbose=1):\n",
        "#     model.eval()\n",
        "#     test_loss = 0\n",
        "#     with torch.no_grad():\n",
        "#         for i, (data, _) in enumerate(test_loader):\n",
        "#             data = data.to(device)\n",
        "#             recon_batch, mu, logvar = model(data)\n",
        "#             test_loss += loss_function(recon_batch, data, mu, logvar).item()\n",
        "#             if i == 0:\n",
        "#                 n = min(data.size(0), 8)\n",
        "#                 comparison = torch.cat(\n",
        "#                     [data[:n], recon_batch.view(batch_size, 1, 28, 28)[:n]]\n",
        "#                 )\n",
        "#                 save_image(\n",
        "#                     comparison.cpu(),\n",
        "#                     \"reconstruction.png\",\n",
        "#                     nrow=n,\n",
        "#                 )\n",
        "\n",
        "#     test_loss /= len(test_loader.dataset)\n",
        "#     if verbose >= 1:\n",
        "#         print(\"====> Test set loss: {:.4f}\".format(test_loss))\n",
        "\n",
        "\n",
        "# def VAE_main(train_loader, test_loader, batch_size, epochs, lr):\n",
        "#     device = torch.device(\"cuda\" if torch.cuda.is_available() else \"cpu\")\n",
        "#     kwargs = {\"num_workers\": 1, \"pin_memory\": True} if torch.cuda.is_available() else {}\n",
        "\n",
        "#     model = VAE(784, 400, 20).to(device)\n",
        "#     optimizer = torch.optim.Adam(model.parameters(), lr=lr)\n",
        "\n",
        "#     for epoch in tqdm(range(1, epochs + 1)):\n",
        "#         train(model, device, train_loader, optimizer, epoch)\n",
        "#         test(model, device, test_loader)\n",
        "#         with torch.no_grad():\n",
        "#             sample = torch.randn(25, 20).to(device)\n",
        "#             sample = model.decode(sample).cpu()\n",
        "#             save_image(\n",
        "#                 sample.view(25, 1, 28, 28),\n",
        "#                 \"sample_\" + str(epoch) + \".png\",\n",
        "#             )"
      ]
    },
    {
      "cell_type": "code",
      "execution_count": null,
      "metadata": {
        "id": "1fSxo3hsDZq2"
      },
      "outputs": [],
      "source": [
        "# mnist_train = datasets.MNIST(\n",
        "#     \"data/\", train=True, download=True, transform=transforms.ToTensor()\n",
        "# )\n",
        "# mnist_test = datasets.MNIST(\n",
        "#     \"data/\", train=False, download=True, transform=transforms.ToTensor()\n",
        "# )\n",
        "# train_loader = torch.utils.data.DataLoader(\n",
        "#     mnist_train,\n",
        "#     batch_size=batch_size,\n",
        "#     shuffle=True,\n",
        "# )\n",
        "# test_loader = torch.utils.data.DataLoader(\n",
        "#     mnist_test,\n",
        "#     batch_size=batch_size,\n",
        "#     shuffle=True,\n",
        "# )\n",
        "\n",
        "# VAE_main(train_loader, test_loader, batch_size=128, epochs=10, lr=1e-3)"
      ]
    },
    {
      "cell_type": "code",
      "execution_count": null,
      "metadata": {
        "id": "hZ7N-AauHtV5"
      },
      "outputs": [],
      "source": []
    }
  ],
  "metadata": {
    "colab": {
      "provenance": []
    },
    "kernelspec": {
      "display_name": "base",
      "language": "python",
      "name": "python3"
    },
    "language_info": {
      "codemirror_mode": {
        "name": "ipython",
        "version": 3
      },
      "file_extension": ".py",
      "mimetype": "text/x-python",
      "name": "python",
      "nbconvert_exporter": "python",
      "pygments_lexer": "ipython3",
      "version": "3.10.13"
    },
    "orig_nbformat": 4,
    "vscode": {
      "interpreter": {
        "hash": "fdc5d049eec9eaeec1c766624dece239ed4d1607671b6d493e340e6a292a2d6d"
      }
    }
  },
  "nbformat": 4,
  "nbformat_minor": 0
}
